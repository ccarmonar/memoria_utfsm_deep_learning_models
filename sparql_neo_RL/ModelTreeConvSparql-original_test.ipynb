{
 "cells": [
  {
   "cell_type": "markdown",
   "metadata": {},
   "source": [
    "## LIBRERIAS y CONSTANTES"
   ]
  },
  {
   "cell_type": "code",
   "execution_count": 1,
   "metadata": {},
   "outputs": [],
   "source": [
    "%%capture\n",
    "print(\"block\")"
   ]
  },
  {
   "cell_type": "code",
   "execution_count": 2,
   "metadata": {},
   "outputs": [
    {
     "name": "stdout",
     "output_type": "stream",
     "text": [
      "block\n"
     ]
    }
   ],
   "source": [
    "print(\"block\")"
   ]
  },
  {
   "cell_type": "code",
   "execution_count": 3,
   "metadata": {},
   "outputs": [
    {
     "name": "stdout",
     "output_type": "stream",
     "text": [
      "IS CUDA AVAILABLE: True\n"
     ]
    }
   ],
   "source": [
    "import numpy as np\n",
    "import pandas as pd\n",
    "import pickle\n",
    "import torch.nn as nn\n",
    "from torch.utils.data import DataLoader\n",
    "import json\n",
    "import plotly.express as px\n",
    "\n",
    "#Implement training process\n",
    "from model_trees_algebra import NeoRegression\n",
    "\n",
    "from sklearn.metrics import mean_squared_error, mean_absolute_error\n",
    "from sklearn.preprocessing import StandardScaler\n",
    "from sklearn.model_selection import train_test_split\n",
    "\n",
    "class BaoTrainingException(Exception):\n",
    "    pass\n",
    "\n",
    "URL = \"/media/data/ccarmona/memoria/dataset/\""
   ]
  },
  {
   "cell_type": "markdown",
   "metadata": {},
   "source": [
    "## CLEAN DATA"
   ]
  },
  {
   "cell_type": "code",
   "execution_count": 4,
   "metadata": {
    "pycharm": {
     "metadata": false,
     "name": "#%%\n"
    }
   },
   "outputs": [
    {
     "name": "stdout",
     "output_type": "stream",
     "text": [
      "Shape: train_val data (21703, 84)\n",
      "Shapes : Train: (17357, 84) Val: (4346, 84)\n",
      "Error in data ignored! [datasetnames ?var1]\n",
      "Error in data ignored! [reduced   [\"VAR_VAR_VARᶲNONE\"]]\n",
      "Error in data ignored! [reduced   [\"VAR_VAR_VARᶲNONE\"]]\n",
      "Error in data ignored! [reduced   [\"VAR_VAR_VARᶲNONE\"]]\n",
      "Error in data ignored! [reduced   [\"VAR_VAR_VARᶲNONE\"]]\n",
      "Error in data ignored! [bgp \"VAR_URI_VARᶲhttp://www.wikidata.org/prop/direct/P685\"]\n",
      "[ \"JOINᶲhttp://www.wikidata.org/prop/direct/P31ᶲhttp://schema.org/description\" ,   [ \"VAR_URI_URIᶲhttp://www.wikidata.org/prop/direct/P31\" ] ,   [ \"VAR_URI_LITERALᶲhttp://schema.org/description\" ] ] \n",
      "['JOINᶲhttp://www.wikidata.org/prop/direct/P31ᶲhttp://schema.org/description', ['VAR_URI_URIᶲhttp://www.wikidata.org/prop/direct/P31'], ['VAR_URI_LITERALᶲhttp://schema.org/description']]\n"
     ]
    }
   ],
   "source": [
    "def split_ds(all_data, val_rate, seed):\n",
    "    \"\"\"\n",
    "    Used  to keep a balance of sets with respect to runtime of queries. \n",
    "    test_rate is a rate of the total,\n",
    "    val_rate is a rate of the (total - test_rate)\n",
    "    :param all_data: Pandas dataframe with data\n",
    "    :param val_rate: Rate of the (total - test_rate)\n",
    "    :param seed: For replication of results, this fixes the seed of split method. \n",
    "    :return: \n",
    "    \"\"\"\n",
    "    ranges = {}\n",
    "    ranges['1_2'] = all_data[(all_data[\"time\"] > 0)    & (all_data[\"time\"] <= 2)]\n",
    "    ranges['2_3'] = all_data[(all_data[\"time\"] > 2)    & (all_data[\"time\"] <= 3)]\n",
    "    ranges['3_4'] = all_data[(all_data[\"time\"] > 3)    & (all_data[\"time\"] <= 4)]\n",
    "    ranges['4_5'] = all_data[(all_data[\"time\"] > 4)    & (all_data[\"time\"] <= 5)]\n",
    "    ranges['5_8'] = all_data[(all_data[\"time\"] > 5)    & (all_data[\"time\"] <= 8)]\n",
    "    ranges['8_10'] = all_data[(all_data[\"time\"] > 8)   & (all_data[\"time\"] <= 10)]\n",
    "    ranges['10_20'] =   all_data[(all_data[\"time\"] > 10) & (all_data[\"time\"] <= 20)]\n",
    "    ranges['20_30'] =   all_data[(all_data[\"time\"] > 20) & (all_data[\"time\"] <= 30)]\n",
    "    ranges['30_40'] =   all_data[(all_data[\"time\"] > 30) & (all_data[\"time\"] <= 40)]\n",
    "    ranges['40_50'] =   all_data[(all_data[\"time\"] > 40) & (all_data[\"time\"] <= 50)]\n",
    "    ranges['50_60'] =   all_data[(all_data[\"time\"] > 50) & (all_data[\"time\"] <= 60)]\n",
    "    ranges['60_80'] =   all_data[(all_data[\"time\"] > 60) & (all_data[\"time\"] <= 80)]\n",
    "    ranges['80_100'] =  all_data[(all_data[\"time\"] > 80) & (all_data[\"time\"] <= 100)]\n",
    "    ranges['100_150'] = all_data[(all_data[\"time\"] > 100) & (all_data[\"time\"] <= 150)]\n",
    "    ranges['150_200'] = all_data[(all_data[\"time\"] > 150) & (all_data[\"time\"] <= 200)]\n",
    "    ranges['200_250'] = all_data[(all_data[\"time\"] > 200) & (all_data[\"time\"] <= 250)]\n",
    "    ranges['250_last'] = all_data[(all_data[\"time\"] > 250)]\n",
    "    train_data = []\n",
    "    val_data = []\n",
    "    for rang in ranges.values():\n",
    "        if rang.shape[0] >= 3:\n",
    "            X_train, X_val = train_test_split(\n",
    "                rang, test_size=val_rate, shuffle=True,random_state=seed)\n",
    "\n",
    "            train_data.append(X_train)\n",
    "            val_data.append(X_val)\n",
    "    train_data_list = pd.concat(train_data)\n",
    "    val_data_list = pd.concat(val_data)\n",
    "    print(\"Shapes : Train: {} Val: {}\".format(train_data_list.shape, val_data_list.shape))\n",
    "    return train_data_list, val_data_list\n",
    "\n",
    "data_train_val_raw = pd.read_csv(URL + \"ds_trainval_pred_filtered.csv\", delimiter=\"ᶶ\", engine='python')\n",
    "ds_test_raw = pd.read_csv(URL + \"ds_test_pred_filtered.csv\", delimiter=\"ᶶ\", engine='python')\n",
    "\n",
    "data_train_val_prev = data_train_val_raw[data_train_val_raw['time'] <=65]\n",
    "ds_test_prev = ds_test_raw[ds_test_raw['time'] <=65]\n",
    "\n",
    "print(\"Shape: train_val data\" , data_train_val_prev.shape)\n",
    "def clear_error_tuples(x):\n",
    "    try:\n",
    "        #if x == '[\"VAR_URI_LITERALᶲhttp://www.wikidata.org/prop/direct/P2529\"]':\n",
    "         #   print(x)\n",
    "        #print(type(x))\n",
    "        json.loads(x)\n",
    "        return True\n",
    "    except:\n",
    "        print(\"Error in data ignored!\", x)\n",
    "        return False\n",
    "\n",
    "#Split Dataset\n",
    "ds_train_prev, ds_val_prev = split_ds(data_train_val_prev, 0.2,seed=None)\n",
    "#Remove bad rows\n",
    "ds_train  = ds_train_prev[ds_train_prev['trees'].apply(lambda x: clear_error_tuples(x))]\n",
    "ds_val  = ds_val_prev[ds_val_prev['trees'].apply(lambda x: clear_error_tuples(x))]\n",
    "ds_test  = ds_test_prev[ds_test_prev['trees'].apply(lambda x: clear_error_tuples(x))]\n",
    "\n",
    "\n",
    "x = ds_test_prev['trees'][20]\n",
    "print(x)\n",
    "x = json.loads(x)\n",
    "print(x)"
   ]
  },
  {
   "cell_type": "code",
   "execution_count": 5,
   "metadata": {},
   "outputs": [
    {
     "name": "stdout",
     "output_type": "stream",
     "text": [
      "---------SHAPES-----------\n",
      "----------RAW-----------\n",
      "shape data_train_val_raw: (25805, 84)\n",
      "shape ds_test_raw: (3528, 84)\n",
      "----------PREV----------\n",
      "shape ds_train_prev: (17357, 84)\n",
      "shape ds_val_prev: (4346, 84)\n",
      "shape ds_test_prev: (2963, 84)\n",
      "----------CLEAN----------\n",
      "shape ds_train: (17352, 84)\n",
      "shape ds_val: (4345, 84)\n",
      "shape ds_test: (2963, 84)\n",
      "-----------------------\n"
     ]
    }
   ],
   "source": [
    "print(\"---------SHAPES-----------\")\n",
    "print(\"----------RAW-----------\")\n",
    "print(f'shape data_train_val_raw: {data_train_val_raw.shape}')\n",
    "print(f'shape ds_test_raw: {ds_test_raw.shape}')\n",
    "print(\"----------PREV----------\")\n",
    "print(f'shape ds_train_prev: {ds_train_prev.shape}')\n",
    "print(f'shape ds_val_prev: {ds_val_prev.shape}')\n",
    "print(f'shape ds_test_prev: {ds_test_prev.shape}')\n",
    "print(\"----------CLEAN----------\")\n",
    "print(f'shape ds_train: {ds_train.shape}')\n",
    "print(f'shape ds_val: {ds_val.shape}')\n",
    "print(f'shape ds_test: {ds_test.shape}')\n",
    "print(\"-----------------------\")"
   ]
  },
  {
   "cell_type": "code",
   "execution_count": 6,
   "metadata": {
    "pycharm": {
     "metadata": false,
     "name": "#%%\n"
    }
   },
   "outputs": [],
   "source": [
    "def getpredictions_info(x_val_tree, x_val_query, y_val):\n",
    "    \"\"\"\n",
    "    Get statistics by a set of data. Need the previous trained model(availablre  form reg object).\n",
    "    :param x_val_tree: Plan level features.\n",
    "    :param x_val_query: Query level features.\n",
    "    :param y_val: Real execution time\n",
    "    :return: Dict with predictions and metrics (mae, rmse, mse)\n",
    "    \"\"\"\n",
    "    Xt, Xq, Yv = reg.json_loads(x_val_tree, x_val_query.values, y_val)\n",
    "    Xt = [reg.fix_tree(x) for x in Xt]\n",
    "    Xt = reg.tree_transform.transform(Xt)\n",
    "\n",
    "    pairs_val = list(zip(list(zip(Xt, Xq)), Yv))\n",
    "    dataset_val = DataLoader(pairs_val, batch_size=64, num_workers=0, shuffle=False, collate_fn=reg.collate_with_card)\n",
    "    results_val = reg.predict_best(dataset_val)\n",
    "    y_pred_val, y_real_val = zip(*results_val)\n",
    "    mseval = mean_squared_error(y_real_val, y_pred_val)\n",
    "    maeval = mean_absolute_error(y_real_val, y_pred_val)\n",
    "    rmseval = np.sqrt(mseval)\n",
    "    return {\"pred\": y_pred_val, \"real\" : y_real_val, \"mse\": mseval, \"mae\": maeval, \"rmse\": rmseval, \"history\": reg.history}\n",
    "\n",
    "def getmax(x):\n",
    "    lista=  list(x.values())\n",
    "    maximo = 0\n",
    "    for el in lista:\n",
    "        if (maximo < float(el)):\n",
    "            maximo = float(el)\n",
    "    return maximo\n",
    "\n",
    "def pred2index_dict(x, pred_to_index, maxcardinality):\n",
    "    \"\"\"\n",
    "    get histogram from cardinality features. the values is normalized using the max cardinality of predicate in dataset.\n",
    "    :param x: Tree data from x row sample.\n",
    "    :param pred_to_index: dict with predicates and their index.\n",
    "    :param maxcardinality: Max cardiniality in the dataset.\n",
    "    :return: dictionary with feature json_cardinality.\n",
    "    \"\"\"\n",
    "    resp = {}\n",
    "    x = json.loads(x)\n",
    "    for el in x.keys():\n",
    "        if el in pred_to_index:\n",
    "            resp[pred_to_index[el]] = float(x[el])/maxcardinality\n",
    "    return resp\n",
    "\n",
    "def prepare_query_level_data(x_train_query, x_val_query, x_test_query):\n",
    "    \"\"\" Apply StandardScaller to columns except for json_cardinality that need other proccess\"\"\"\n",
    "    maxcardinality =  x_train_query['json_cardinality'].apply(lambda x: json.loads(x)).apply(lambda x: getmax(x)).max()\n",
    "    #Scale x_query data.\n",
    "    xqtrain = x_train_query.drop(columns=['json_cardinality'])\n",
    "    xqval   = x_val_query.drop(columns=['json_cardinality'])\n",
    "    xqtest   = x_test_query.drop(columns=['json_cardinality'])\n",
    "\n",
    "    scalerx = StandardScaler()\n",
    "    x_train_scaled = scalerx.fit_transform(xqtrain)\n",
    "    x_val_scaled = scalerx.transform(xqval)\n",
    "    x_test_scaled = scalerx.transform(xqtest)\n",
    "\n",
    "    x_train_query =pd.concat([pd.DataFrame(x_train_scaled, index=xqtrain.index, columns=xqtrain.columns),x_train_query[['json_cardinality']]], axis=1)\n",
    "    x_val_query =  pd.concat([pd.DataFrame(x_val_scaled,   index=xqval.index, columns=xqval.columns),x_val_query[['json_cardinality']]], axis=1)\n",
    "    x_test_query =  pd.concat([pd.DataFrame(x_test_scaled,   index=xqtest.index, columns=xqtest.columns),x_test_query[['json_cardinality']]], axis=1)\n",
    "\n",
    "    x_train_query['json_cardinality'] = x_train_query['json_cardinality'].apply(lambda x: pred2index_dict(x, reg.get_pred(),maxcardinality))\n",
    "    x_val_query['json_cardinality'] = x_val_query['json_cardinality'].apply(lambda x: pred2index_dict(x, reg.get_pred(), maxcardinality))\n",
    "    x_test_query['json_cardinality'] = x_test_query['json_cardinality'].apply(lambda x: pred2index_dict(x, reg.get_pred(), maxcardinality))\n",
    "\n",
    "    return x_train_query, x_val_query, x_test_query\n"
   ]
  },
  {
   "cell_type": "markdown",
   "metadata": {
    "pycharm": {}
   },
   "source": [
    "### TreeConv Neural Net"
   ]
  },
  {
   "cell_type": "code",
   "execution_count": 7,
   "metadata": {
    "jupyter": {
     "outputs_hidden": true
    },
    "pycharm": {}
   },
   "outputs": [
    {
     "name": "stdout",
     "output_type": "stream",
     "text": [
      "Size Train: 17352, Val 4345\n"
     ]
    }
   ],
   "source": [
    "# Columns to use.\n",
    "list_columns = ['assign', 'bgp', 'distinct', 'extend', 'filter', 'graph', 'group',\n",
    "'join', 'leftjoin','minus', 'multi', 'notoneof', 'order', 'path*',  'project', 'reduced',\n",
    "'sequence', 'slice', 'tolist', 'top','treesize', 'triple', 'union' ,\n",
    "'path+', 'path?', 'pathN*', 'pathN+', 'pcs0', 'pcs1', 'pcs2', 'pcs3', 'pcs4',\n",
    "'pcs5', 'pcs6', 'pcs7', 'pcs8', 'pcs9', 'pcs10', 'pcs11','pcs12', 'pcs13',\n",
    "'pcs14', 'pcs15', 'pcs16', 'pcs17', 'pcs18', 'pcs19', 'pcs20', 'pcs21', 'pcs22', 'pcs23', 'pcs24',\n",
    "                'filter_bound', 'filter_contains', 'filter_eq', 'filter_exists',\n",
    "       'filter_ge', 'filter_gt', 'filter_isBlank', 'filter_isIRI',\n",
    "       'filter_isLiteral', 'filter_lang', 'filter_langMatches', 'filter_le',\n",
    "       'filter_lt', 'filter_ne', 'filter_not', 'filter_notexists', 'filter_or',\n",
    "       'filter_regex', 'filter_sameTerm', 'filter_str', 'filter_strends',\n",
    "       'filter_strstarts', 'filter_subtract', 'has_slice', 'max_slice_limit', 'max_slice_start','json_cardinality']\n",
    "folds_execution = {}\n",
    "\n",
    "print(\"Size Train: {}, Val {}\".format(ds_train.shape[0], ds_val.shape[0]))\n"
   ]
  },
  {
   "cell_type": "code",
   "execution_count": 8,
   "metadata": {},
   "outputs": [],
   "source": [
    "# get query level data\n",
    "x_train_query = ds_train[list_columns]\n",
    "x_val_query   = ds_val[list_columns]\n",
    "\n",
    "# get plan level data\n",
    "x_train_tree = ds_train['trees'].values\n",
    "x_val_tree = ds_val['trees'].values\n",
    "\n",
    "y_train = ds_train['time'].values\n",
    "y_val = ds_val['time'].values\n",
    "\n",
    "x_test_tree = ds_test['trees'].values\n",
    "y_test = ds_test['time'].values\n",
    "x_test_query   = ds_test[list_columns]"
   ]
  },
  {
   "cell_type": "code",
   "execution_count": 9,
   "metadata": {
    "scrolled": true
   },
   "outputs": [
    {
     "name": "stdout",
     "output_type": "stream",
     "text": [
      "---------SHAPES-----------\n",
      "----------CLEAN-----------\n",
      "shape ds_train: (17352, 84)\n",
      "shape ds_val  : (4345, 84)\n",
      "shape ds_test : (2963, 84)\n",
      "\n",
      "-----TRAIN AND VAL DATA-----\n",
      "----------x_query_data----------\n",
      "shape x_val_query  : (4345, 79)\n",
      "shape x_train_query: (17352, 79)\n",
      "----------x_plan_level_data----------\n",
      "shape x_val_tree  : (4345,)\n",
      "shape x_train_tree: (17352,)\n",
      "----------y_data------------\n",
      "shape y_val  : (4345,)\n",
      "shape y_train: (17352,)\n",
      "\n",
      "----------TEST DATA----------\n",
      "shape x_test_tree : (2963,)\n",
      "shape x_test_query: (2963, 79)\n",
      "shape y_test      : (2963,)\n",
      "-----------------------\n"
     ]
    }
   ],
   "source": [
    "print(\"---------SHAPES-----------\")\n",
    "print(\"----------CLEAN-----------\")\n",
    "print(f'shape ds_train: {ds_train.shape}')\n",
    "print(f'shape ds_val  : {ds_val.shape}')\n",
    "print(f'shape ds_test : {ds_test.shape}')\n",
    "print(\"\")\n",
    "print(\"-----TRAIN AND VAL DATA-----\")\n",
    "print(\"----------x_query_data----------\")\n",
    "print(f'shape x_val_query  : {x_val_query.shape}')\n",
    "print(f'shape x_train_query: {x_train_query.shape}')\n",
    "print(\"----------x_plan_level_data----------\")\n",
    "print(f'shape x_val_tree  : {x_val_tree.shape}')\n",
    "print(f'shape x_train_tree: {x_train_tree.shape}')\n",
    "print(\"----------y_data------------\")\n",
    "print(f'shape y_val  : {y_val.shape}')\n",
    "print(f'shape y_train: {y_train.shape}')\n",
    "print(\"\")\n",
    "print(\"----------TEST DATA----------\")\n",
    "print(f'shape x_test_tree : {x_test_tree.shape}')\n",
    "print(f'shape x_test_query: {x_test_query.shape}')\n",
    "print(f'shape y_test      : {y_test.shape}')\n",
    "print(\"-----------------------\")\n"
   ]
  },
  {
   "cell_type": "code",
   "execution_count": 10,
   "metadata": {
    "scrolled": true
   },
   "outputs": [
    {
     "data": {
      "text/plain": [
       "1403214524.0"
      ]
     },
     "execution_count": 10,
     "metadata": {},
     "output_type": "execute_result"
    }
   ],
   "source": [
    "maxcardinality =  x_train_query['json_cardinality'].apply(lambda x: json.loads(x)).apply(lambda x: getmax(x)).max()\n",
    "maxcardinality"
   ]
  },
  {
   "cell_type": "markdown",
   "metadata": {},
   "source": [
    "## NeoRegression\n",
    "Esta en model_trees_algebra.py"
   ]
  },
  {
   "cell_type": "code",
   "execution_count": 11,
   "metadata": {},
   "outputs": [
    {
     "name": "stdout",
     "output_type": "stream",
     "text": [
      "NeoRegression, __init__ method active\n",
      "Model optimizer: Adam lr: 0.00015\n",
      "SPARQLTreeFeaturizer, __init__ method active\n"
     ]
    }
   ],
   "source": [
    "aec_dir = ''\n",
    "\n",
    "verbose=True\n",
    "reg = NeoRegression(\n",
    "     aec={'train_aec': False, 'use_aec': True,'aec_file': '', 'aec_epochs': 200},\n",
    "     epochs=400,\n",
    "     maxcardinality=maxcardinality,\n",
    "     in_channels_neo_net=512,\n",
    "     tree_units=[512, 256, 128],\n",
    "     tree_units_dense=[64, 32],\n",
    "     early_stop_patience=10,\n",
    "     early_stop_initial_patience=180,\n",
    "     tree_activation_tree=nn.LeakyReLU,\n",
    "     tree_activation_dense=nn.ReLU,\n",
    "    optimizer={'optimizer': \"Adam\",'args':{\"lr\":0.00015}},\n",
    "    figimage_size=(18,18),\n",
    "    start_history_from_epoch=3\n",
    ")\n"
   ]
  },
  {
   "cell_type": "code",
   "execution_count": 12,
   "metadata": {},
   "outputs": [],
   "source": [
    "from IPython.utils import io"
   ]
  },
  {
   "cell_type": "code",
   "execution_count": 13,
   "metadata": {
    "scrolled": true
   },
   "outputs": [
    {
     "name": "stdout",
     "output_type": "stream",
     "text": [
      "Trees tranformed!!!\n"
     ]
    }
   ],
   "source": [
    "#Fit the transformer tree data\n",
    "    ### Esto en el fondo mapea tanto  JOINS ,LEFT JOINS, los tipos de triple como VAR_URI_VAR, VAR_VAR_LITERAL ETC.. \n",
    "    ### ASI COMO TAMBIEN MAPEA LOS PREDICADOS a un indice\n",
    "with io.capture_output() as captured:\n",
    "    reg.fit_transform_tree_data(ds_train, ds_val, ds_test)\n",
    "print(\"Trees tranformed!!!\")\n"
   ]
  },
  {
   "cell_type": "code",
   "execution_count": null,
   "metadata": {},
   "outputs": [],
   "source": []
  },
  {
   "cell_type": "code",
   "execution_count": 14,
   "metadata": {},
   "outputs": [
    {
     "name": "stdout",
     "output_type": "stream",
     "text": [
      "END PREPARE QUERY LEVEL DATA\n"
     ]
    }
   ],
   "source": [
    "with io.capture_output() as captured:\n",
    "    x_train_query, x_val_query, x_test_query =  prepare_query_level_data(x_train_query, x_val_query, x_test_query)\n",
    "print(\"END PREPARE QUERY LEVEL DATA\")"
   ]
  },
  {
   "cell_type": "code",
   "execution_count": 15,
   "metadata": {
    "scrolled": false
   },
   "outputs": [
    {
     "name": "stdout",
     "output_type": "stream",
     "text": [
      "NeoRegression, fit method active\n",
      "X_train loaded\n",
      "X_val loaded\n",
      "Transforming Trees: se pasan a una tupla donde cada número representa lo que se obtiene en reg.fit_transform_tree_data(ds_train, ds_val, ds_test)\n",
      "determine the initial number of channels, io_dim 1872\n",
      "Initial input channels of tree model: None\n",
      "Activation function in treeConv layers: <class 'torch.nn.modules.activation.LeakyReLU'>\n",
      "Activation function in tree dense output layers: <class 'torch.nn.modules.activation.ReLU'>\n",
      "[BinaryTreeConvWithQData(\n",
      "  (weights): Conv1d(2112, 512, kernel_size=(3,), stride=(3,))\n",
      "), TreeLayerNorm(), TreeActivation(\n",
      "  (activation): LeakyReLU(negative_slope=0.01)\n",
      "), BinaryTreeConv(\n",
      "  (weights): Conv1d(512, 256, kernel_size=(3,), stride=(3,))\n",
      "), TreeLayerNorm(), TreeActivation(\n",
      "  (activation): LeakyReLU(negative_slope=0.01)\n",
      "), BinaryTreeConv(\n",
      "  (weights): Conv1d(256, 128, kernel_size=(3,), stride=(3,))\n",
      "), TreeLayerNorm(), TreeActivation(\n",
      "  (activation): LeakyReLU(negative_slope=0.01)\n",
      "), DynamicPooling(), Linear(in_features=128, out_features=64, bias=True), ReLU(), Linear(in_features=64, out_features=32, bias=True), ReLU(), Linear(in_features=32, out_features=1, bias=True)]\n",
      "OPTIMIZADO A UTILIZAR:  Adam (\n",
      "Parameter Group 0\n",
      "    amsgrad: False\n",
      "    betas: (0.9, 0.999)\n",
      "    eps: 1e-08\n",
      "    lr: 0.00015\n",
      "    weight_decay: 0\n",
      ")\n",
      "Max epochs to run: 400\n",
      "2021-11-09 15:20:59.479708 Epoch 0, Training loss 0.00013918205854758075\n",
      "NeoRegression, predict method active\n",
      "SALIMOOOOOOOOOOOOOOOOOO\n",
      "==> Epoch 0,\tTRAIN_LOSS: 631.8899950275676\t_TRAIN_RMSE: 25.137422203312088,\tVAL_LOSS: 1011.4924135832557,\tVAL_RMSE: 31.803968519404236\n",
      "Initial patience 180\n",
      "NeoRegression, scatter_plot_history method active\n",
      "2021-11-09 15:21:24.450178 Epoch 1, Training loss 6.089997860006053e-05\n",
      "NeoRegression, predict method active\n",
      "SALIMOOOOOOOOOOOOOOOOOO\n",
      "==> Epoch 1,\tTRAIN_LOSS: 213.58650336423378\t_TRAIN_RMSE: 14.614598980616396,\tVAL_LOSS: 68.89653545358642,\tVAL_RMSE: 8.300393692686296\n",
      "Initial patience 179\n",
      "2021-11-09 15:21:45.004928 Epoch 2, Training loss 4.60804136454653e-05\n",
      "NeoRegression, predict method active\n",
      "SALIMOOOOOOOOOOOOOOOOOO\n",
      "==> Epoch 2,\tTRAIN_LOSS: 46.272289274226225\t_TRAIN_RMSE: 6.802373797008381,\tVAL_LOSS: 51.301470496191925,\tVAL_RMSE: 7.162504484898555\n",
      "Initial patience 178\n",
      "2021-11-09 15:22:05.439204 Epoch 3, Training loss 4.122131340849982e-05\n",
      "NeoRegression, predict method active\n",
      "SALIMOOOOOOOOOOOOOOOOOO\n",
      "==> Epoch 3,\tTRAIN_LOSS: 44.50424828464616\t_TRAIN_RMSE: 6.671150446860433,\tVAL_LOSS: 46.75860330130064,\tVAL_RMSE: 6.838026272346475\n",
      "Initial patience 177\n",
      "2021-11-09 15:22:25.921270 Epoch 4, Training loss 3.8072079040481114e-05\n",
      "NeoRegression, predict method active\n",
      "SALIMOOOOOOOOOOOOOOOOOO\n",
      "==> Epoch 4,\tTRAIN_LOSS: 34.53250267234995\t_TRAIN_RMSE: 5.876436222094982,\tVAL_LOSS: 45.10513118521892,\tVAL_RMSE: 6.716035377007698\n",
      "Initial patience 176\n",
      "NeoRegression, scatter_plot_history method active\n",
      "2021-11-09 15:22:51.024750 Epoch 5, Training loss 3.5563893799624745e-05\n",
      "NeoRegression, predict method active\n",
      "SALIMOOOOOOOOOOOOOOOOOO\n",
      "==> Epoch 5,\tTRAIN_LOSS: 34.89900440124327\t_TRAIN_RMSE: 5.907537930580156,\tVAL_LOSS: 41.280838491617715,\tVAL_RMSE: 6.425016614112193\n",
      "Initial patience 175\n",
      "2021-11-09 15:23:11.668251 Epoch 6, Training loss 3.476324221816165e-05\n",
      "NeoRegression, predict method active\n",
      "SALIMOOOOOOOOOOOOOOOOOO\n",
      "==> Epoch 6,\tTRAIN_LOSS: 32.10027027443914\t_TRAIN_RMSE: 5.66571004150752,\tVAL_LOSS: 43.18388716231954,\tVAL_RMSE: 6.571444830653267\n",
      "Initial patience 174\n",
      "2021-11-09 15:23:31.222202 Epoch 7, Training loss 3.408478020781797e-05\n",
      "NeoRegression, predict method active\n",
      "SALIMOOOOOOOOOOOOOOOOOO\n",
      "==> Epoch 7,\tTRAIN_LOSS: 33.875302720661345\t_TRAIN_RMSE: 5.820249369284906,\tVAL_LOSS: 42.56056818067707,\tVAL_RMSE: 6.52384611871533\n",
      "Initial patience 173\n",
      "2021-11-09 15:23:50.717511 Epoch 8, Training loss 3.335540496966296e-05\n",
      "NeoRegression, predict method active\n",
      "SALIMOOOOOOOOOOOOOOOOOO\n",
      "==> Epoch 8,\tTRAIN_LOSS: 32.863789956957\t_TRAIN_RMSE: 5.732694825032726,\tVAL_LOSS: 37.649471400670826,\tVAL_RMSE: 6.1359165086131044\n",
      "Initial patience 172\n",
      "NeoRegression, scatter_plot_history method active\n",
      "2021-11-09 15:24:15.122526 Epoch 9, Training loss 3.28066180404314e-05\n",
      "NeoRegression, predict method active\n",
      "SALIMOOOOOOOOOOOOOOOOOO\n",
      "==> Epoch 9,\tTRAIN_LOSS: 29.790281077450437\t_TRAIN_RMSE: 5.458047368560522,\tVAL_LOSS: 40.71900727923765,\tVAL_RMSE: 6.3811446684147235\n",
      "Initial patience 171\n",
      "2021-11-09 15:24:34.769914 Epoch 10, Training loss 3.2176329266640156e-05\n",
      "NeoRegression, predict method active\n",
      "SALIMOOOOOOOOOOOOOOOOOO\n",
      "==> Epoch 10,\tTRAIN_LOSS: 30.099070401756094\t_TRAIN_RMSE: 5.486261969843957,\tVAL_LOSS: 37.39687082512428,\tVAL_RMSE: 6.115298097813735\n",
      "Initial patience 170\n",
      "2021-11-09 15:24:54.231819 Epoch 11, Training loss 3.080644458139582e-05\n",
      "NeoRegression, predict method active\n",
      "SALIMOOOOOOOOOOOOOOOOOO\n",
      "==> Epoch 11,\tTRAIN_LOSS: 25.954457265787703\t_TRAIN_RMSE: 5.094551723732688,\tVAL_LOSS: 36.50553881621005,\tVAL_RMSE: 6.041981365099535\n",
      "Initial patience 169\n",
      "2021-11-09 15:25:14.939791 Epoch 12, Training loss 3.0929666457718495e-05\n",
      "NeoRegression, predict method active\n",
      "SALIMOOOOOOOOOOOOOOOOOO\n",
      "==> Epoch 12,\tTRAIN_LOSS: 26.77499036893321\t_TRAIN_RMSE: 5.174455562562424,\tVAL_LOSS: 36.729226320778494,\tVAL_RMSE: 6.060464200106993\n",
      "Initial patience 168\n",
      "NeoRegression, scatter_plot_history method active\n",
      "2021-11-09 15:25:40.039914 Epoch 13, Training loss 2.972160471717776e-05\n",
      "NeoRegression, predict method active\n",
      "SALIMOOOOOOOOOOOOOOOOOO\n",
      "==> Epoch 13,\tTRAIN_LOSS: 26.34063280132383\t_TRAIN_RMSE: 5.132312617263667,\tVAL_LOSS: 33.130083728422,\tVAL_RMSE: 5.75587384577025\n",
      "Initial patience 167\n",
      "2021-11-09 15:26:00.555470 Epoch 14, Training loss 2.9307476762341014e-05\n",
      "NeoRegression, predict method active\n",
      "SALIMOOOOOOOOOOOOOOOOOO\n",
      "==> Epoch 14,\tTRAIN_LOSS: 27.677103253452284\t_TRAIN_RMSE: 5.2609032735312935,\tVAL_LOSS: 35.65407043785143,\tVAL_RMSE: 5.971102949862063\n",
      "Initial patience 166\n",
      "2021-11-09 15:26:20.773740 Epoch 15, Training loss 2.8656960115151196e-05\n",
      "NeoRegression, predict method active\n",
      "SALIMOOOOOOOOOOOOOOOOOO\n",
      "==> Epoch 15,\tTRAIN_LOSS: 23.871576376126956\t_TRAIN_RMSE: 4.8858547231909135,\tVAL_LOSS: 35.934973878902674,\tVAL_RMSE: 5.994578707374078\n",
      "Initial patience 165\n",
      "2021-11-09 15:26:41.551589 Epoch 16, Training loss 2.8898203989191167e-05\n",
      "NeoRegression, predict method active\n",
      "SALIMOOOOOOOOOOOOOOOOOO\n",
      "==> Epoch 16,\tTRAIN_LOSS: 24.262182379127836\t_TRAIN_RMSE: 4.925665678781685,\tVAL_LOSS: 37.257565630276304,\tVAL_RMSE: 6.103897576981145\n",
      "Initial patience 164\n",
      "NeoRegression, scatter_plot_history method active\n",
      "2021-11-09 15:27:06.724144 Epoch 17, Training loss 2.927885903477309e-05\n",
      "NeoRegression, predict method active\n",
      "SALIMOOOOOOOOOOOOOOOOOO\n",
      "==> Epoch 17,\tTRAIN_LOSS: 27.924180076219212\t_TRAIN_RMSE: 5.2843334561909705,\tVAL_LOSS: 34.894440501386114,\tVAL_RMSE: 5.907151640290446\n",
      "Initial patience 163\n",
      "2021-11-09 15:27:27.428083 Epoch 18, Training loss 2.780056465812415e-05\n",
      "NeoRegression, predict method active\n",
      "SALIMOOOOOOOOOOOOOOOOOO\n",
      "==> Epoch 18,\tTRAIN_LOSS: 23.878509838203012\t_TRAIN_RMSE: 4.886564216113712,\tVAL_LOSS: 33.35763581873801,\tVAL_RMSE: 5.775606965396625\n",
      "Initial patience 162\n",
      "2021-11-09 15:27:48.004540 Epoch 19, Training loss 2.8658390799096215e-05\n",
      "NeoRegression, predict method active\n",
      "SALIMOOOOOOOOOOOOOOOOOO\n",
      "==> Epoch 19,\tTRAIN_LOSS: 27.31010000387774\t_TRAIN_RMSE: 5.2259066202791775,\tVAL_LOSS: 90.02685155172124,\tVAL_RMSE: 9.488248076000186\n",
      "Initial patience 161\n",
      "2021-11-09 15:28:08.711737 Epoch 20, Training loss 2.816184671362887e-05\n",
      "NeoRegression, predict method active\n",
      "SALIMOOOOOOOOOOOOOOOOOO\n",
      "==> Epoch 20,\tTRAIN_LOSS: 28.110823629835377\t_TRAIN_RMSE: 5.301964129436881,\tVAL_LOSS: 33.00952305158392,\tVAL_RMSE: 5.745391461996642\n",
      "Initial patience 160\n",
      "NeoRegression, scatter_plot_history method active\n",
      "2021-11-09 15:28:33.898891 Epoch 21, Training loss 2.685495777372138e-05\n",
      "NeoRegression, predict method active\n",
      "SALIMOOOOOOOOOOOOOOOOOO\n",
      "==> Epoch 21,\tTRAIN_LOSS: 21.947160234898185\t_TRAIN_RMSE: 4.684779635681724,\tVAL_LOSS: 35.33214838831712,\tVAL_RMSE: 5.9440851599146125\n",
      "Initial patience 159\n",
      "2021-11-09 15:28:54.133822 Epoch 22, Training loss 2.7190995138207216e-05\n",
      "NeoRegression, predict method active\n",
      "SALIMOOOOOOOOOOOOOOOOOO\n",
      "==> Epoch 22,\tTRAIN_LOSS: 23.367297409127694\t_TRAIN_RMSE: 4.833973252835363,\tVAL_LOSS: 34.39817356607034,\tVAL_RMSE: 5.864995615179123\n",
      "Initial patience 158\n"
     ]
    },
    {
     "name": "stdout",
     "output_type": "stream",
     "text": [
      "2021-11-09 15:29:14.915178 Epoch 23, Training loss 2.6385186026682498e-05\n",
      "NeoRegression, predict method active\n",
      "SALIMOOOOOOOOOOOOOOOOOO\n",
      "==> Epoch 23,\tTRAIN_LOSS: 22.239740029529653\t_TRAIN_RMSE: 4.715902885930715,\tVAL_LOSS: 34.010207367289794,\tVAL_RMSE: 5.831827103686271\n",
      "Initial patience 157\n",
      "2021-11-09 15:29:35.532534 Epoch 24, Training loss 2.6657516409173303e-05\n",
      "NeoRegression, predict method active\n",
      "SALIMOOOOOOOOOOOOOOOOOO\n",
      "==> Epoch 24,\tTRAIN_LOSS: 22.226738698100537\t_TRAIN_RMSE: 4.714524228180458,\tVAL_LOSS: 33.15953373553823,\tVAL_RMSE: 5.758431534327575\n",
      "Initial patience 156\n",
      "NeoRegression, scatter_plot_history method active\n",
      "2021-11-09 15:30:00.683261 Epoch 25, Training loss 2.589235089601319e-05\n",
      "NeoRegression, predict method active\n",
      "SALIMOOOOOOOOOOOOOOOOOO\n",
      "==> Epoch 25,\tTRAIN_LOSS: 21.951760698210673\t_TRAIN_RMSE: 4.685270610990434,\tVAL_LOSS: 40.5281947304287,\tVAL_RMSE: 6.366175832509553\n",
      "Initial patience 155\n",
      "2021-11-09 15:30:21.291173 Epoch 26, Training loss 2.6518412643693513e-05\n",
      "NeoRegression, predict method active\n",
      "SALIMOOOOOOOOOOOOOOOOOO\n",
      "==> Epoch 26,\tTRAIN_LOSS: 23.15051380092974\t_TRAIN_RMSE: 4.811498082814722,\tVAL_LOSS: 31.903193993234886,\tVAL_RMSE: 5.648291245432984\n",
      "Initial patience 154\n",
      "2021-11-09 15:30:41.681520 Epoch 27, Training loss 2.6267928794421843e-05\n",
      "NeoRegression, predict method active\n",
      "SALIMOOOOOOOOOOOOOOOOOO\n",
      "==> Epoch 27,\tTRAIN_LOSS: 21.590269803089406\t_TRAIN_RMSE: 4.646533095017123,\tVAL_LOSS: 35.054093829859625,\tVAL_RMSE: 5.920649781051031\n",
      "Initial patience 153\n",
      "2021-11-09 15:31:02.642973 Epoch 28, Training loss 2.6785860943595297e-05\n",
      "NeoRegression, predict method active\n",
      "SALIMOOOOOOOOOOOOOOOOOO\n",
      "==> Epoch 28,\tTRAIN_LOSS: 21.756497606945945\t_TRAIN_RMSE: 4.664386091110591,\tVAL_LOSS: 34.64113813810172,\tVAL_RMSE: 5.885672275798383\n",
      "Initial patience 152\n",
      "NeoRegression, scatter_plot_history method active\n",
      "2021-11-09 15:31:27.771839 Epoch 29, Training loss 2.5973887157394425e-05\n",
      "NeoRegression, predict method active\n",
      "SALIMOOOOOOOOOOOOOOOOOO\n",
      "==> Epoch 29,\tTRAIN_LOSS: 23.153806023776117\t_TRAIN_RMSE: 4.811840191005528,\tVAL_LOSS: 31.39201324125764,\tVAL_RMSE: 5.602857596018093\n",
      "Initial patience 151\n",
      "2021-11-09 15:31:47.631110 Epoch 30, Training loss 2.5216587346221786e-05\n",
      "NeoRegression, predict method active\n",
      "SALIMOOOOOOOOOOOOOOOOOO\n",
      "==> Epoch 30,\tTRAIN_LOSS: 20.512718339195327\t_TRAIN_RMSE: 4.529096856901531,\tVAL_LOSS: 31.075719317898272,\tVAL_RMSE: 5.574560011148707\n",
      "Initial patience 150\n",
      "2021-11-09 15:32:08.067501 Epoch 31, Training loss 2.5204296612629814e-05\n",
      "NeoRegression, predict method active\n",
      "SALIMOOOOOOOOOOOOOOOOOO\n",
      "==> Epoch 31,\tTRAIN_LOSS: 20.908270798465082\t_TRAIN_RMSE: 4.5725562652049545,\tVAL_LOSS: 34.34523821800897,\tVAL_RMSE: 5.860481056876558\n",
      "Initial patience 149\n",
      "2021-11-09 15:32:28.464486 Epoch 32, Training loss 2.5705879104415225e-05\n",
      "NeoRegression, predict method active\n",
      "SALIMOOOOOOOOOOOOOOOOOO\n",
      "==> Epoch 32,\tTRAIN_LOSS: 21.501037232153156\t_TRAIN_RMSE: 4.636921094018438,\tVAL_LOSS: 31.249024642660657,\tVAL_RMSE: 5.590082704456228\n",
      "Initial patience 148\n",
      "NeoRegression, scatter_plot_history method active\n",
      "2021-11-09 15:32:53.424670 Epoch 33, Training loss 2.5394196303133685e-05\n",
      "NeoRegression, predict method active\n",
      "SALIMOOOOOOOOOOOOOOOOOO\n",
      "==> Epoch 33,\tTRAIN_LOSS: 22.563123679262482\t_TRAIN_RMSE: 4.7500656499950065,\tVAL_LOSS: 32.12212337677648,\tVAL_RMSE: 5.667638253874049\n",
      "Initial patience 147\n",
      "2021-11-09 15:33:14.284693 Epoch 34, Training loss 2.481035859204501e-05\n",
      "NeoRegression, predict method active\n",
      "SALIMOOOOOOOOOOOOOOOOOO\n",
      "==> Epoch 34,\tTRAIN_LOSS: 20.720147600778425\t_TRAIN_RMSE: 4.551938883682252,\tVAL_LOSS: 31.346164710314568,\tVAL_RMSE: 5.598764570002436\n",
      "Initial patience 146\n",
      "2021-11-09 15:33:34.919942 Epoch 35, Training loss 2.4413049370422536e-05\n",
      "NeoRegression, predict method active\n",
      "SALIMOOOOOOOOOOOOOOOOOO\n",
      "==> Epoch 35,\tTRAIN_LOSS: 20.08600798346557\t_TRAIN_RMSE: 4.48174162390756,\tVAL_LOSS: 37.011433966258394,\tVAL_RMSE: 6.0837023239355155\n",
      "Initial patience 145\n",
      "2021-11-09 15:33:55.557660 Epoch 36, Training loss 2.4104840188251144e-05\n",
      "NeoRegression, predict method active\n",
      "SALIMOOOOOOOOOOOOOOOOOO\n",
      "==> Epoch 36,\tTRAIN_LOSS: 19.960771543042036\t_TRAIN_RMSE: 4.467747927428542,\tVAL_LOSS: 31.55296932885219,\tVAL_RMSE: 5.617202980919613\n",
      "Initial patience 144\n",
      "NeoRegression, scatter_plot_history method active\n",
      "2021-11-09 15:34:20.580474 Epoch 37, Training loss 2.4452364933435327e-05\n",
      "NeoRegression, predict method active\n",
      "SALIMOOOOOOOOOOOOOOOOOO\n",
      "==> Epoch 37,\tTRAIN_LOSS: 20.0229309895924\t_TRAIN_RMSE: 4.4746989831263955,\tVAL_LOSS: 32.42002352362167,\tVAL_RMSE: 5.693858403896401\n",
      "Initial patience 143\n",
      "2021-11-09 15:34:41.020562 Epoch 38, Training loss 2.4384840476458266e-05\n",
      "NeoRegression, predict method active\n",
      "SALIMOOOOOOOOOOOOOOOOOO\n",
      "==> Epoch 38,\tTRAIN_LOSS: 20.250751318417098\t_TRAIN_RMSE: 4.500083479049816,\tVAL_LOSS: 31.282931320147064,\tVAL_RMSE: 5.593114634990692\n",
      "Initial patience 142\n",
      "2021-11-09 15:35:01.539668 Epoch 39, Training loss 2.4467287081455445e-05\n",
      "NeoRegression, predict method active\n",
      "SALIMOOOOOOOOOOOOOOOOOO\n",
      "==> Epoch 39,\tTRAIN_LOSS: 23.231067641258495\t_TRAIN_RMSE: 4.819861786530657,\tVAL_LOSS: 32.06152575930667,\tVAL_RMSE: 5.662289798244759\n",
      "Initial patience 141\n",
      "2021-11-09 15:35:22.439607 Epoch 40, Training loss 2.4157647090244177e-05\n",
      "NeoRegression, predict method active\n",
      "SALIMOOOOOOOOOOOOOOOOOO\n",
      "==> Epoch 40,\tTRAIN_LOSS: 20.288632330375453\t_TRAIN_RMSE: 4.504290435837309,\tVAL_LOSS: 31.516231047546196,\tVAL_RMSE: 5.6139318705828805\n",
      "Initial patience 140\n",
      "NeoRegression, scatter_plot_history method active\n",
      "2021-11-09 15:35:47.291273 Epoch 41, Training loss 2.415685836754841e-05\n",
      "NeoRegression, predict method active\n",
      "SALIMOOOOOOOOOOOOOOOOOO\n",
      "==> Epoch 41,\tTRAIN_LOSS: 20.09904154306348\t_TRAIN_RMSE: 4.483195461170913,\tVAL_LOSS: 32.003318358884385,\tVAL_RMSE: 5.657147546147651\n",
      "Initial patience 139\n",
      "2021-11-09 15:36:07.877793 Epoch 42, Training loss 2.433487771073506e-05\n",
      "NeoRegression, predict method active\n",
      "SALIMOOOOOOOOOOOOOOOOOO\n",
      "==> Epoch 42,\tTRAIN_LOSS: 20.208220291105224\t_TRAIN_RMSE: 4.4953554132132005,\tVAL_LOSS: 31.301404727288745,\tVAL_RMSE: 5.594765833105863\n",
      "Initial patience 138\n",
      "2021-11-09 15:36:28.112554 Epoch 43, Training loss 2.422896793781874e-05\n",
      "NeoRegression, predict method active\n",
      "SALIMOOOOOOOOOOOOOOOOOO\n",
      "==> Epoch 43,\tTRAIN_LOSS: 20.33021191133981\t_TRAIN_RMSE: 4.508903626308707,\tVAL_LOSS: 33.754213491014475,\tVAL_RMSE: 5.809837647560771\n",
      "Initial patience 137\n",
      "2021-11-09 15:36:48.685041 Epoch 44, Training loss 2.370248921107276e-05\n",
      "NeoRegression, predict method active\n",
      "SALIMOOOOOOOOOOOOOOOOOO\n",
      "==> Epoch 44,\tTRAIN_LOSS: 19.578704465360993\t_TRAIN_RMSE: 4.424782985114749,\tVAL_LOSS: 32.332447857592975,\tVAL_RMSE: 5.686162841283476\n",
      "Initial patience 136\n",
      "NeoRegression, scatter_plot_history method active\n",
      "2021-11-09 15:37:13.795787 Epoch 45, Training loss 2.3804876323760205e-05\n",
      "NeoRegression, predict method active\n",
      "SALIMOOOOOOOOOOOOOOOOOO\n",
      "==> Epoch 45,\tTRAIN_LOSS: 20.628444194372445\t_TRAIN_RMSE: 4.54185470863748,\tVAL_LOSS: 31.770934723256957,\tVAL_RMSE: 5.636571184972027\n",
      "Initial patience 135\n",
      "2021-11-09 15:37:34.271137 Epoch 46, Training loss 2.3559002980858144e-05\n",
      "NeoRegression, predict method active\n",
      "SALIMOOOOOOOOOOOOOOOOOO\n",
      "==> Epoch 46,\tTRAIN_LOSS: 19.60669889445196\t_TRAIN_RMSE: 4.427945222611946,\tVAL_LOSS: 34.52342117119883,\tVAL_RMSE: 5.875663466469027\n",
      "Initial patience 134\n",
      "2021-11-09 15:37:55.027577 Epoch 47, Training loss 2.3630942125117608e-05\n",
      "NeoRegression, predict method active\n",
      "SALIMOOOOOOOOOOOOOOOOOO\n",
      "==> Epoch 47,\tTRAIN_LOSS: 20.139687466110217\t_TRAIN_RMSE: 4.487726313637031,\tVAL_LOSS: 30.690579639076322,\tVAL_RMSE: 5.539907908898515\n",
      "Initial patience 133\n",
      "2021-11-09 15:38:15.942059 Epoch 48, Training loss 2.3442571390405395e-05\n",
      "NeoRegression, predict method active\n",
      "SALIMOOOOOOOOOOOOOOOOOO\n",
      "==> Epoch 48,\tTRAIN_LOSS: 19.290660086794038\t_TRAIN_RMSE: 4.3921133963951835,\tVAL_LOSS: 30.268361031515035,\tVAL_RMSE: 5.501668931471162\n",
      "Initial patience 132\n",
      "NeoRegression, scatter_plot_history method active\n",
      "2021-11-09 15:38:41.170188 Epoch 49, Training loss 2.3390975293358865e-05\n",
      "NeoRegression, predict method active\n",
      "SALIMOOOOOOOOOOOOOOOOOO\n",
      "==> Epoch 49,\tTRAIN_LOSS: 19.21380513205872\t_TRAIN_RMSE: 4.383355464944489,\tVAL_LOSS: 32.605662954579664,\tVAL_RMSE: 5.710136859531448\n",
      "Initial patience 131\n",
      "2021-11-09 15:39:01.777864 Epoch 50, Training loss 2.35269960818646e-05\n"
     ]
    },
    {
     "name": "stdout",
     "output_type": "stream",
     "text": [
      "NeoRegression, predict method active\n",
      "SALIMOOOOOOOOOOOOOOOOOO\n",
      "==> Epoch 50,\tTRAIN_LOSS: 27.117737881923507\t_TRAIN_RMSE: 5.2074694316840215,\tVAL_LOSS: 31.479940442048058,\tVAL_RMSE: 5.61069874811044\n",
      "Initial patience 130\n",
      "2021-11-09 15:39:22.322702 Epoch 51, Training loss 2.3201642007989245e-05\n",
      "NeoRegression, predict method active\n",
      "SALIMOOOOOOOOOOOOOOOOOO\n",
      "==> Epoch 51,\tTRAIN_LOSS: 18.93774849012515\t_TRAIN_RMSE: 4.351752347058039,\tVAL_LOSS: 31.710823319857163,\tVAL_RMSE: 5.631236393533587\n",
      "Initial patience 129\n",
      "2021-11-09 15:39:42.779356 Epoch 52, Training loss 2.3456011327199785e-05\n",
      "NeoRegression, predict method active\n",
      "SALIMOOOOOOOOOOOOOOOOOO\n",
      "==> Epoch 52,\tTRAIN_LOSS: 19.22405027488292\t_TRAIN_RMSE: 4.384523950770816,\tVAL_LOSS: 32.05951587634893,\tVAL_RMSE: 5.6621123157659925\n",
      "Initial patience 128\n",
      "NeoRegression, scatter_plot_history method active\n",
      "2021-11-09 15:40:07.659426 Epoch 53, Training loss 2.343591440923686e-05\n",
      "NeoRegression, predict method active\n",
      "SALIMOOOOOOOOOOOOOOOOOO\n",
      "==> Epoch 53,\tTRAIN_LOSS: 20.00375200345254\t_TRAIN_RMSE: 4.472555422066063,\tVAL_LOSS: 32.589176893156065,\tVAL_RMSE: 5.708693098525797\n",
      "Initial patience 127\n",
      "2021-11-09 15:40:28.146806 Epoch 54, Training loss 2.316471771110505e-05\n",
      "NeoRegression, predict method active\n",
      "SALIMOOOOOOOOOOOOOOOOOO\n",
      "==> Epoch 54,\tTRAIN_LOSS: 18.81820568188112\t_TRAIN_RMSE: 4.337995583432644,\tVAL_LOSS: 31.469897074009925,\tVAL_RMSE: 5.609803657349331\n",
      "Initial patience 126\n",
      "2021-11-09 15:40:48.612911 Epoch 55, Training loss 2.316735203025157e-05\n",
      "NeoRegression, predict method active\n",
      "SALIMOOOOOOOOOOOOOOOOOO\n",
      "==> Epoch 55,\tTRAIN_LOSS: 19.057076871412537\t_TRAIN_RMSE: 4.365441200086486,\tVAL_LOSS: 31.981083159585243,\tVAL_RMSE: 5.655181974046922\n",
      "Initial patience 125\n",
      "2021-11-09 15:41:09.243919 Epoch 56, Training loss 2.2845689300335668e-05\n",
      "NeoRegression, predict method active\n",
      "SALIMOOOOOOOOOOOOOOOOOO\n",
      "==> Epoch 56,\tTRAIN_LOSS: 18.93552583748299\t_TRAIN_RMSE: 4.351496965123955,\tVAL_LOSS: 31.058151198642598,\tVAL_RMSE: 5.572984047944386\n",
      "Initial patience 124\n",
      "NeoRegression, scatter_plot_history method active\n",
      "2021-11-09 15:41:34.536633 Epoch 57, Training loss 2.3030626461241214e-05\n",
      "NeoRegression, predict method active\n",
      "SALIMOOOOOOOOOOOOOOOOOO\n",
      "==> Epoch 57,\tTRAIN_LOSS: 18.853002683253305\t_TRAIN_RMSE: 4.342004454540933,\tVAL_LOSS: 31.224177060586236,\tVAL_RMSE: 5.5878597924953555\n",
      "Initial patience 123\n",
      "2021-11-09 15:41:55.269381 Epoch 58, Training loss 2.305739076684882e-05\n",
      "NeoRegression, predict method active\n",
      "SALIMOOOOOOOOOOOOOOOOOO\n",
      "==> Epoch 58,\tTRAIN_LOSS: 19.327253608299795\t_TRAIN_RMSE: 4.396277244248797,\tVAL_LOSS: 31.077347846265457,\tVAL_RMSE: 5.574706077118816\n",
      "Initial patience 122\n",
      "2021-11-09 15:42:15.968987 Epoch 59, Training loss 2.3096310670556213e-05\n",
      "NeoRegression, predict method active\n",
      "SALIMOOOOOOOOOOOOOOOOOO\n",
      "==> Epoch 59,\tTRAIN_LOSS: 19.422367124427026\t_TRAIN_RMSE: 4.407081474675392,\tVAL_LOSS: 31.90101245211959,\tVAL_RMSE: 5.648098126991031\n",
      "Initial patience 121\n",
      "2021-11-09 15:42:36.588300 Epoch 60, Training loss 2.2502941635947783e-05\n",
      "NeoRegression, predict method active\n",
      "SALIMOOOOOOOOOOOOOOOOOO\n",
      "==> Epoch 60,\tTRAIN_LOSS: 18.89353334905957\t_TRAIN_RMSE: 4.346669224712133,\tVAL_LOSS: 31.167875351568878,\tVAL_RMSE: 5.582819659595756\n",
      "Initial patience 120\n",
      "NeoRegression, scatter_plot_history method active\n",
      "2021-11-09 15:43:02.019338 Epoch 61, Training loss 2.2695056961757792e-05\n",
      "NeoRegression, predict method active\n",
      "SALIMOOOOOOOOOOOOOOOOOO\n",
      "==> Epoch 61,\tTRAIN_LOSS: 18.629958872532356\t_TRAIN_RMSE: 4.3162436067178085,\tVAL_LOSS: 34.54207872568668,\tVAL_RMSE: 5.877250949694651\n",
      "Initial patience 119\n",
      "2021-11-09 15:43:22.296339 Epoch 62, Training loss 2.297357304744931e-05\n",
      "NeoRegression, predict method active\n",
      "SALIMOOOOOOOOOOOOOOOOOO\n",
      "==> Epoch 62,\tTRAIN_LOSS: 19.331419272972752\t_TRAIN_RMSE: 4.396750990558,\tVAL_LOSS: 34.349011129333064,\tVAL_RMSE: 5.8608029423734305\n",
      "Initial patience 118\n",
      "2021-11-09 15:43:42.862213 Epoch 63, Training loss 2.2724254596837188e-05\n",
      "NeoRegression, predict method active\n",
      "SALIMOOOOOOOOOOOOOOOOOO\n",
      "==> Epoch 63,\tTRAIN_LOSS: 18.872919404256592\t_TRAIN_RMSE: 4.3442973429838565,\tVAL_LOSS: 29.95118968507009,\tVAL_RMSE: 5.472768009432712\n",
      "Initial patience 117\n",
      "2021-11-09 15:44:03.471879 Epoch 64, Training loss 2.3170047526291706e-05\n",
      "NeoRegression, predict method active\n",
      "SALIMOOOOOOOOOOOOOOOOOO\n",
      "==> Epoch 64,\tTRAIN_LOSS: 18.560346161660217\t_TRAIN_RMSE: 4.308172020899376,\tVAL_LOSS: 32.19054919890755,\tVAL_RMSE: 5.6736715801064435\n",
      "Initial patience 116\n",
      "NeoRegression, scatter_plot_history method active\n",
      "2021-11-09 15:44:28.498910 Epoch 65, Training loss 2.3016245412216002e-05\n",
      "NeoRegression, predict method active\n",
      "SALIMOOOOOOOOOOOOOOOOOO\n",
      "==> Epoch 65,\tTRAIN_LOSS: 20.662723251494473\t_TRAIN_RMSE: 4.545626827126758,\tVAL_LOSS: 30.37204323325321,\tVAL_RMSE: 5.511083671407395\n",
      "Initial patience 115\n",
      "2021-11-09 15:44:49.133534 Epoch 66, Training loss 2.263196331277805e-05\n",
      "NeoRegression, predict method active\n",
      "SALIMOOOOOOOOOOOOOOOOOO\n",
      "==> Epoch 66,\tTRAIN_LOSS: 18.50620093268449\t_TRAIN_RMSE: 4.301883416909911,\tVAL_LOSS: 29.670584557357916,\tVAL_RMSE: 5.447071190773801\n",
      "Initial patience 114\n",
      "2021-11-09 15:45:09.738021 Epoch 67, Training loss 2.2318405530735317e-05\n",
      "NeoRegression, predict method active\n",
      "SALIMOOOOOOOOOOOOOOOOOO\n",
      "==> Epoch 67,\tTRAIN_LOSS: 18.279622703466703\t_TRAIN_RMSE: 4.275467542090187,\tVAL_LOSS: 29.556129712691533,\tVAL_RMSE: 5.436554948925977\n",
      "Initial patience 113\n",
      "2021-11-09 15:45:30.323923 Epoch 68, Training loss 2.2326181275947198e-05\n",
      "NeoRegression, predict method active\n",
      "SALIMOOOOOOOOOOOOOOOOOO\n",
      "==> Epoch 68,\tTRAIN_LOSS: 18.45566949377937\t_TRAIN_RMSE: 4.296006225994018,\tVAL_LOSS: 30.844822243344716,\tVAL_RMSE: 5.5538115059249815\n",
      "Initial patience 112\n",
      "NeoRegression, scatter_plot_history method active\n",
      "2021-11-09 15:45:55.343627 Epoch 69, Training loss 2.2430116415688355e-05\n",
      "NeoRegression, predict method active\n",
      "SALIMOOOOOOOOOOOOOOOOOO\n",
      "==> Epoch 69,\tTRAIN_LOSS: 18.595116697882982\t_TRAIN_RMSE: 4.3122055491225115,\tVAL_LOSS: 30.00575604404332,\tVAL_RMSE: 5.4777510023771\n",
      "Initial patience 111\n",
      "2021-11-09 15:46:15.788955 Epoch 70, Training loss 2.2423335972187576e-05\n",
      "NeoRegression, predict method active\n",
      "SALIMOOOOOOOOOOOOOOOOOO\n",
      "==> Epoch 70,\tTRAIN_LOSS: 18.262743687970005\t_TRAIN_RMSE: 4.273493148230146,\tVAL_LOSS: 30.151073779432835,\tVAL_RMSE: 5.49099934250887\n",
      "Initial patience 110\n",
      "2021-11-09 15:46:36.388580 Epoch 71, Training loss 2.228253395193914e-05\n",
      "NeoRegression, predict method active\n",
      "SALIMOOOOOOOOOOOOOOOOOO\n",
      "==> Epoch 71,\tTRAIN_LOSS: 18.07362377835394\t_TRAIN_RMSE: 4.251308478380973,\tVAL_LOSS: 29.83935835829783,\tVAL_RMSE: 5.462541382753803\n",
      "Initial patience 109\n",
      "2021-11-09 15:46:57.026535 Epoch 72, Training loss 2.2546840311129474e-05\n",
      "NeoRegression, predict method active\n",
      "SALIMOOOOOOOOOOOOOOOOOO\n",
      "==> Epoch 72,\tTRAIN_LOSS: 17.97322627509188\t_TRAIN_RMSE: 4.239484199179409,\tVAL_LOSS: 29.434359092024334,\tVAL_RMSE: 5.425344145031201\n",
      "Initial patience 108\n",
      "NeoRegression, scatter_plot_history method active\n",
      "2021-11-09 15:47:22.014486 Epoch 73, Training loss 2.217930847789289e-05\n",
      "NeoRegression, predict method active\n",
      "SALIMOOOOOOOOOOOOOOOOOO\n",
      "==> Epoch 73,\tTRAIN_LOSS: 17.80233420424185\t_TRAIN_RMSE: 4.219281242610149,\tVAL_LOSS: 31.279734658620338,\tVAL_RMSE: 5.592828860122607\n",
      "Initial patience 107\n",
      "2021-11-09 15:47:42.699674 Epoch 74, Training loss 2.2284108286284455e-05\n",
      "NeoRegression, predict method active\n",
      "SALIMOOOOOOOOOOOOOOOOOO\n",
      "==> Epoch 74,\tTRAIN_LOSS: 18.517184323221628\t_TRAIN_RMSE: 4.3031598068421335,\tVAL_LOSS: 30.99337684514038,\tVAL_RMSE: 5.567169554193619\n",
      "Initial patience 106\n",
      "2021-11-09 15:48:03.365023 Epoch 75, Training loss 2.2329311616864087e-05\n",
      "NeoRegression, predict method active\n",
      "SALIMOOOOOOOOOOOOOOOOOO\n",
      "==> Epoch 75,\tTRAIN_LOSS: 18.657667269955798\t_TRAIN_RMSE: 4.319452195586357,\tVAL_LOSS: 30.644162174084965,\tVAL_RMSE: 5.535716952128691\n",
      "Initial patience 105\n",
      "2021-11-09 15:48:23.735204 Epoch 76, Training loss 2.261270554214729e-05\n",
      "NeoRegression, predict method active\n",
      "SALIMOOOOOOOOOOOOOOOOOO\n",
      "==> Epoch 76,\tTRAIN_LOSS: 19.38970430658717\t_TRAIN_RMSE: 4.4033741956126295,\tVAL_LOSS: 29.920000046425443,\tVAL_RMSE: 5.469917736714643\n",
      "Initial patience 104\n",
      "NeoRegression, scatter_plot_history method active\n",
      "2021-11-09 15:48:48.967752 Epoch 77, Training loss 2.2376349615993058e-05\n",
      "NeoRegression, predict method active\n"
     ]
    },
    {
     "name": "stdout",
     "output_type": "stream",
     "text": [
      "SALIMOOOOOOOOOOOOOOOOOO\n",
      "==> Epoch 77,\tTRAIN_LOSS: 18.22711034891397\t_TRAIN_RMSE: 4.2693220010809645,\tVAL_LOSS: 29.74343798465871,\tVAL_RMSE: 5.4537544851834605\n",
      "Initial patience 103\n",
      "2021-11-09 15:49:09.586250 Epoch 78, Training loss 2.2232778917048086e-05\n",
      "NeoRegression, predict method active\n",
      "SALIMOOOOOOOOOOOOOOOOOO\n",
      "==> Epoch 78,\tTRAIN_LOSS: 18.560432746857025\t_TRAIN_RMSE: 4.308182069836072,\tVAL_LOSS: 29.48854475419311,\tVAL_RMSE: 5.430335602353975\n",
      "Initial patience 102\n",
      "2021-11-09 15:49:30.111783 Epoch 79, Training loss 2.224795596571013e-05\n",
      "NeoRegression, predict method active\n",
      "SALIMOOOOOOOOOOOOOOOOOO\n",
      "==> Epoch 79,\tTRAIN_LOSS: 17.760281742774293\t_TRAIN_RMSE: 4.214294928309395,\tVAL_LOSS: 31.96130093915679,\tVAL_RMSE: 5.653432668667487\n",
      "Initial patience 101\n",
      "2021-11-09 15:49:50.694707 Epoch 80, Training loss 2.2059487465038034e-05\n",
      "NeoRegression, predict method active\n",
      "SALIMOOOOOOOOOOOOOOOOOO\n",
      "==> Epoch 80,\tTRAIN_LOSS: 18.068173285020382\t_TRAIN_RMSE: 4.250667392894954,\tVAL_LOSS: 30.31459159958923,\tVAL_RMSE: 5.505868832399591\n",
      "Initial patience 100\n",
      "NeoRegression, scatter_plot_history method active\n",
      "2021-11-09 15:50:15.782663 Epoch 81, Training loss 2.198454968999698e-05\n",
      "NeoRegression, predict method active\n",
      "SALIMOOOOOOOOOOOOOOOOOO\n",
      "==> Epoch 81,\tTRAIN_LOSS: 18.175261089973166\t_TRAIN_RMSE: 4.263245370603617,\tVAL_LOSS: 31.252013547681162,\tVAL_RMSE: 5.590350038028134\n",
      "Initial patience 99\n",
      "2021-11-09 15:50:36.551860 Epoch 82, Training loss 2.1920788969531915e-05\n",
      "NeoRegression, predict method active\n",
      "SALIMOOOOOOOOOOOOOOOOOO\n",
      "==> Epoch 82,\tTRAIN_LOSS: 17.934152872171754\t_TRAIN_RMSE: 4.234873418671656,\tVAL_LOSS: 31.220945373101188,\tVAL_RMSE: 5.5875706145964\n",
      "Initial patience 98\n",
      "2021-11-09 15:50:57.488090 Epoch 83, Training loss 2.2410412906110115e-05\n",
      "NeoRegression, predict method active\n",
      "SALIMOOOOOOOOOOOOOOOOOO\n",
      "==> Epoch 83,\tTRAIN_LOSS: 18.130454171934776\t_TRAIN_RMSE: 4.257987103307709,\tVAL_LOSS: 31.718952613917054,\tVAL_RMSE: 5.631958150938007\n",
      "Initial patience 97\n",
      "2021-11-09 15:51:17.721488 Epoch 84, Training loss 2.212391364570369e-05\n",
      "NeoRegression, predict method active\n",
      "SALIMOOOOOOOOOOOOOOOOOO\n",
      "==> Epoch 84,\tTRAIN_LOSS: 18.225129176446718\t_TRAIN_RMSE: 4.269089970526121,\tVAL_LOSS: 30.459900866928145,\tVAL_RMSE: 5.519048909633629\n",
      "Initial patience 96\n",
      "NeoRegression, scatter_plot_history method active\n",
      "2021-11-09 15:51:42.837900 Epoch 85, Training loss 2.2065014718464226e-05\n",
      "NeoRegression, predict method active\n",
      "SALIMOOOOOOOOOOOOOOOOOO\n",
      "==> Epoch 85,\tTRAIN_LOSS: 18.412474888737854\t_TRAIN_RMSE: 4.29097598323946,\tVAL_LOSS: 29.800385012824258,\tVAL_RMSE: 5.458972889914755\n",
      "Initial patience 95\n",
      "2021-11-09 15:52:03.492125 Epoch 86, Training loss 2.1947015771244992e-05\n",
      "NeoRegression, predict method active\n",
      "SALIMOOOOOOOOOOOOOOOOOO\n",
      "==> Epoch 86,\tTRAIN_LOSS: 17.93603421606428\t_TRAIN_RMSE: 4.235095538009063,\tVAL_LOSS: 37.78150580292774,\tVAL_RMSE: 6.146666234872994\n",
      "Initial patience 94\n",
      "2021-11-09 15:52:23.859045 Epoch 87, Training loss 2.196954651197831e-05\n",
      "NeoRegression, predict method active\n",
      "SALIMOOOOOOOOOOOOOOOOOO\n",
      "==> Epoch 87,\tTRAIN_LOSS: 18.21766550246744\t_TRAIN_RMSE: 4.268215728201591,\tVAL_LOSS: 29.75196161610601,\tVAL_RMSE: 5.454535875407367\n",
      "Initial patience 93\n",
      "2021-11-09 15:52:44.199848 Epoch 88, Training loss 2.168575963935185e-05\n",
      "NeoRegression, predict method active\n",
      "SALIMOOOOOOOOOOOOOOOOOO\n",
      "==> Epoch 88,\tTRAIN_LOSS: 17.750457621756084\t_TRAIN_RMSE: 4.213129195948788,\tVAL_LOSS: 29.985785325963864,\tVAL_RMSE: 5.47592780503577\n",
      "Initial patience 92\n",
      "NeoRegression, scatter_plot_history method active\n",
      "2021-11-09 15:53:09.287126 Epoch 89, Training loss 2.1776854679034075e-05\n",
      "NeoRegression, predict method active\n",
      "SALIMOOOOOOOOOOOOOOOOOO\n",
      "==> Epoch 89,\tTRAIN_LOSS: 17.78511507277614\t_TRAIN_RMSE: 4.2172402199514485,\tVAL_LOSS: 30.913240949740665,\tVAL_RMSE: 5.559967711213858\n",
      "Initial patience 91\n",
      "2021-11-09 15:53:29.407833 Epoch 90, Training loss 2.1899434365553676e-05\n",
      "NeoRegression, predict method active\n",
      "SALIMOOOOOOOOOOOOOOOOOO\n",
      "==> Epoch 90,\tTRAIN_LOSS: 18.21654050866604\t_TRAIN_RMSE: 4.268083938802755,\tVAL_LOSS: 29.717742186507905,\tVAL_RMSE: 5.451398186383738\n",
      "Initial patience 90\n",
      "2021-11-09 15:53:50.055128 Epoch 91, Training loss 2.2129712655517367e-05\n",
      "NeoRegression, predict method active\n",
      "SALIMOOOOOOOOOOOOOOOOOO\n",
      "==> Epoch 91,\tTRAIN_LOSS: 18.03237684329855\t_TRAIN_RMSE: 4.246454620421434,\tVAL_LOSS: 29.776057837374445,\tVAL_RMSE: 5.456744252516737\n",
      "Initial patience 89\n",
      "2021-11-09 15:54:10.533728 Epoch 92, Training loss 2.1872582962453453e-05\n",
      "NeoRegression, predict method active\n",
      "SALIMOOOOOOOOOOOOOOOOOO\n",
      "==> Epoch 92,\tTRAIN_LOSS: 18.086357008163898\t_TRAIN_RMSE: 4.252805780677493,\tVAL_LOSS: 30.135738830976152,\tVAL_RMSE: 5.489602793552203\n",
      "Initial patience 88\n",
      "NeoRegression, scatter_plot_history method active\n",
      "2021-11-09 15:54:35.546352 Epoch 93, Training loss 2.1792914071502748e-05\n",
      "NeoRegression, predict method active\n",
      "SALIMOOOOOOOOOOOOOOOOOO\n",
      "==> Epoch 93,\tTRAIN_LOSS: 18.29322492364517\t_TRAIN_RMSE: 4.277057975249479,\tVAL_LOSS: 29.51121985536779,\tVAL_RMSE: 5.4324230188165386\n",
      "Initial patience 87\n",
      "2021-11-09 15:54:56.185599 Epoch 94, Training loss 2.168686059094933e-05\n",
      "NeoRegression, predict method active\n",
      "SALIMOOOOOOOOOOOOOOOOOO\n",
      "==> Epoch 94,\tTRAIN_LOSS: 17.730789458606527\t_TRAIN_RMSE: 4.2107943975699555,\tVAL_LOSS: 29.275851598897916,\tVAL_RMSE: 5.410716366517276\n",
      "Initial patience 86\n",
      "2021-11-09 15:55:16.743717 Epoch 95, Training loss 2.1748432094726416e-05\n",
      "NeoRegression, predict method active\n",
      "SALIMOOOOOOOOOOOOOOOOOO\n",
      "==> Epoch 95,\tTRAIN_LOSS: 18.064044757159774\t_TRAIN_RMSE: 4.250181732250961,\tVAL_LOSS: 28.878676402881666,\tVAL_RMSE: 5.3738883876464785\n",
      "Initial patience 85\n",
      "2021-11-09 15:55:37.300158 Epoch 96, Training loss 2.148971626965246e-05\n",
      "NeoRegression, predict method active\n",
      "SALIMOOOOOOOOOOOOOOOOOO\n",
      "==> Epoch 96,\tTRAIN_LOSS: 17.345488709536777\t_TRAIN_RMSE: 4.164791556553194,\tVAL_LOSS: 30.943702458938933,\tVAL_RMSE: 5.5627063969743125\n",
      "Initial patience 84\n",
      "NeoRegression, scatter_plot_history method active\n",
      "2021-11-09 15:56:01.828335 Epoch 97, Training loss 2.1451542211394288e-05\n",
      "NeoRegression, predict method active\n",
      "SALIMOOOOOOOOOOOOOOOOOO\n",
      "==> Epoch 97,\tTRAIN_LOSS: 17.755328923388387\t_TRAIN_RMSE: 4.213707265981868,\tVAL_LOSS: 29.4596623951031,\tVAL_RMSE: 5.427675597813773\n",
      "Initial patience 83\n",
      "2021-11-09 15:56:22.559616 Epoch 98, Training loss 2.1388207130909236e-05\n",
      "NeoRegression, predict method active\n",
      "SALIMOOOOOOOOOOOOOOOOOO\n",
      "==> Epoch 98,\tTRAIN_LOSS: 17.60333374547485\t_TRAIN_RMSE: 4.1956326990663575,\tVAL_LOSS: 29.525444600769735,\tVAL_RMSE: 5.433732106091515\n",
      "Initial patience 82\n",
      "2021-11-09 15:56:42.423551 Epoch 99, Training loss 2.1624983952486558e-05\n",
      "NeoRegression, predict method active\n",
      "SALIMOOOOOOOOOOOOOOOOOO\n",
      "==> Epoch 99,\tTRAIN_LOSS: 17.6797012685171\t_TRAIN_RMSE: 4.204723685156624,\tVAL_LOSS: 29.159070573592214,\tVAL_RMSE: 5.399913941313529\n",
      "Initial patience 81\n",
      "2021-11-09 15:57:03.288352 Epoch 100, Training loss 2.1698149167199187e-05\n",
      "NeoRegression, predict method active\n",
      "SALIMOOOOOOOOOOOOOOOOOO\n",
      "==> Epoch 100,\tTRAIN_LOSS: 17.3262663945768\t_TRAIN_RMSE: 4.162483200515865,\tVAL_LOSS: 30.207806085846688,\tVAL_RMSE: 5.496162851103184\n",
      "Initial patience 80\n",
      "NeoRegression, scatter_plot_history method active\n",
      "2021-11-09 15:57:28.404393 Epoch 101, Training loss 2.159509603925188e-05\n",
      "NeoRegression, predict method active\n",
      "SALIMOOOOOOOOOOOOOOOOOO\n",
      "==> Epoch 101,\tTRAIN_LOSS: 17.898644261477482\t_TRAIN_RMSE: 4.230678936232042,\tVAL_LOSS: 28.73365034456923,\tVAL_RMSE: 5.360377817334262\n",
      "Initial patience 79\n",
      "2021-11-09 15:57:49.061261 Epoch 102, Training loss 2.1727533304552412e-05\n",
      "NeoRegression, predict method active\n",
      "SALIMOOOOOOOOOOOOOOOOOO\n",
      "==> Epoch 102,\tTRAIN_LOSS: 17.700569163038953\t_TRAIN_RMSE: 4.207204435612673,\tVAL_LOSS: 29.359092544730448,\tVAL_RMSE: 5.418403136047599\n",
      "Initial patience 78\n",
      "2021-11-09 15:58:10.032672 Epoch 103, Training loss 2.171143221419062e-05\n",
      "NeoRegression, predict method active\n",
      "SALIMOOOOOOOOOOOOOOOOOO\n",
      "==> Epoch 103,\tTRAIN_LOSS: 18.382878907529683\t_TRAIN_RMSE: 4.287525965814048,\tVAL_LOSS: 29.31538188462169,\tVAL_RMSE: 5.414368096520747\n",
      "Initial patience 77\n",
      "2021-11-09 15:58:30.864905 Epoch 104, Training loss 2.1384554800810745e-05\n",
      "NeoRegression, predict method active\n",
      "SALIMOOOOOOOOOOOOOOOOOO\n",
      "==> Epoch 104,\tTRAIN_LOSS: 17.409126403115728\t_TRAIN_RMSE: 4.17242452335758,\tVAL_LOSS: 28.916531263298783,\tVAL_RMSE: 5.377409344963315\n",
      "Initial patience 76\n",
      "NeoRegression, scatter_plot_history method active\n"
     ]
    },
    {
     "name": "stdout",
     "output_type": "stream",
     "text": [
      "2021-11-09 15:58:55.795453 Epoch 105, Training loss 2.1890722551046673e-05\n",
      "NeoRegression, predict method active\n",
      "SALIMOOOOOOOOOOOOOOOOOO\n",
      "==> Epoch 105,\tTRAIN_LOSS: 17.491134239391894\t_TRAIN_RMSE: 4.182240337354119,\tVAL_LOSS: 29.427442904158557,\tVAL_RMSE: 5.424706711349339\n",
      "Initial patience 75\n",
      "2021-11-09 15:59:16.254540 Epoch 106, Training loss 2.1688334968797898e-05\n",
      "NeoRegression, predict method active\n",
      "SALIMOOOOOOOOOOOOOOOOOO\n",
      "==> Epoch 106,\tTRAIN_LOSS: 17.364470419449418\t_TRAIN_RMSE: 4.167069764168752,\tVAL_LOSS: 33.09425474020627,\tVAL_RMSE: 5.752760619059885\n",
      "Initial patience 74\n",
      "2021-11-09 15:59:35.885334 Epoch 107, Training loss 2.258296266420742e-05\n",
      "NeoRegression, predict method active\n",
      "SALIMOOOOOOOOOOOOOOOOOO\n",
      "==> Epoch 107,\tTRAIN_LOSS: 18.47865962030465\t_TRAIN_RMSE: 4.29868114894611,\tVAL_LOSS: 29.41770010147602,\tVAL_RMSE: 5.423808634297123\n",
      "Initial patience 73\n",
      "2021-11-09 15:59:55.993710 Epoch 108, Training loss 2.157435307793481e-05\n",
      "NeoRegression, predict method active\n",
      "SALIMOOOOOOOOOOOOOOOOOO\n",
      "==> Epoch 108,\tTRAIN_LOSS: 17.501524530819925\t_TRAIN_RMSE: 4.1834823449872385,\tVAL_LOSS: 31.090758040924374,\tVAL_RMSE: 5.575908718847931\n",
      "Initial patience 72\n",
      "NeoRegression, scatter_plot_history method active\n",
      "2021-11-09 16:00:20.811023 Epoch 109, Training loss 2.137458914715205e-05\n",
      "NeoRegression, predict method active\n",
      "SALIMOOOOOOOOOOOOOOOOOO\n",
      "==> Epoch 109,\tTRAIN_LOSS: 17.452712973227303\t_TRAIN_RMSE: 4.177644428769316,\tVAL_LOSS: 28.771618824971863,\tVAL_RMSE: 5.363918234366727\n",
      "Initial patience 71\n",
      "2021-11-09 16:00:41.519255 Epoch 110, Training loss 2.1326616734267943e-05\n",
      "NeoRegression, predict method active\n",
      "SALIMOOOOOOOOOOOOOOOOOO\n",
      "==> Epoch 110,\tTRAIN_LOSS: 17.140848476007367\t_TRAIN_RMSE: 4.14015077938079,\tVAL_LOSS: 28.78733745184691,\tVAL_RMSE: 5.365383253025539\n",
      "Initial patience 70\n",
      "2021-11-09 16:01:02.415279 Epoch 111, Training loss 2.1223246745762087e-05\n",
      "NeoRegression, predict method active\n",
      "SALIMOOOOOOOOOOOOOOOOOO\n",
      "==> Epoch 111,\tTRAIN_LOSS: 17.122225740350725\t_TRAIN_RMSE: 4.137901127425681,\tVAL_LOSS: 31.514298130546578,\tVAL_RMSE: 5.613759714357801\n",
      "Initial patience 69\n",
      "2021-11-09 16:01:23.190711 Epoch 112, Training loss 2.1441180040074903e-05\n",
      "NeoRegression, predict method active\n",
      "SALIMOOOOOOOOOOOOOOOOOO\n",
      "==> Epoch 112,\tTRAIN_LOSS: 17.51448449480673\t_TRAIN_RMSE: 4.185031002848931,\tVAL_LOSS: 29.378819198042702,\tVAL_RMSE: 5.420223168656684\n",
      "Initial patience 68\n",
      "NeoRegression, scatter_plot_history method active\n",
      "2021-11-09 16:01:48.324695 Epoch 113, Training loss 2.158217777083765e-05\n",
      "NeoRegression, predict method active\n",
      "SALIMOOOOOOOOOOOOOOOOOO\n",
      "==> Epoch 113,\tTRAIN_LOSS: 17.23557774777684\t_TRAIN_RMSE: 4.151575333265295,\tVAL_LOSS: 29.87956634509104,\tVAL_RMSE: 5.4662204808341786\n",
      "Initial patience 67\n",
      "2021-11-09 16:02:08.828520 Epoch 114, Training loss 2.174834762343909e-05\n",
      "NeoRegression, predict method active\n",
      "SALIMOOOOOOOOOOOOOOOOOO\n",
      "==> Epoch 114,\tTRAIN_LOSS: 17.660130467992737\t_TRAIN_RMSE: 4.202395800967912,\tVAL_LOSS: 29.9804330839471,\tVAL_RMSE: 5.475439076818142\n",
      "Initial patience 66\n",
      "2021-11-09 16:02:29.338216 Epoch 115, Training loss 2.140313151490162e-05\n",
      "NeoRegression, predict method active\n",
      "SALIMOOOOOOOOOOOOOOOOOO\n",
      "==> Epoch 115,\tTRAIN_LOSS: 17.58464613330669\t_TRAIN_RMSE: 4.1934050762246535,\tVAL_LOSS: 30.153320284934495,\tVAL_RMSE: 5.491203901234637\n",
      "Initial patience 65\n",
      "2021-11-09 16:02:50.007647 Epoch 116, Training loss 2.126589335672292e-05\n",
      "NeoRegression, predict method active\n",
      "SALIMOOOOOOOOOOOOOOOOOO\n",
      "==> Epoch 116,\tTRAIN_LOSS: 17.38302238863774\t_TRAIN_RMSE: 4.169295190873122,\tVAL_LOSS: 31.979116281579685,\tVAL_RMSE: 5.655008070867776\n",
      "Initial patience 64\n",
      "NeoRegression, scatter_plot_history method active\n",
      "2021-11-09 16:03:15.186686 Epoch 117, Training loss 2.120662816304452e-05\n",
      "NeoRegression, predict method active\n",
      "SALIMOOOOOOOOOOOOOOOOOO\n",
      "==> Epoch 117,\tTRAIN_LOSS: 17.21338121981627\t_TRAIN_RMSE: 4.148901206321533,\tVAL_LOSS: 28.630450259223167,\tVAL_RMSE: 5.3507429632924035\n",
      "Initial patience 63\n",
      "2021-11-09 16:03:36.001348 Epoch 118, Training loss 2.1188396088930332e-05\n",
      "NeoRegression, predict method active\n",
      "SALIMOOOOOOOOOOOOOOOOOO\n",
      "==> Epoch 118,\tTRAIN_LOSS: 17.29902426887672\t_TRAIN_RMSE: 4.159209572608324,\tVAL_LOSS: 28.86637636415774,\tVAL_RMSE: 5.3727438394323\n",
      "Initial patience 62\n",
      "2021-11-09 16:03:56.872454 Epoch 119, Training loss 2.102457389863797e-05\n",
      "NeoRegression, predict method active\n",
      "SALIMOOOOOOOOOOOOOOOOOO\n",
      "==> Epoch 119,\tTRAIN_LOSS: 17.028996126473853\t_TRAIN_RMSE: 4.126620424327133,\tVAL_LOSS: 30.1268463725104,\tVAL_RMSE: 5.488792797374519\n",
      "Initial patience 61\n",
      "2021-11-09 16:04:17.620405 Epoch 120, Training loss 2.1206410489039596e-05\n",
      "NeoRegression, predict method active\n",
      "SALIMOOOOOOOOOOOOOOOOOO\n",
      "==> Epoch 120,\tTRAIN_LOSS: 17.05629133454748\t_TRAIN_RMSE: 4.129926311031165,\tVAL_LOSS: 30.094709756327394,\tVAL_RMSE: 5.485864540464647\n",
      "Initial patience 60\n",
      "NeoRegression, scatter_plot_history method active\n",
      "2021-11-09 16:04:43.099021 Epoch 121, Training loss 2.1423475717865177e-05\n",
      "NeoRegression, predict method active\n",
      "SALIMOOOOOOOOOOOOOOOOOO\n",
      "==> Epoch 121,\tTRAIN_LOSS: 17.625115624164216\t_TRAIN_RMSE: 4.198227676551644,\tVAL_LOSS: 28.334285019792073,\tVAL_RMSE: 5.322995868849803\n",
      "Initial patience 59\n",
      "2021-11-09 16:05:03.570082 Epoch 122, Training loss 2.1412234760665125e-05\n",
      "NeoRegression, predict method active\n",
      "SALIMOOOOOOOOOOOOOOOOOO\n",
      "==> Epoch 122,\tTRAIN_LOSS: 17.188416214781633\t_TRAIN_RMSE: 4.14589148613198,\tVAL_LOSS: 28.49645998406315,\tVAL_RMSE: 5.338207562849458\n",
      "Initial patience 58\n",
      "2021-11-09 16:05:24.119358 Epoch 123, Training loss 2.1305996220755937e-05\n",
      "NeoRegression, predict method active\n",
      "SALIMOOOOOOOOOOOOOOOOOO\n",
      "==> Epoch 123,\tTRAIN_LOSS: 17.29111015906328\t_TRAIN_RMSE: 4.158258067876894,\tVAL_LOSS: 31.671213192879655,\tVAL_RMSE: 5.627718293667484\n",
      "Initial patience 57\n",
      "2021-11-09 16:05:44.908719 Epoch 124, Training loss 2.1167152977122458e-05\n",
      "NeoRegression, predict method active\n",
      "SALIMOOOOOOOOOOOOOOOOOO\n",
      "==> Epoch 124,\tTRAIN_LOSS: 17.493811332648928\t_TRAIN_RMSE: 4.182560380036244,\tVAL_LOSS: 30.060262644174816,\tVAL_RMSE: 5.482724016779872\n",
      "Initial patience 56\n",
      "NeoRegression, scatter_plot_history method active\n",
      "2021-11-09 16:06:10.195219 Epoch 125, Training loss 2.152643019238718e-05\n",
      "NeoRegression, predict method active\n",
      "SALIMOOOOOOOOOOOOOOOOOO\n",
      "==> Epoch 125,\tTRAIN_LOSS: 17.425525871293285\t_TRAIN_RMSE: 4.174389281235435,\tVAL_LOSS: 29.09419073089778,\tVAL_RMSE: 5.393903107296031\n",
      "Initial patience 55\n",
      "2021-11-09 16:06:30.823503 Epoch 126, Training loss 2.1701510232799568e-05\n",
      "NeoRegression, predict method active\n",
      "SALIMOOOOOOOOOOOOOOOOOO\n",
      "==> Epoch 126,\tTRAIN_LOSS: 18.208358757254032\t_TRAIN_RMSE: 4.267125350543857,\tVAL_LOSS: 30.635489900159506,\tVAL_RMSE: 5.534933594918687\n",
      "Initial patience 54\n",
      "2021-11-09 16:06:51.603452 Epoch 127, Training loss 2.1381561279642773e-05\n",
      "NeoRegression, predict method active\n",
      "SALIMOOOOOOOOOOOOOOOOOO\n",
      "==> Epoch 127,\tTRAIN_LOSS: 17.789894885097528\t_TRAIN_RMSE: 4.217806880962845,\tVAL_LOSS: 29.37284569190554,\tVAL_RMSE: 5.419672101880845\n",
      "Initial patience 53\n",
      "2021-11-09 16:07:12.367998 Epoch 128, Training loss 2.1504127646706877e-05\n",
      "NeoRegression, predict method active\n",
      "SALIMOOOOOOOOOOOOOOOOOO\n",
      "==> Epoch 128,\tTRAIN_LOSS: 17.4833550844142\t_TRAIN_RMSE: 4.181310211454563,\tVAL_LOSS: 29.757881030132282,\tVAL_RMSE: 5.455078462325934\n",
      "Initial patience 52\n",
      "NeoRegression, scatter_plot_history method active\n",
      "2021-11-09 16:07:36.983516 Epoch 129, Training loss 2.1270796078390242e-05\n",
      "NeoRegression, predict method active\n",
      "SALIMOOOOOOOOOOOOOOOOOO\n",
      "==> Epoch 129,\tTRAIN_LOSS: 17.291945211920194\t_TRAIN_RMSE: 4.1583584756391785,\tVAL_LOSS: 30.603134843503593,\tVAL_RMSE: 5.53201001838424\n",
      "Initial patience 51\n",
      "2021-11-09 16:07:57.755587 Epoch 130, Training loss 2.1167941516896493e-05\n",
      "NeoRegression, predict method active\n",
      "SALIMOOOOOOOOOOOOOOOOOO\n",
      "==> Epoch 130,\tTRAIN_LOSS: 17.18502396433995\t_TRAIN_RMSE: 4.145482356052182,\tVAL_LOSS: 28.55639196495562,\tVAL_RMSE: 5.343818107398082\n",
      "Initial patience 50\n",
      "2021-11-09 16:08:18.413707 Epoch 131, Training loss 2.106600615164359e-05\n",
      "NeoRegression, predict method active\n",
      "SALIMOOOOOOOOOOOOOOOOOO\n",
      "==> Epoch 131,\tTRAIN_LOSS: 17.009383970092347\t_TRAIN_RMSE: 4.124243442146978,\tVAL_LOSS: 28.500984610298868,\tVAL_RMSE: 5.338631342422781\n",
      "Initial patience 49\n",
      "2021-11-09 16:08:38.854326 Epoch 132, Training loss 2.1098889995499116e-05\n"
     ]
    },
    {
     "name": "stdout",
     "output_type": "stream",
     "text": [
      "NeoRegression, predict method active\n",
      "SALIMOOOOOOOOOOOOOOOOOO\n",
      "==> Epoch 132,\tTRAIN_LOSS: 17.740046167072556\t_TRAIN_RMSE: 4.211893418294503,\tVAL_LOSS: 28.44946189224702,\tVAL_RMSE: 5.333803698323273\n",
      "Initial patience 48\n",
      "NeoRegression, scatter_plot_history method active\n",
      "2021-11-09 16:09:03.779988 Epoch 133, Training loss 2.0993348689884834e-05\n",
      "NeoRegression, predict method active\n",
      "SALIMOOOOOOOOOOOOOOOOOO\n",
      "==> Epoch 133,\tTRAIN_LOSS: 16.822704350795778\t_TRAIN_RMSE: 4.101549018455805,\tVAL_LOSS: 29.516617862668593,\tVAL_RMSE: 5.432919828477924\n",
      "Initial patience 47\n",
      "2021-11-09 16:09:24.424930 Epoch 134, Training loss 2.1046796348007297e-05\n",
      "NeoRegression, predict method active\n",
      "SALIMOOOOOOOOOOOOOOOOOO\n",
      "==> Epoch 134,\tTRAIN_LOSS: 16.866236559085795\t_TRAIN_RMSE: 4.106852390710651,\tVAL_LOSS: 29.40961386577635,\tVAL_RMSE: 5.423063144181188\n",
      "Initial patience 46\n",
      "2021-11-09 16:09:45.039371 Epoch 135, Training loss 2.105294651581024e-05\n",
      "NeoRegression, predict method active\n",
      "SALIMOOOOOOOOOOOOOOOOOO\n",
      "==> Epoch 135,\tTRAIN_LOSS: 17.05606585311324\t_TRAIN_RMSE: 4.129899012459414,\tVAL_LOSS: 29.468334734320443,\tVAL_RMSE: 5.428474438948796\n",
      "Initial patience 45\n",
      "2021-11-09 16:10:05.647285 Epoch 136, Training loss 2.0993783281228138e-05\n",
      "NeoRegression, predict method active\n",
      "SALIMOOOOOOOOOOOOOOOOOO\n",
      "==> Epoch 136,\tTRAIN_LOSS: 17.07185765606563\t_TRAIN_RMSE: 4.131810457422464,\tVAL_LOSS: 29.72194517478399,\tVAL_RMSE: 5.4517836691108705\n",
      "Initial patience 44\n",
      "NeoRegression, scatter_plot_history method active\n",
      "2021-11-09 16:10:30.669542 Epoch 137, Training loss 2.101906252596485e-05\n",
      "NeoRegression, predict method active\n",
      "SALIMOOOOOOOOOOOOOOOOOO\n",
      "==> Epoch 137,\tTRAIN_LOSS: 17.2197315425292\t_TRAIN_RMSE: 4.149666437501838,\tVAL_LOSS: 28.666315190122475,\tVAL_RMSE: 5.354093311674954\n",
      "Initial patience 43\n",
      "2021-11-09 16:10:51.083050 Epoch 138, Training loss 2.1197572138328543e-05\n",
      "NeoRegression, predict method active\n",
      "SALIMOOOOOOOOOOOOOOOOOO\n",
      "==> Epoch 138,\tTRAIN_LOSS: 17.347121526606834\t_TRAIN_RMSE: 4.1649875782055865,\tVAL_LOSS: 28.702303257652368,\tVAL_RMSE: 5.357453056971416\n",
      "Initial patience 42\n",
      "2021-11-09 16:11:11.567328 Epoch 139, Training loss 2.1039464926754816e-05\n",
      "NeoRegression, predict method active\n",
      "SALIMOOOOOOOOOOOOOOOOOO\n",
      "==> Epoch 139,\tTRAIN_LOSS: 16.895864581060426\t_TRAIN_RMSE: 4.110457952717729,\tVAL_LOSS: 30.373745898256853,\tVAL_RMSE: 5.511238145667165\n",
      "Initial patience 41\n",
      "2021-11-09 16:11:32.316190 Epoch 140, Training loss 2.111756267662285e-05\n",
      "NeoRegression, predict method active\n",
      "SALIMOOOOOOOOOOOOOOOOOO\n",
      "==> Epoch 140,\tTRAIN_LOSS: 17.4451696556291\t_TRAIN_RMSE: 4.176741511708512,\tVAL_LOSS: 30.87498392652653,\tVAL_RMSE: 5.556526246363507\n",
      "Initial patience 40\n",
      "NeoRegression, scatter_plot_history method active\n",
      "2021-11-09 16:11:57.292639 Epoch 141, Training loss 2.1060156909556364e-05\n",
      "NeoRegression, predict method active\n",
      "SALIMOOOOOOOOOOOOOOOOOO\n",
      "==> Epoch 141,\tTRAIN_LOSS: 17.265029089535865\t_TRAIN_RMSE: 4.15512082730886,\tVAL_LOSS: 28.682698964814442,\tVAL_RMSE: 5.355623116390327\n",
      "Initial patience 39\n",
      "2021-11-09 16:12:17.937151 Epoch 142, Training loss 2.1012439239175395e-05\n",
      "NeoRegression, predict method active\n",
      "SALIMOOOOOOOOOOOOOOOOOO\n",
      "==> Epoch 142,\tTRAIN_LOSS: 16.9548468688544\t_TRAIN_RMSE: 4.117626363434934,\tVAL_LOSS: 29.29261263596593,\tVAL_RMSE: 5.412265019006916\n",
      "Initial patience 38\n",
      "2021-11-09 16:12:38.655812 Epoch 143, Training loss 2.129264213483275e-05\n",
      "NeoRegression, predict method active\n",
      "SALIMOOOOOOOOOOOOOOOOOO\n",
      "==> Epoch 143,\tTRAIN_LOSS: 17.4149604557589\t_TRAIN_RMSE: 4.173123585009064,\tVAL_LOSS: 29.172819398198612,\tVAL_RMSE: 5.401186850887369\n",
      "Initial patience 37\n",
      "2021-11-09 16:12:59.252845 Epoch 144, Training loss 2.1287759042437107e-05\n",
      "NeoRegression, predict method active\n",
      "SALIMOOOOOOOOOOOOOOOOOO\n",
      "==> Epoch 144,\tTRAIN_LOSS: 17.3191918236802\t_TRAIN_RMSE: 4.161633312015873,\tVAL_LOSS: 28.771841774499507,\tVAL_RMSE: 5.363939016664853\n",
      "Initial patience 36\n",
      "NeoRegression, scatter_plot_history method active\n",
      "2021-11-09 16:13:24.272590 Epoch 145, Training loss 2.1020246802933537e-05\n",
      "NeoRegression, predict method active\n",
      "SALIMOOOOOOOOOOOOOOOOOO\n",
      "==> Epoch 145,\tTRAIN_LOSS: 16.750024908523045\t_TRAIN_RMSE: 4.092679428995514,\tVAL_LOSS: 28.56276086034504,\tVAL_RMSE: 5.344413986616778\n",
      "Initial patience 35\n",
      "2021-11-09 16:13:45.031088 Epoch 146, Training loss 2.1352202023971802e-05\n",
      "NeoRegression, predict method active\n",
      "SALIMOOOOOOOOOOOOOOOOOO\n",
      "==> Epoch 146,\tTRAIN_LOSS: 16.95707674849426\t_TRAIN_RMSE: 4.117897126992642,\tVAL_LOSS: 28.78009091309637,\tVAL_RMSE: 5.364707905664238\n",
      "Initial patience 34\n",
      "2021-11-09 16:14:05.790680 Epoch 147, Training loss 2.1123025459384174e-05\n",
      "NeoRegression, predict method active\n",
      "SALIMOOOOOOOOOOOOOOOOOO\n",
      "==> Epoch 147,\tTRAIN_LOSS: 17.0956181039466\t_TRAIN_RMSE: 4.134684764760984,\tVAL_LOSS: 29.309223285661187,\tVAL_RMSE: 5.413799339249764\n",
      "Initial patience 33\n",
      "2021-11-09 16:14:26.359831 Epoch 148, Training loss 2.1198522227098987e-05\n",
      "NeoRegression, predict method active\n",
      "SALIMOOOOOOOOOOOOOOOOOO\n",
      "==> Epoch 148,\tTRAIN_LOSS: 16.91236481633595\t_TRAIN_RMSE: 4.112464567183035,\tVAL_LOSS: 28.77757231668806,\tVAL_RMSE: 5.364473163013127\n",
      "Initial patience 32\n",
      "NeoRegression, scatter_plot_history method active\n",
      "2021-11-09 16:14:51.490274 Epoch 149, Training loss 2.104133258592631e-05\n",
      "NeoRegression, predict method active\n",
      "SALIMOOOOOOOOOOOOOOOOOO\n",
      "==> Epoch 149,\tTRAIN_LOSS: 17.180545718618223\t_TRAIN_RMSE: 4.144942185196101,\tVAL_LOSS: 28.559575137118067,\tVAL_RMSE: 5.3441159359727655\n",
      "Initial patience 31\n",
      "2021-11-09 16:15:11.510022 Epoch 150, Training loss 2.117208010212188e-05\n",
      "NeoRegression, predict method active\n",
      "SALIMOOOOOOOOOOOOOOOOOO\n",
      "==> Epoch 150,\tTRAIN_LOSS: 17.277885751111214\t_TRAIN_RMSE: 4.156667625768413,\tVAL_LOSS: 29.372360623075625,\tVAL_RMSE: 5.419627350941726\n",
      "Initial patience 30\n",
      "2021-11-09 16:15:31.563336 Epoch 151, Training loss 2.098525519566553e-05\n",
      "NeoRegression, predict method active\n",
      "SALIMOOOOOOOOOOOOOOOOOO\n",
      "==> Epoch 151,\tTRAIN_LOSS: 16.966341035370807\t_TRAIN_RMSE: 4.119021854199223,\tVAL_LOSS: 29.513056748160867,\tVAL_RMSE: 5.432592083725859\n",
      "Initial patience 29\n",
      "2021-11-09 16:15:52.210940 Epoch 152, Training loss 2.152652462641794e-05\n",
      "NeoRegression, predict method active\n",
      "SALIMOOOOOOOOOOOOOOOOOO\n",
      "==> Epoch 152,\tTRAIN_LOSS: 16.962891333584754\t_TRAIN_RMSE: 4.118603080364112,\tVAL_LOSS: 28.364355330707237,\tVAL_RMSE: 5.325819686274333\n",
      "Initial patience 28\n",
      "NeoRegression, scatter_plot_history method active\n",
      "2021-11-09 16:16:17.374329 Epoch 153, Training loss 2.0811594033469137e-05\n",
      "NeoRegression, predict method active\n",
      "SALIMOOOOOOOOOOOOOOOOOO\n",
      "==> Epoch 153,\tTRAIN_LOSS: 16.84623964943378\t_TRAIN_RMSE: 4.10441709009133,\tVAL_LOSS: 28.733748268077562,\tVAL_RMSE: 5.360386951338267\n",
      "Initial patience 27\n",
      "2021-11-09 16:16:37.899608 Epoch 154, Training loss 2.0822680610237645e-05\n",
      "NeoRegression, predict method active\n",
      "SALIMOOOOOOOOOOOOOOOOOO\n",
      "==> Epoch 154,\tTRAIN_LOSS: 16.944778399683674\t_TRAIN_RMSE: 4.116403575900166,\tVAL_LOSS: 28.765874904830685,\tVAL_RMSE: 5.363382785596296\n",
      "Initial patience 26\n",
      "2021-11-09 16:16:58.468532 Epoch 155, Training loss 2.0900276140435753e-05\n",
      "NeoRegression, predict method active\n",
      "SALIMOOOOOOOOOOOOOOOOOO\n",
      "==> Epoch 155,\tTRAIN_LOSS: 16.831294775867033\t_TRAIN_RMSE: 4.102596101966051,\tVAL_LOSS: 28.749477522882387,\tVAL_RMSE: 5.361853925918011\n",
      "Initial patience 25\n",
      "2021-11-09 16:17:19.336483 Epoch 156, Training loss 2.0965298854427794e-05\n",
      "NeoRegression, predict method active\n",
      "SALIMOOOOOOOOOOOOOOOOOO\n",
      "==> Epoch 156,\tTRAIN_LOSS: 16.99239639245725\t_TRAIN_RMSE: 4.122183449636521,\tVAL_LOSS: 28.63330236643974,\tVAL_RMSE: 5.351009471720242\n",
      "Initial patience 24\n",
      "NeoRegression, scatter_plot_history method active\n",
      "2021-11-09 16:17:44.473809 Epoch 157, Training loss 2.072846453484719e-05\n",
      "NeoRegression, predict method active\n",
      "SALIMOOOOOOOOOOOOOOOOOO\n",
      "==> Epoch 157,\tTRAIN_LOSS: 16.695456436861356\t_TRAIN_RMSE: 4.086007395595529,\tVAL_LOSS: 29.099751174364176,\tVAL_RMSE: 5.394418520504706\n",
      "Initial patience 23\n",
      "2021-11-09 16:18:05.039331 Epoch 158, Training loss 2.1649500852627515e-05\n",
      "NeoRegression, predict method active\n",
      "SALIMOOOOOOOOOOOOOOOOOO\n",
      "==> Epoch 158,\tTRAIN_LOSS: 17.2889374321413\t_TRAIN_RMSE: 4.157996805210569,\tVAL_LOSS: 29.891329352893663,\tVAL_RMSE: 5.467296347637803\n",
      "Initial patience 22\n",
      "2021-11-09 16:18:25.699587 Epoch 159, Training loss 2.128026353665704e-05\n"
     ]
    },
    {
     "name": "stdout",
     "output_type": "stream",
     "text": [
      "NeoRegression, predict method active\n",
      "SALIMOOOOOOOOOOOOOOOOOO\n",
      "==> Epoch 159,\tTRAIN_LOSS: 17.168112661193067\t_TRAIN_RMSE: 4.143442127168312,\tVAL_LOSS: 30.65346390613432,\tVAL_RMSE: 5.536557044421589\n",
      "Initial patience 21\n",
      "2021-11-09 16:18:46.504305 Epoch 160, Training loss 2.0988543867926612e-05\n",
      "NeoRegression, predict method active\n",
      "SALIMOOOOOOOOOOOOOOOOOO\n",
      "==> Epoch 160,\tTRAIN_LOSS: 17.153328591682676\t_TRAIN_RMSE: 4.141657710589164,\tVAL_LOSS: 29.299983983494233,\tVAL_RMSE: 5.412945961627017\n",
      "Initial patience 20\n",
      "NeoRegression, scatter_plot_history method active\n",
      "2021-11-09 16:19:11.528529 Epoch 161, Training loss 2.1095439732936723e-05\n",
      "NeoRegression, predict method active\n",
      "SALIMOOOOOOOOOOOOOOOOOO\n",
      "==> Epoch 161,\tTRAIN_LOSS: 17.21444621598415\t_TRAIN_RMSE: 4.149029551110012,\tVAL_LOSS: 28.54756529209975,\tVAL_RMSE: 5.342992166576678\n",
      "Initial patience 19\n",
      "2021-11-09 16:19:32.243132 Epoch 162, Training loss 2.116490412795098e-05\n",
      "NeoRegression, predict method active\n",
      "SALIMOOOOOOOOOOOOOOOOOO\n",
      "==> Epoch 162,\tTRAIN_LOSS: 16.770973249726577\t_TRAIN_RMSE: 4.095237874620542,\tVAL_LOSS: 29.02755743929067,\tVAL_RMSE: 5.387722843585282\n",
      "Initial patience 18\n",
      "2021-11-09 16:19:52.915965 Epoch 163, Training loss 2.104099310483409e-05\n",
      "NeoRegression, predict method active\n",
      "SALIMOOOOOOOOOOOOOOOOOO\n",
      "==> Epoch 163,\tTRAIN_LOSS: 17.25680726838955\t_TRAIN_RMSE: 4.154131349438718,\tVAL_LOSS: 28.936003077223248,\tVAL_RMSE: 5.379219560235783\n",
      "Initial patience 17\n",
      "2021-11-09 16:20:13.491386 Epoch 164, Training loss 2.089035226531309e-05\n",
      "NeoRegression, predict method active\n",
      "SALIMOOOOOOOOOOOOOOOOOO\n",
      "==> Epoch 164,\tTRAIN_LOSS: 16.88556318126604\t_TRAIN_RMSE: 4.109204689628644,\tVAL_LOSS: 29.02595798213801,\tVAL_RMSE: 5.387574406181135\n",
      "Initial patience 16\n",
      "NeoRegression, scatter_plot_history method active\n",
      "2021-11-09 16:20:38.644899 Epoch 165, Training loss 2.0774987534961562e-05\n",
      "NeoRegression, predict method active\n",
      "SALIMOOOOOOOOOOOOOOOOOO\n",
      "==> Epoch 165,\tTRAIN_LOSS: 16.825516697154484\t_TRAIN_RMSE: 4.101891843668539,\tVAL_LOSS: 29.21993833322703,\tVAL_RMSE: 5.405546996671755\n",
      "Initial patience 15\n",
      "2021-11-09 16:20:59.517664 Epoch 166, Training loss 2.0881452141344248e-05\n",
      "NeoRegression, predict method active\n",
      "SALIMOOOOOOOOOOOOOOOOOO\n",
      "==> Epoch 166,\tTRAIN_LOSS: 16.92281876780339\t_TRAIN_RMSE: 4.113735378923076,\tVAL_LOSS: 29.50818536454357,\tVAL_RMSE: 5.432143717220999\n",
      "Initial patience 14\n",
      "2021-11-09 16:21:20.304378 Epoch 167, Training loss 2.0730397440822413e-05\n",
      "NeoRegression, predict method active\n",
      "SALIMOOOOOOOOOOOOOOOOOO\n",
      "==> Epoch 167,\tTRAIN_LOSS: 16.815571798103875\t_TRAIN_RMSE: 4.100679431277684,\tVAL_LOSS: 29.27364622874191,\tVAL_RMSE: 5.4105125661754\n",
      "Initial patience 13\n",
      "2021-11-09 16:21:41.409173 Epoch 168, Training loss 2.0771390971994087e-05\n",
      "NeoRegression, predict method active\n",
      "SALIMOOOOOOOOOOOOOOOOOO\n",
      "==> Epoch 168,\tTRAIN_LOSS: 17.012586432433082\t_TRAIN_RMSE: 4.124631672335493,\tVAL_LOSS: 28.778968866090676,\tVAL_RMSE: 5.364603327934944\n",
      "Initial patience 12\n",
      "NeoRegression, scatter_plot_history method active\n",
      "2021-11-09 16:22:06.777366 Epoch 169, Training loss 2.1102048051418156e-05\n",
      "NeoRegression, predict method active\n",
      "SALIMOOOOOOOOOOOOOOOOOO\n",
      "==> Epoch 169,\tTRAIN_LOSS: 16.91114333139497\t_TRAIN_RMSE: 4.1123160544144675,\tVAL_LOSS: 29.706963501984355,\tVAL_RMSE: 5.450409480211955\n",
      "Initial patience 11\n",
      "2021-11-09 16:22:27.404232 Epoch 170, Training loss 2.0942220274525606e-05\n",
      "NeoRegression, predict method active\n",
      "SALIMOOOOOOOOOOOOOOOOOO\n",
      "==> Epoch 170,\tTRAIN_LOSS: 16.934108386942395\t_TRAIN_RMSE: 4.115107336017178,\tVAL_LOSS: 29.21013193518974,\tVAL_RMSE: 5.404639852496162\n",
      "Initial patience 10\n",
      "2021-11-09 16:22:48.016807 Epoch 171, Training loss 2.0620207106702636e-05\n",
      "NeoRegression, predict method active\n",
      "SALIMOOOOOOOOOOOOOOOOOO\n",
      "==> Epoch 171,\tTRAIN_LOSS: 16.71505113388059\t_TRAIN_RMSE: 4.088404472881884,\tVAL_LOSS: 28.747497656105946,\tVAL_RMSE: 5.361669297532807\n",
      "Initial patience 9\n",
      "2021-11-09 16:23:07.800236 Epoch 172, Training loss 2.0677702382288133e-05\n",
      "NeoRegression, predict method active\n",
      "SALIMOOOOOOOOOOOOOOOOOO\n",
      "==> Epoch 172,\tTRAIN_LOSS: 16.663527042307038\t_TRAIN_RMSE: 4.082098362644761,\tVAL_LOSS: 28.90142726739079,\tVAL_RMSE: 5.376004768170392\n",
      "Initial patience 8\n",
      "NeoRegression, scatter_plot_history method active\n",
      "2021-11-09 16:23:32.517112 Epoch 173, Training loss 2.065534169424801e-05\n",
      "NeoRegression, predict method active\n",
      "SALIMOOOOOOOOOOOOOOOOOO\n",
      "==> Epoch 173,\tTRAIN_LOSS: 16.540677291973054\t_TRAIN_RMSE: 4.067023148689106,\tVAL_LOSS: 28.855922543888127,\tVAL_RMSE: 5.371770894582915\n",
      "Initial patience 7\n",
      "2021-11-09 16:23:53.238697 Epoch 174, Training loss 2.086324037616414e-05\n",
      "NeoRegression, predict method active\n",
      "SALIMOOOOOOOOOOOOOOOOOO\n",
      "==> Epoch 174,\tTRAIN_LOSS: 16.874754077230293\t_TRAIN_RMSE: 4.107889248413386,\tVAL_LOSS: 29.08867671520635,\tVAL_RMSE: 5.393391948969253\n",
      "Initial patience 6\n",
      "2021-11-09 16:24:14.035099 Epoch 175, Training loss 2.0767463869069803e-05\n",
      "NeoRegression, predict method active\n",
      "SALIMOOOOOOOOOOOOOOOOOO\n",
      "==> Epoch 175,\tTRAIN_LOSS: 17.02005034349006\t_TRAIN_RMSE: 4.125536370399619,\tVAL_LOSS: 29.273485502921154,\tVAL_RMSE: 5.410497713050173\n",
      "Initial patience 5\n",
      "2021-11-09 16:24:34.933557 Epoch 176, Training loss 2.0920723106859485e-05\n",
      "NeoRegression, predict method active\n",
      "SALIMOOOOOOOOOOOOOOOOOO\n",
      "==> Epoch 176,\tTRAIN_LOSS: 16.77142858962666\t_TRAIN_RMSE: 4.095293468071203,\tVAL_LOSS: 28.978894405848063,\tVAL_RMSE: 5.383204845243033\n",
      "Initial patience 4\n",
      "NeoRegression, scatter_plot_history method active\n",
      "2021-11-09 16:25:00.142836 Epoch 177, Training loss 2.1157062188479492e-05\n",
      "NeoRegression, predict method active\n",
      "SALIMOOOOOOOOOOOOOOOOOO\n",
      "==> Epoch 177,\tTRAIN_LOSS: 17.338256512577495\t_TRAIN_RMSE: 4.163923211657186,\tVAL_LOSS: 31.240328403892878,\tVAL_RMSE: 5.589304822953645\n",
      "Initial patience 3\n",
      "2021-11-09 16:25:20.871190 Epoch 178, Training loss 2.0916769770205674e-05\n",
      "NeoRegression, predict method active\n",
      "SALIMOOOOOOOOOOOOOOOOOO\n",
      "==> Epoch 178,\tTRAIN_LOSS: 17.004126998080704\t_TRAIN_RMSE: 4.123606067276638,\tVAL_LOSS: 31.90157426509666,\tVAL_RMSE: 5.648147861476066\n",
      "Initial patience 2\n",
      "2021-11-09 16:25:41.591729 Epoch 179, Training loss 2.0882446421250638e-05\n",
      "NeoRegression, predict method active\n",
      "SALIMOOOOOOOOOOOOOOOOOO\n",
      "==> Epoch 179,\tTRAIN_LOSS: 17.256975732513155\t_TRAIN_RMSE: 4.154151626086024,\tVAL_LOSS: 28.934682638857,\tVAL_RMSE: 5.3790968237109285\n",
      "Initial patience 1\n",
      "Validation loss decreased (5.438904 --> 5.431773).  Saving model ...\n",
      "2021-11-09 16:26:01.521516 Epoch 180, Training loss 2.0819163408550497e-05\n",
      "NeoRegression, predict method active\n",
      "SALIMOOOOOOOOOOOOOOOOOO\n",
      "==> Epoch 180,\tTRAIN_LOSS: 16.848856638705264\t_TRAIN_RMSE: 4.104735879286908,\tVAL_LOSS: 28.525204384892287,\tVAL_RMSE: 5.3408992112651115\n",
      "Validation loss decreased (5.431773 --> 5.425399).  Saving model ...\n",
      "NeoRegression, scatter_plot_history method active\n",
      "2021-11-09 16:26:26.839124 Epoch 181, Training loss 2.088275760848195e-05\n",
      "NeoRegression, predict method active\n",
      "SALIMOOOOOOOOOOOOOOOOOO\n",
      "==> Epoch 181,\tTRAIN_LOSS: 16.83319299053519\t_TRAIN_RMSE: 4.102827438552003,\tVAL_LOSS: 28.918094725028944,\tVAL_RMSE: 5.377554716135294\n",
      "EarlyStopping counter: 1 out of 10\n",
      "2021-11-09 16:26:47.520677 Epoch 182, Training loss 2.0921780832675687e-05\n",
      "NeoRegression, predict method active\n",
      "SALIMOOOOOOOOOOOOOOOOOO\n",
      "==> Epoch 182,\tTRAIN_LOSS: 16.806894638157562\t_TRAIN_RMSE: 4.099621279844952,\tVAL_LOSS: 29.031053469197218,\tVAL_RMSE: 5.3880472779289175\n",
      "EarlyStopping counter: 2 out of 10\n",
      "SALIMOOOOOOOOOOOOOOOOOO\n",
      "==> Epoch 187,\tTRAIN_LOSS: 16.685883439326023\t_TRAIN_RMSE: 4.08483579098671,\tVAL_LOSS: 29.413985041412438,\tVAL_RMSE: 5.4234661464244835\n",
      "EarlyStopping counter: 7 out of 10\n",
      "2021-11-09 16:28:56.057102 Epoch 188, Training loss 2.068714196259509e-05\n",
      "NeoRegression, predict method active\n",
      "SALIMOOOOOOOOOOOOOOOOOO\n",
      "==> Epoch 188,\tTRAIN_LOSS: 16.649548224268475\t_TRAIN_RMSE: 4.080385793557819,\tVAL_LOSS: 28.418384456726333,\tVAL_RMSE: 5.330889649648202\n",
      "Validation loss decreased (5.425399 --> 5.402094).  Saving model ...\n",
      "NeoRegression, scatter_plot_history method active\n",
      "2021-11-09 16:29:21.371003 Epoch 189, Training loss 2.0759505867531782e-05\n",
      "NeoRegression, predict method active\n",
      "SALIMOOOOOOOOOOOOOOOOOO\n",
      "==> Epoch 189,\tTRAIN_LOSS: 16.523754634294992\t_TRAIN_RMSE: 4.064942144028005,\tVAL_LOSS: 28.39497159857134,\tVAL_RMSE: 5.3286932355476555\n",
      "Validation loss decreased (5.402094 --> 5.397053).  Saving model ...\n"
     ]
    },
    {
     "name": "stdout",
     "output_type": "stream",
     "text": [
      "2021-11-09 16:29:42.226950 Epoch 190, Training loss 2.0657282056348915e-05\n",
      "NeoRegression, predict method active\n",
      "SALIMOOOOOOOOOOOOOOOOOO\n",
      "==> Epoch 190,\tTRAIN_LOSS: 16.64817627022578\t_TRAIN_RMSE: 4.080217674368094,\tVAL_LOSS: 28.920345827429628,\tVAL_RMSE: 5.377764017454617\n",
      "EarlyStopping counter: 1 out of 10\n",
      "2021-11-09 16:30:02.856289 Epoch 191, Training loss 2.1108890501844483e-05\n",
      "NeoRegression, predict method active\n",
      "SALIMOOOOOOOOOOOOOOOOOO\n",
      "==> Epoch 191,\tTRAIN_LOSS: 16.571615447641037\t_TRAIN_RMSE: 4.070824909971078,\tVAL_LOSS: 29.23018677378179,\tVAL_RMSE: 5.40649486948631\n",
      "EarlyStopping counter: 2 out of 10\n",
      "2021-11-09 16:30:23.299251 Epoch 192, Training loss 2.0873906893048808e-05\n",
      "NeoRegression, predict method active\n",
      "SALIMOOOOOOOOOOOOOOOOOO\n",
      "==> Epoch 192,\tTRAIN_LOSS: 16.471364532290465\t_TRAIN_RMSE: 4.05849288927435,\tVAL_LOSS: 28.619401889316695,\tVAL_RMSE: 5.349710449109998\n",
      "EarlyStopping counter: 3 out of 10\n",
      "NeoRegression, scatter_plot_history method active\n",
      "2021-11-09 16:30:47.550644 Epoch 193, Training loss 2.0754217457956862e-05\n",
      "NeoRegression, predict method active\n",
      "SALIMOOOOOOOOOOOOOOOOOO\n",
      "==> Epoch 193,\tTRAIN_LOSS: 16.699192986577877\t_TRAIN_RMSE: 4.086464607283156,\tVAL_LOSS: 30.394823714461264,\tVAL_RMSE: 5.513150071824752\n",
      "EarlyStopping counter: 4 out of 10\n",
      "2021-11-09 16:31:08.188053 Epoch 194, Training loss 2.072968200050489e-05\n",
      "NeoRegression, predict method active\n",
      "SALIMOOOOOOOOOOOOOOOOOO\n",
      "==> Epoch 194,\tTRAIN_LOSS: 16.87475223767101\t_TRAIN_RMSE: 4.107889024507723,\tVAL_LOSS: 28.64182367988387,\tVAL_RMSE: 5.351805646684479\n",
      "Validation loss decreased (5.397053 --> 5.387249).  Saving model ...\n",
      "2021-11-09 16:31:28.954234 Epoch 195, Training loss 2.0485768165904703e-05\n",
      "NeoRegression, predict method active\n",
      "SALIMOOOOOOOOOOOOOOOOOO\n",
      "==> Epoch 195,\tTRAIN_LOSS: 16.472687453345664\t_TRAIN_RMSE: 4.058655867814573,\tVAL_LOSS: 28.9848310025919,\tVAL_RMSE: 5.383756216861226\n",
      "EarlyStopping counter: 1 out of 10\n",
      "2021-11-09 16:31:49.513987 Epoch 196, Training loss 2.059831621496433e-05\n",
      "NeoRegression, predict method active\n",
      "SALIMOOOOOOOOOOOOOOOOOO\n",
      "==> Epoch 196,\tTRAIN_LOSS: 16.627647793076363\t_TRAIN_RMSE: 4.077701287867511,\tVAL_LOSS: 29.354325013021988,\tVAL_RMSE: 5.417963179371191\n",
      "EarlyStopping counter: 2 out of 10\n",
      "NeoRegression, scatter_plot_history method active\n",
      "2021-11-09 16:32:14.731782 Epoch 197, Training loss 2.0630794479452767e-05\n",
      "NeoRegression, predict method active\n",
      "SALIMOOOOOOOOOOOOOOOOOO\n",
      "==> Epoch 197,\tTRAIN_LOSS: 16.47816695118702\t_TRAIN_RMSE: 4.0593308501755585,\tVAL_LOSS: 28.975285022514363,\tVAL_RMSE: 5.382869589959835\n",
      "Validation loss decreased (5.387249 --> 5.384310).  Saving model ...\n",
      "2021-11-09 16:32:35.493979 Epoch 198, Training loss 2.132165481549051e-05\n",
      "NeoRegression, predict method active\n",
      "SALIMOOOOOOOOOOOOOOOOOO\n",
      "==> Epoch 198,\tTRAIN_LOSS: 17.027136205177044\t_TRAIN_RMSE: 4.126395061694534,\tVAL_LOSS: 29.08989005024423,\tVAL_RMSE: 5.393504431280671\n",
      "EarlyStopping counter: 1 out of 10\n",
      "2021-11-09 16:32:56.010644 Epoch 199, Training loss 2.1219478828800182e-05\n",
      "NeoRegression, predict method active\n",
      "SALIMOOOOOOOOOOOOOOOOOO\n",
      "==> Epoch 199,\tTRAIN_LOSS: 16.92737921852632\t_TRAIN_RMSE: 4.114289637170227,\tVAL_LOSS: 28.69618640849756,\tVAL_RMSE: 5.35688215368768\n",
      "EarlyStopping counter: 2 out of 10\n",
      "2021-11-09 16:33:16.704510 Epoch 200, Training loss 2.1187388617416966e-05\n",
      "NeoRegression, predict method active\n",
      "SALIMOOOOOOOOOOOOOOOOOO\n",
      "==> Epoch 200,\tTRAIN_LOSS: 16.871174050008626\t_TRAIN_RMSE: 4.10745347508753,\tVAL_LOSS: 28.553611986318465,\tVAL_RMSE: 5.34355798942226\n",
      "EarlyStopping counter: 3 out of 10\n",
      "NeoRegression, scatter_plot_history method active\n",
      "2021-11-09 16:33:41.916184 Epoch 201, Training loss 2.0638840921777966e-05\n",
      "NeoRegression, predict method active\n",
      "SALIMOOOOOOOOOOOOOOOOOO\n",
      "==> Epoch 201,\tTRAIN_LOSS: 16.584767196681568\t_TRAIN_RMSE: 4.072439956178798,\tVAL_LOSS: 28.6717642131621,\tVAL_RMSE: 5.3546021526498215\n",
      "EarlyStopping counter: 4 out of 10\n",
      "2021-11-09 16:34:02.646191 Epoch 202, Training loss 2.056826826390276e-05\n",
      "NeoRegression, predict method active\n",
      "SALIMOOOOOOOOOOOOOOOOOO\n",
      "==> Epoch 202,\tTRAIN_LOSS: 16.510716326625108\t_TRAIN_RMSE: 4.063338076831056,\tVAL_LOSS: 28.57327554336048,\tVAL_RMSE: 5.345397603860772\n",
      "EarlyStopping counter: 5 out of 10\n",
      "2021-11-09 16:34:23.127642 Epoch 203, Training loss 2.0663179635797938e-05\n",
      "NeoRegression, predict method active\n",
      "SALIMOOOOOOOOOOOOOOOOOO\n",
      "==> Epoch 203,\tTRAIN_LOSS: 16.724262567754923\t_TRAIN_RMSE: 4.089530849346282,\tVAL_LOSS: 28.474634979332965,\tVAL_RMSE: 5.336162945350616\n",
      "Validation loss decreased (5.384310 --> 5.366650).  Saving model ...\n",
      "2021-11-09 16:34:43.916016 Epoch 204, Training loss 2.079156512029755e-05\n",
      "NeoRegression, predict method active\n",
      "SALIMOOOOOOOOOOOOOOOOOO\n",
      "==> Epoch 204,\tTRAIN_LOSS: 16.823076535025248\t_TRAIN_RMSE: 4.10159438938387,\tVAL_LOSS: 29.35678623549714,\tVAL_RMSE: 5.418190310011004\n",
      "EarlyStopping counter: 1 out of 10\n",
      "NeoRegression, scatter_plot_history method active\n",
      "2021-11-09 16:35:08.960334 Epoch 205, Training loss 2.078862038061746e-05\n",
      "NeoRegression, predict method active\n",
      "SALIMOOOOOOOOOOOOOOOOOO\n",
      "==> Epoch 205,\tTRAIN_LOSS: 17.060202847420697\t_TRAIN_RMSE: 4.13039984110748,\tVAL_LOSS: 29.36935935198349,\tVAL_RMSE: 5.419350454803923\n",
      "EarlyStopping counter: 2 out of 10\n",
      "2021-11-09 16:35:29.725780 Epoch 206, Training loss 2.0796263605724497e-05\n",
      "NeoRegression, predict method active\n",
      "SALIMOOOOOOOOOOOOOOOOOO\n",
      "==> Epoch 206,\tTRAIN_LOSS: 16.962022592460585\t_TRAIN_RMSE: 4.118497613506724,\tVAL_LOSS: 28.94963283332057,\tVAL_RMSE: 5.3804863008208255\n",
      "EarlyStopping counter: 3 out of 10\n",
      "2021-11-09 16:35:50.522385 Epoch 207, Training loss 2.064784130544124e-05\n",
      "NeoRegression, predict method active\n",
      "SALIMOOOOOOOOOOOOOOOOOO\n",
      "==> Epoch 207,\tTRAIN_LOSS: 16.98306231087742\t_TRAIN_RMSE: 4.1210511172366475,\tVAL_LOSS: 29.435865269155542,\tVAL_RMSE: 5.425482952618646\n",
      "EarlyStopping counter: 4 out of 10\n",
      "2021-11-09 16:36:11.056731 Epoch 208, Training loss 2.1164815789737655e-05\n",
      "NeoRegression, predict method active\n",
      "SALIMOOOOOOOOOOOOOOOOOO\n",
      "==> Epoch 208,\tTRAIN_LOSS: 17.352175624351535\t_TRAIN_RMSE: 4.165594270251429,\tVAL_LOSS: 29.289993022093782,\tVAL_RMSE: 5.412023006426875\n",
      "EarlyStopping counter: 5 out of 10\n",
      "NeoRegression, scatter_plot_history method active\n",
      "2021-11-09 16:36:36.052495 Epoch 209, Training loss 2.09986400915085e-05\n",
      "NeoRegression, predict method active\n",
      "SALIMOOOOOOOOOOOOOOOOOO\n",
      "==> Epoch 209,\tTRAIN_LOSS: 17.036216914351463\t_TRAIN_RMSE: 4.127495234927772,\tVAL_LOSS: 30.333804554973074,\tVAL_RMSE: 5.507613326566515\n",
      "EarlyStopping counter: 6 out of 10\n",
      "2021-11-09 16:36:56.911756 Epoch 210, Training loss 2.1137974063000178e-05\n",
      "NeoRegression, predict method active\n",
      "SALIMOOOOOOOOOOOOOOOOOO\n",
      "==> Epoch 210,\tTRAIN_LOSS: 17.089997836950026\t_TRAIN_RMSE: 4.134005060102131,\tVAL_LOSS: 28.982045436929734,\tVAL_RMSE: 5.38349750969848\n",
      "EarlyStopping counter: 7 out of 10\n",
      "2021-11-09 16:37:17.579801 Epoch 211, Training loss 2.098717475268175e-05\n",
      "NeoRegression, predict method active\n",
      "SALIMOOOOOOOOOOOOOOOOOO\n",
      "==> Epoch 211,\tTRAIN_LOSS: 16.735101729471047\t_TRAIN_RMSE: 4.09085586759923,\tVAL_LOSS: 30.236687900862506,\tVAL_RMSE: 5.498789675998029\n",
      "EarlyStopping counter: 8 out of 10\n",
      "2021-11-09 16:37:38.165609 Epoch 212, Training loss 2.068255526427521e-05\n",
      "NeoRegression, predict method active\n",
      "SALIMOOOOOOOOOOOOOOOOOO\n",
      "==> Epoch 212,\tTRAIN_LOSS: 16.742565218270414\t_TRAIN_RMSE: 4.091767981969459,\tVAL_LOSS: 28.864557383834224,\tVAL_RMSE: 5.372574558238743\n",
      "EarlyStopping counter: 9 out of 10\n",
      "NeoRegression, scatter_plot_history method active\n",
      "2021-11-09 16:38:03.254321 Epoch 213, Training loss 2.0641448642629985e-05\n",
      "NeoRegression, predict method active\n",
      "SALIMOOOOOOOOOOOOOOOOOO\n",
      "==> Epoch 213,\tTRAIN_LOSS: 16.601393161135395\t_TRAIN_RMSE: 4.0744807228818,\tVAL_LOSS: 29.106275107965576,\tVAL_RMSE: 5.395023179557765\n",
      "EarlyStopping counter: 10 out of 10\n",
      "Early stopping the training.\n",
      "EOOOOOOOOO\n"
     ]
    },
    {
     "data": {
      "text/plain": [
       "<Figure size 432x288 with 0 Axes>"
      ]
     },
     "metadata": {},
     "output_type": "display_data"
    },
    {
     "data": {
      "text/plain": [
       "<Figure size 1296x1296 with 0 Axes>"
      ]
     },
     "metadata": {},
     "output_type": "display_data"
    },
    {
     "data": {
      "text/plain": [
       "<Figure size 1296x1296 with 0 Axes>"
      ]
     },
     "metadata": {},
     "output_type": "display_data"
    },
    {
     "data": {
      "text/plain": [
       "<Figure size 1296x1296 with 0 Axes>"
      ]
     },
     "metadata": {},
     "output_type": "display_data"
    },
    {
     "data": {
      "text/plain": [
       "<Figure size 1296x1296 with 0 Axes>"
      ]
     },
     "metadata": {},
     "output_type": "display_data"
    },
    {
     "data": {
      "text/plain": [
       "<Figure size 1296x1296 with 0 Axes>"
      ]
     },
     "metadata": {},
     "output_type": "display_data"
    },
    {
     "data": {
      "text/plain": [
       "<Figure size 1296x1296 with 0 Axes>"
      ]
     },
     "metadata": {},
     "output_type": "display_data"
    },
    {
     "data": {
      "text/plain": [
       "<Figure size 1296x1296 with 0 Axes>"
      ]
     },
     "metadata": {},
     "output_type": "display_data"
    },
    {
     "data": {
      "text/plain": [
       "<Figure size 1296x1296 with 0 Axes>"
      ]
     },
     "metadata": {},
     "output_type": "display_data"
    },
    {
     "data": {
      "text/plain": [
       "<Figure size 1296x1296 with 0 Axes>"
      ]
     },
     "metadata": {},
     "output_type": "display_data"
    },
    {
     "data": {
      "text/plain": [
       "<Figure size 1296x1296 with 0 Axes>"
      ]
     },
     "metadata": {},
     "output_type": "display_data"
    },
    {
     "data": {
      "text/plain": [
       "<Figure size 1296x1296 with 0 Axes>"
      ]
     },
     "metadata": {},
     "output_type": "display_data"
    },
    {
     "data": {
      "text/plain": [
       "<Figure size 1296x1296 with 0 Axes>"
      ]
     },
     "metadata": {},
     "output_type": "display_data"
    },
    {
     "data": {
      "text/plain": [
       "<Figure size 1296x1296 with 0 Axes>"
      ]
     },
     "metadata": {},
     "output_type": "display_data"
    },
    {
     "data": {
      "text/plain": [
       "<Figure size 1296x1296 with 0 Axes>"
      ]
     },
     "metadata": {},
     "output_type": "display_data"
    },
    {
     "data": {
      "text/plain": [
       "<Figure size 1296x1296 with 0 Axes>"
      ]
     },
     "metadata": {},
     "output_type": "display_data"
    },
    {
     "data": {
      "text/plain": [
       "<Figure size 1296x1296 with 0 Axes>"
      ]
     },
     "metadata": {},
     "output_type": "display_data"
    },
    {
     "data": {
      "text/plain": [
       "<Figure size 1296x1296 with 0 Axes>"
      ]
     },
     "metadata": {},
     "output_type": "display_data"
    },
    {
     "data": {
      "text/plain": [
       "<Figure size 1296x1296 with 0 Axes>"
      ]
     },
     "metadata": {},
     "output_type": "display_data"
    },
    {
     "data": {
      "text/plain": [
       "<Figure size 1296x1296 with 0 Axes>"
      ]
     },
     "metadata": {},
     "output_type": "display_data"
    },
    {
     "data": {
      "text/plain": [
       "<Figure size 1296x1296 with 0 Axes>"
      ]
     },
     "metadata": {},
     "output_type": "display_data"
    },
    {
     "data": {
      "text/plain": [
       "<Figure size 1296x1296 with 0 Axes>"
      ]
     },
     "metadata": {},
     "output_type": "display_data"
    },
    {
     "data": {
      "text/plain": [
       "<Figure size 1296x1296 with 0 Axes>"
      ]
     },
     "metadata": {},
     "output_type": "display_data"
    },
    {
     "data": {
      "text/plain": [
       "<Figure size 1296x1296 with 0 Axes>"
      ]
     },
     "metadata": {},
     "output_type": "display_data"
    },
    {
     "data": {
      "text/plain": [
       "<Figure size 1296x1296 with 0 Axes>"
      ]
     },
     "metadata": {},
     "output_type": "display_data"
    },
    {
     "data": {
      "text/plain": [
       "<Figure size 1296x1296 with 0 Axes>"
      ]
     },
     "metadata": {},
     "output_type": "display_data"
    },
    {
     "data": {
      "text/plain": [
       "<Figure size 1296x1296 with 0 Axes>"
      ]
     },
     "metadata": {},
     "output_type": "display_data"
    },
    {
     "data": {
      "text/plain": [
       "<Figure size 1296x1296 with 0 Axes>"
      ]
     },
     "metadata": {},
     "output_type": "display_data"
    },
    {
     "data": {
      "text/plain": [
       "<Figure size 1296x1296 with 0 Axes>"
      ]
     },
     "metadata": {},
     "output_type": "display_data"
    },
    {
     "data": {
      "text/plain": [
       "<Figure size 1296x1296 with 0 Axes>"
      ]
     },
     "metadata": {},
     "output_type": "display_data"
    },
    {
     "data": {
      "text/plain": [
       "<Figure size 1296x1296 with 0 Axes>"
      ]
     },
     "metadata": {},
     "output_type": "display_data"
    },
    {
     "data": {
      "text/plain": [
       "<Figure size 1296x1296 with 0 Axes>"
      ]
     },
     "metadata": {},
     "output_type": "display_data"
    },
    {
     "data": {
      "text/plain": [
       "<Figure size 1296x1296 with 0 Axes>"
      ]
     },
     "metadata": {},
     "output_type": "display_data"
    },
    {
     "data": {
      "text/plain": [
       "<Figure size 1296x1296 with 0 Axes>"
      ]
     },
     "metadata": {},
     "output_type": "display_data"
    },
    {
     "data": {
      "text/plain": [
       "<Figure size 1296x1296 with 0 Axes>"
      ]
     },
     "metadata": {},
     "output_type": "display_data"
    },
    {
     "data": {
      "text/plain": [
       "<Figure size 1296x1296 with 0 Axes>"
      ]
     },
     "metadata": {},
     "output_type": "display_data"
    },
    {
     "data": {
      "text/plain": [
       "<Figure size 1296x1296 with 0 Axes>"
      ]
     },
     "metadata": {},
     "output_type": "display_data"
    },
    {
     "data": {
      "text/plain": [
       "<Figure size 1296x1296 with 0 Axes>"
      ]
     },
     "metadata": {},
     "output_type": "display_data"
    },
    {
     "data": {
      "text/plain": [
       "<Figure size 1296x1296 with 0 Axes>"
      ]
     },
     "metadata": {},
     "output_type": "display_data"
    },
    {
     "data": {
      "text/plain": [
       "<Figure size 1296x1296 with 0 Axes>"
      ]
     },
     "metadata": {},
     "output_type": "display_data"
    },
    {
     "data": {
      "text/plain": [
       "<Figure size 1296x1296 with 0 Axes>"
      ]
     },
     "metadata": {},
     "output_type": "display_data"
    },
    {
     "data": {
      "text/plain": [
       "<Figure size 1296x1296 with 0 Axes>"
      ]
     },
     "metadata": {},
     "output_type": "display_data"
    },
    {
     "data": {
      "text/plain": [
       "<Figure size 1296x1296 with 0 Axes>"
      ]
     },
     "metadata": {},
     "output_type": "display_data"
    },
    {
     "data": {
      "text/plain": [
       "<Figure size 1296x1296 with 0 Axes>"
      ]
     },
     "metadata": {},
     "output_type": "display_data"
    },
    {
     "data": {
      "text/plain": [
       "<Figure size 1296x1296 with 0 Axes>"
      ]
     },
     "metadata": {},
     "output_type": "display_data"
    },
    {
     "data": {
      "text/plain": [
       "<Figure size 1296x1296 with 0 Axes>"
      ]
     },
     "metadata": {},
     "output_type": "display_data"
    },
    {
     "data": {
      "text/plain": [
       "<Figure size 1296x1296 with 0 Axes>"
      ]
     },
     "metadata": {},
     "output_type": "display_data"
    },
    {
     "data": {
      "text/plain": [
       "<Figure size 1296x1296 with 0 Axes>"
      ]
     },
     "metadata": {},
     "output_type": "display_data"
    },
    {
     "data": {
      "text/plain": [
       "<Figure size 1296x1296 with 0 Axes>"
      ]
     },
     "metadata": {},
     "output_type": "display_data"
    },
    {
     "data": {
      "text/plain": [
       "<Figure size 1296x1296 with 0 Axes>"
      ]
     },
     "metadata": {},
     "output_type": "display_data"
    },
    {
     "data": {
      "text/plain": [
       "<Figure size 1296x1296 with 0 Axes>"
      ]
     },
     "metadata": {},
     "output_type": "display_data"
    },
    {
     "data": {
      "text/plain": [
       "<Figure size 1296x1296 with 0 Axes>"
      ]
     },
     "metadata": {},
     "output_type": "display_data"
    },
    {
     "data": {
      "text/plain": [
       "<Figure size 1296x1296 with 0 Axes>"
      ]
     },
     "metadata": {},
     "output_type": "display_data"
    },
    {
     "data": {
      "text/plain": [
       "<Figure size 1296x1296 with 0 Axes>"
      ]
     },
     "metadata": {},
     "output_type": "display_data"
    },
    {
     "data": {
      "image/png": "[encoded data removed]",
      "text/plain": [
       "<Figure size 1296x1296 with 4 Axes>"
      ]
     },
     "metadata": {
      "needs_background": "light"
     },
     "output_type": "display_data"
    }
   ],
   "source": [
    "\n",
    "#Fit model\n",
    "reg.fit(x_train_tree, x_train_query.values, y_train, x_val_tree, x_val_query.values, y_val)\n",
    "print(\"EOOOOOOOOO\")\n"
   ]
  },
  {
   "cell_type": "code",
   "execution_count": null,
   "metadata": {},
   "outputs": [],
   "source": []
  },
  {
   "cell_type": "code",
   "execution_count": null,
   "metadata": {},
   "outputs": [],
   "source": [
    "#Save best model\n",
    "import torch\n",
    "torch.save(reg.best_model.state_dict(), \"./best_model.pt\")\n",
    "#Save stats in val set\n",
    "file_to_store = open(\"./execution_model_stats.pickle\", \"wb\")\n",
    "pickle.dump(getpredictions_info(x_val_tree, x_val_query, y_val), file_to_store)\n",
    "file_to_store.close()"
   ]
  },
  {
   "cell_type": "code",
   "execution_count": null,
   "metadata": {},
   "outputs": [],
   "source": []
  },
  {
   "cell_type": "code",
   "execution_count": null,
   "metadata": {},
   "outputs": [],
   "source": []
  },
  {
   "cell_type": "code",
   "execution_count": null,
   "metadata": {
    "pycharm": {
     "metadata": false,
     "name": "#%%\n"
    }
   },
   "outputs": [],
   "source": [
    "\n",
    "val_stats = getpredictions_info(x_val_tree, x_val_query, y_val)"
   ]
  },
  {
   "cell_type": "code",
   "execution_count": null,
   "metadata": {
    "pycharm": {}
   },
   "outputs": [],
   "source": [
    "ds_val['y_pred'] = val_stats['pred']"
   ]
  },
  {
   "cell_type": "code",
   "execution_count": null,
   "metadata": {
    "pycharm": {}
   },
   "outputs": [],
   "source": [
    "\n",
    "test_stats = getpredictions_info(x_test_tree, x_test_query, y_test)"
   ]
  },
  {
   "cell_type": "code",
   "execution_count": null,
   "metadata": {
    "pycharm": {}
   },
   "outputs": [],
   "source": [
    "ds_test['y_realcheck'] = test_stats['real']\n"
   ]
  },
  {
   "cell_type": "code",
   "execution_count": null,
   "metadata": {
    "pycharm": {}
   },
   "outputs": [],
   "source": [
    "def tag_points(x):\n",
    "    \"\"\"Add quality tags of predictions. Used to plot with plotly\"\"\"\n",
    "    difference = x['time'] - x['y_pred'][0]\n",
    "    abs_diff = np.abs(difference)\n",
    "    x['y_pred'] = x['y_pred'][0]\n",
    "    x['query2'] = x['query'].replace(\" . \", ' . <br>').replace(\" FILTER\", '<br> FILTER').replace(\" { \", ' { <br>').replace(\" } \", ' <br> }').replace(\" ; \", ' ; <br>') \n",
    "    p20 = x['time'] * 0.2\n",
    "    p40 = x['time'] * 0.4\n",
    "    if abs_diff < p20:\n",
    "        x['color'] = \"good prediction\"\n",
    "    elif abs_diff < p40:\n",
    "        x['color'] = \"aceptable prediction\"\n",
    "    else:\n",
    "        x['color'] = \"bad prediction\"\n",
    "    return x"
   ]
  },
  {
   "cell_type": "code",
   "execution_count": null,
   "metadata": {
    "pycharm": {}
   },
   "outputs": [],
   "source": [
    "other = ds_test.apply(lambda x: tag_points(x), axis=1)"
   ]
  },
  {
   "cell_type": "code",
   "execution_count": null,
   "metadata": {
    "pycharm": {}
   },
   "outputs": [],
   "source": [
    "other.to_pickle(\"./predictions_test.pickle\")"
   ]
  },
  {
   "cell_type": "code",
   "execution_count": null,
   "metadata": {
    "pycharm": {}
   },
   "outputs": [],
   "source": [
    "otherval = ds_val.apply(lambda x: tag_points(x), axis=1)"
   ]
  },
  {
   "cell_type": "code",
   "execution_count": null,
   "metadata": {
    "pycharm": {}
   },
   "outputs": [],
   "source": [
    "otherval.to_pickle(\"./predictions_val.pickle\")"
   ]
  },
  {
   "cell_type": "code",
   "execution_count": null,
   "metadata": {
    "pycharm": {}
   },
   "outputs": [],
   "source": [
    "fig = px.scatter(otherval[['id','query','query2','time','y_pred','color']], x=\"y_pred\", y=\"time\", color=\"color\", hover_data=['id', 'query2'])\n",
    "fig.update_layout(height=800, width=1000, title_text=\"Predictions on Val Set\")\n",
    "fig.show()"
   ]
  },
  {
   "cell_type": "code",
   "execution_count": null,
   "metadata": {
    "pycharm": {}
   },
   "outputs": [],
   "source": [
    "fig = px.scatter(other[['id','query','query2','time','y_pred','color']], x=\"y_pred\", y=\"time\", color=\"color\", hover_data=['id', 'query2'])\n",
    "fig.update_layout(height=800, width=1000, title_text=\"Predictions on Test Set\")\n",
    "fig.show()"
   ]
  },
  {
   "cell_type": "code",
   "execution_count": null,
   "metadata": {},
   "outputs": [],
   "source": []
  },
  {
   "cell_type": "code",
   "execution_count": null,
   "metadata": {},
   "outputs": [],
   "source": []
  },
  {
   "cell_type": "code",
   "execution_count": null,
   "metadata": {},
   "outputs": [],
   "source": []
  }
 ],
 "metadata": {
  "kernelspec": {
   "display_name": "Python 3 (ipykernel)",
   "language": "python",
   "name": "python3"
  },
  "language_info": {
   "codemirror_mode": {
    "name": "ipython",
    "version": 3
   },
   "file_extension": ".py",
   "mimetype": "text/x-python",
   "name": "python",
   "nbconvert_exporter": "python",
   "pygments_lexer": "ipython3",
   "version": "3.8.10"
  },
  "stem_cell": {
   "cell_type": "raw",
   "metadata": {
    "pycharm": {
     "metadata": false
    }
   },
   "source": ""
  }
 },
 "nbformat": 4,
 "nbformat_minor": 4
}
