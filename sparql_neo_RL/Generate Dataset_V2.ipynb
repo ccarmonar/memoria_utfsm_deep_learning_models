{
 "cells": [
  {
   "cell_type": "markdown",
   "metadata": {},
   "source": [
    "## LIBRERIAS y CONSTANTES"
   ]
  },
  {
   "cell_type": "code",
   "execution_count": 1,
   "metadata": {
    "scrolled": true
   },
   "outputs": [
    {
     "data": {
      "text/plain": [
       "131072"
      ]
     },
     "execution_count": 1,
     "metadata": {},
     "output_type": "execute_result"
    }
   ],
   "source": [
    "import numpy as np\n",
    "import pandas as pd\n",
    "import pickle\n",
    "import torch.nn as nn\n",
    "from torch.utils.data import DataLoader\n",
    "import json, ast, sys, csv, random\n",
    "import plotly.express as px\n",
    "import math\n",
    "import datetime\n",
    "import sys\n",
    "import csv\n",
    "\n",
    "#Implement training process\n",
    "#from model_trees_algebra import NeoRegression\n",
    "\n",
    "from sklearn.utils import shuffle\n",
    "from sklearn.metrics import mean_squared_error, mean_absolute_error\n",
    "from sklearn.preprocessing import StandardScaler\n",
    "from sklearn.model_selection import train_test_split\n",
    "\n",
    "from functions.tree_format import IterateBuildTree, InnerJoinsIntraBGPS, \\\n",
    "                                IterateBuildTreeBetweenBGPS, TreeFormat, TreeFormat_all\n",
    "from functions.RL_functions import GetTriplesSubtree, \\\n",
    "                                        GetTreeSize, \\\n",
    "                                        GetAllJoins, \\\n",
    "                                        GetIter, \\\n",
    "                                        GetTotalBgp, \\\n",
    "                                        GetDataframe\n",
    "\n",
    "from functions.aux import MetricTotalAccuraccy\n",
    "\n",
    "\n",
    "class BaoTrainingException(Exception):\n",
    "    pass\n",
    "csv.field_size_limit(sys.maxsize)\n"
   ]
  },
  {
   "cell_type": "markdown",
   "metadata": {},
   "source": [
    "### Basic parameters"
   ]
  },
  {
   "cell_type": "code",
   "execution_count": 2,
   "metadata": {},
   "outputs": [],
   "source": [
    "URL = \"/media/data/ccarmona/memoria/dataset/\"\n",
    "csv_name = 'new_dataset_7.2_subqueries'\n",
    "symbol = \"ᶲ\"\n",
    "min1, max1 = 50, 150\n",
    "min2, max2 = 1,150\n",
    "#Este parametro sirve para elegir cierta cantidad de data ordenado por rangos de tiempo obtenidos.\n",
    "## Entre más bajo menos data se seleccionara. Si es muy alto se tendran demasiados valores outliners, \n",
    "## pero si es muy bajo podría tenerse una data no representativa y se aumenta el riesgo de overfitting.\n",
    "## Por otro lado min_data, simplemente da el valor minimo de tiempo de ejecución que tiene una consulta tomada\n",
    "## en cuenta para hacer el modelo\n",
    "#percent_of_data_or = 0.93\n",
    "#min_time_or = 15\n",
    "#max_time_or = 80\n",
    "#percent_of_data = 1\n",
    "#min_time = 5\n",
    "#max_time = 80\n"
   ]
  },
  {
   "cell_type": "code",
   "execution_count": 3,
   "metadata": {},
   "outputs": [],
   "source": [
    "def split_ds(all_data, val_rate, seed):\n",
    "    \"\"\"\n",
    "    Used  to keep a balance of sets with respect to runtime of queries. \n",
    "    test_rate is a rate of the total,\n",
    "    val_rate is a rate of the (total - test_rate)\n",
    "    :param all_data: Pandas dataframe with data\n",
    "    :param val_rate: Rate of the (total - test_rate)\n",
    "    :param seed: For replication of results, this fixes the seed of split method. \n",
    "    :return: \n",
    "    \"\"\"\n",
    "    ranges = {}\n",
    "    ranges['1_2'] = all_data[(all_data[\"time\"] > 0)    & (all_data[\"time\"] <= 2)]\n",
    "    ranges['2_3'] = all_data[(all_data[\"time\"] > 2)    & (all_data[\"time\"] <= 3)]\n",
    "    ranges['3_4'] = all_data[(all_data[\"time\"] > 3)    & (all_data[\"time\"] <= 4)]\n",
    "    ranges['4_5'] = all_data[(all_data[\"time\"] > 4)    & (all_data[\"time\"] <= 5)]\n",
    "    ranges['5_8'] = all_data[(all_data[\"time\"] > 5)    & (all_data[\"time\"] <= 8)]\n",
    "    ranges['8_10'] = all_data[(all_data[\"time\"] > 8)   & (all_data[\"time\"] <= 10)]\n",
    "    ranges['10_20'] =   all_data[(all_data[\"time\"] > 10) & (all_data[\"time\"] <= 20)]\n",
    "    ranges['20_30'] =   all_data[(all_data[\"time\"] > 20) & (all_data[\"time\"] <= 30)]\n",
    "    ranges['30_40'] =   all_data[(all_data[\"time\"] > 30) & (all_data[\"time\"] <= 40)]\n",
    "    ranges['40_50'] =   all_data[(all_data[\"time\"] > 40) & (all_data[\"time\"] <= 50)]\n",
    "    ranges['50_60'] =   all_data[(all_data[\"time\"] > 50) & (all_data[\"time\"] <= 60)]\n",
    "    ranges['60_80'] =   all_data[(all_data[\"time\"] > 60) & (all_data[\"time\"] <= 80)]\n",
    "    ranges['80_100'] =  all_data[(all_data[\"time\"] > 80) & (all_data[\"time\"] <= 100)]\n",
    "    ranges['100_150'] = all_data[(all_data[\"time\"] > 100) & (all_data[\"time\"] <= 150)]\n",
    "    ranges['150_200'] = all_data[(all_data[\"time\"] > 150) & (all_data[\"time\"] <= 200)]\n",
    "    ranges['200_250'] = all_data[(all_data[\"time\"] > 200) & (all_data[\"time\"] <= 250)]\n",
    "    ranges['250_450'] = all_data[(all_data[\"time\"] > 250) & (all_data[\"time\"] <= 450)]\n",
    "    ranges['450_last'] = all_data[(all_data[\"time\"] > 450)]\n",
    "    train_data = []\n",
    "    val_data = []\n",
    "    for rang in ranges.values():\n",
    "        if rang.shape[0] >= 3:\n",
    "            X_train, X_val = train_test_split(\n",
    "                rang, test_size=val_rate, shuffle=True,random_state=seed)\n",
    "\n",
    "            train_data.append(X_train)\n",
    "            val_data.append(X_val)\n",
    "    train_data_list = pd.concat(train_data)\n",
    "    val_data_list = pd.concat(val_data)\n",
    "    #print(\"Shapes : Train: {} Val: {}\".format(train_data_list.shape, val_data_list.shape))\n",
    "    return train_data_list, val_data_list\n",
    "def clear_error_tuples(x):\n",
    "    try:\n",
    "        json.loads(x)\n",
    "        return True\n",
    "    except:\n",
    "        print(\"Error in data ignored!\", x)\n",
    "        return False\n",
    "    \n",
    "def subtree_format(df_raw):\n",
    "    df_raw_unique_id = df_raw['unique_id']\n",
    "    df_raw_filename = df_raw['filename']\n",
    "    df_raw_query = df_raw['query']\n",
    "    df_raw_bgp = df_raw['bgps']\n",
    "    df_raw_json_cardinality = df_raw['json_cardinality']\n",
    "    df_raw_subtrees = df_raw['matrix_subtrees']\n",
    "    columns = ['unique_id', 'filename', 'query', 'trees',  'bgps' ,'time', 'total_bgps', 'triples', 'treesize', 'join', 'left_join', 'iter', 'json_cardinality_original_query']\n",
    "    values = []\n",
    "    for dfrs in range(0,len(df_raw_subtrees)):\n",
    "        unique_id = df_raw_unique_id[dfrs]\n",
    "        filename = df_raw_filename[dfrs]\n",
    "        query = df_raw_query[dfrs]\n",
    "        bgp = df_raw_bgp[dfrs]\n",
    "        json_cardinality = df_raw_json_cardinality[dfrs]\n",
    "        lists_type = ast.literal_eval(df_raw_subtrees[dfrs])\n",
    "        for ls in lists_type:\n",
    "            str_subtree = str(ls[0]).replace('\"', ';').replace(\"'\", '\"')\n",
    "            row = [unique_id, filename, query, str_subtree, bgp] + ls[1:] + [json_cardinality]\n",
    "            values.append(row)\n",
    "            \n",
    "    df_subtrees = pd.DataFrame(values, columns=columns)\n",
    "    return df_subtrees\n",
    "    "
   ]
  },
  {
   "cell_type": "markdown",
   "metadata": {},
   "source": [
    "### Features"
   ]
  },
  {
   "cell_type": "code",
   "execution_count": 4,
   "metadata": {},
   "outputs": [],
   "source": [
    "# Columns to use.\n",
    "list_columns = ['total_bgps', 'triples', 'treesize', 'join', 'left_join']"
   ]
  },
  {
   "cell_type": "markdown",
   "metadata": {},
   "source": [
    "## IDENTIFICACION DE DATASET, CLEAN DATA Y CREAR NEW DATASET"
   ]
  },
  {
   "cell_type": "code",
   "execution_count": 5,
   "metadata": {},
   "outputs": [],
   "source": [
    "df_raw = pd.read_csv(URL + csv_name + \".csv\", engine='python', encoding='utf-8')"
   ]
  },
  {
   "cell_type": "code",
   "execution_count": null,
   "metadata": {},
   "outputs": [],
   "source": []
  },
  {
   "cell_type": "code",
   "execution_count": 6,
   "metadata": {},
   "outputs": [
    {
     "data": {
      "text/plain": [
       "Index(['unique_id', 'filename', 'query', 'profile', 'limit', 'group_by',\n",
       "       'distinct', 'order_by', 'union', 'left_join', 'join', 'iter', 'filter',\n",
       "       'num_filter', 'filter_eq', 'filter_gt', 'filter_ge', 'filter_lt',\n",
       "       'filter_le', 'filter_neq', 'filter_iri', 'filter_neq.1', 'filter_bound',\n",
       "       'filter_contains', 'filter_exists', 'filter_isBlank', 'filter_isIRI',\n",
       "       'filter_isLiteral', 'filter_lang', 'filter_langMatches', 'filter_not',\n",
       "       'filter_notexists', 'filter_regex', 'filter_sameTerm', 'filter_str',\n",
       "       'filter_strstarts', 'filter_or', 'filter_and', 'time', 'cpu_p', 'rnd',\n",
       "       'seq', 'same_seg_p', 'same_page_p', 'disk_reads', 'read_ahead', 'wait',\n",
       "       'comp_msec', 'comp_reads', 'comp_read_p', 'comp_messages', 'comp_clw',\n",
       "       'triples', 'total_bgps', 'treesize', 'matrix_format', 'trees',\n",
       "       'trees_old_format', 'json_time_predicate', 'json_fanout_predicate',\n",
       "       'json_input_rows_predicate', 'json_cardinality_fanout',\n",
       "       'json_cardinality', 'scan_queries', 'bgps', 'matrix_subtrees',\n",
       "       'matrix_subtrees_full'],\n",
       "      dtype='object')"
      ]
     },
     "execution_count": 6,
     "metadata": {},
     "output_type": "execute_result"
    }
   ],
   "source": [
    "df_raw.columns"
   ]
  },
  {
   "cell_type": "code",
   "execution_count": 7,
   "metadata": {},
   "outputs": [],
   "source": [
    "df_raw = df_raw.drop(['trees'],axis=1)\n",
    "df_raw = df_raw.drop(['matrix_subtrees'],axis=1)\n",
    "df_raw.rename(columns={'trees_old_format': 'trees'}, inplace=True)\n",
    "df_raw.rename(columns={'matrix_subtrees_full': 'matrix_subtrees'}, inplace=True)"
   ]
  },
  {
   "cell_type": "code",
   "execution_count": 8,
   "metadata": {
    "scrolled": true
   },
   "outputs": [
    {
     "name": "stdout",
     "output_type": "stream",
     "text": [
      "df_raw.shape (53887, 65)\n"
     ]
    },
    {
     "data": {
      "text/plain": [
       "(-15441.387, 154413.86]     0.998682\n",
       "(154413.86, 308827.72]      0.000390\n",
       "(308827.72, 463241.58]      0.000186\n",
       "(2007380.18, 2161794.04]    0.000186\n",
       "(1235310.88, 1389724.74]    0.000111\n",
       "                              ...   \n",
       "(6485382.12, 6639795.98]    0.000000\n",
       "(6330968.26, 6485382.12]    0.000000\n",
       "(6176554.4, 6330968.26]     0.000000\n",
       "(6022140.54, 6176554.4]     0.000000\n",
       "(7720693.0, 7875106.86]     0.000000\n",
       "Name: time, Length: 100, dtype: float64"
      ]
     },
     "execution_count": 8,
     "metadata": {},
     "output_type": "execute_result"
    }
   ],
   "source": [
    "print(\"df_raw.shape\", df_raw.shape)\n",
    "df_raw['time'].value_counts(bins=100, sort=True, normalize=True)"
   ]
  },
  {
   "cell_type": "code",
   "execution_count": 9,
   "metadata": {
    "scrolled": false
   },
   "outputs": [
    {
     "name": "stdout",
     "output_type": "stream",
     "text": [
      "count    5.388700e+04\n",
      "mean     2.611200e+03\n",
      "std      1.078120e+05\n",
      "min      0.000000e+00\n",
      "25%      0.000000e+00\n",
      "50%      1.000000e+01\n",
      "75%      4.900000e+01\n",
      "max      1.544139e+07\n",
      "Name: time, dtype: float64\n",
      "count    33271.000000\n",
      "mean        33.550509\n",
      "std         40.816332\n",
      "min          1.000000\n",
      "25%          6.000000\n",
      "50%         15.000000\n",
      "75%         48.000000\n",
      "max        200.000000\n",
      "Name: time, dtype: float64\n",
      "df_raw.shape (33271, 65)\n",
      "None\n"
     ]
    }
   ],
   "source": [
    "print(df_raw['time'].describe())\n",
    "df_raw = df_raw[df_raw['time'] >= 1]\n",
    "df_raw = df_raw[df_raw['time'] <= 200]\n",
    "print(df_raw['time'].describe())\n",
    "print(print(\"df_raw.shape\", df_raw.shape))"
   ]
  },
  {
   "cell_type": "code",
   "execution_count": 10,
   "metadata": {},
   "outputs": [
    {
     "data": {
      "image/png": "[encoded data removed]",
      "text/plain": [
       "<Figure size 1080x720 with 1 Axes>"
      ]
     },
     "metadata": {
      "needs_background": "light"
     },
     "output_type": "display_data"
    }
   ],
   "source": [
    "import matplotlib.pyplot as plt\n",
    "import numpy as np\n",
    "df_time_analysis = df_raw['time'].copy()\n",
    "df_time_analysis = df_time_analysis.to_numpy()\n",
    "\n",
    "f,ax = plt.subplots(figsize=(15,10))\n",
    "\n",
    "ax.hist(df_time_analysis, bins=200)\n",
    "ax.set_title(\"Histograma de latencia de cada consulta en escala logarítmica\")\n",
    "ax.set_xlabel(\"Latencia de las consultas\")\n",
    "ax.set_ylabel(\"Cantidad de consultas en escala logarítmica\")\n",
    "ax.set_yscale('log')\n",
    "plt.tight_layout()\n",
    "plt.savefig(\"histograma_latencia_consultas.pdf\")"
   ]
  },
  {
   "cell_type": "code",
   "execution_count": 11,
   "metadata": {},
   "outputs": [
    {
     "name": "stdout",
     "output_type": "stream",
     "text": [
      "mean 33.55050945267651\n",
      "std 40.81633220560009\n",
      "df_raw.shape (33271, 65)\n",
      "max 200\n",
      "df_raw.shape (33271, 65)\n",
      "CLEAN by TIME\n",
      "mean 88.20585842148088\n",
      "std 27.65766366258196\n",
      "max 150\n",
      "df_raw.shape (7374, 65)\n"
     ]
    }
   ],
   "source": [
    "print(\"mean\", df_raw['time'].mean())\n",
    "print(\"std\", df_raw['time'].std())\n",
    "print('df_raw.shape',df_raw.shape)\n",
    "print(\"max\", df_raw['time'].max())\n",
    "print(\"df_raw.shape\", df_raw.shape)\n",
    "df_raw = df_raw[df_raw['time'] >= min1]\n",
    "df_raw = df_raw[df_raw['time'] <= max1]\n",
    "df_raw = df_raw.reset_index(drop=True)\n",
    "print(\"CLEAN by TIME\")\n",
    "print(\"mean\", df_raw['time'].mean())\n",
    "print(\"std\", df_raw['time'].std())\n",
    "print(\"max\", df_raw['time'].max())\n",
    "print(\"df_raw.shape\", df_raw.shape)"
   ]
  },
  {
   "cell_type": "code",
   "execution_count": 12,
   "metadata": {},
   "outputs": [
    {
     "name": "stdout",
     "output_type": "stream",
     "text": [
      "SELECT ?var1 ?var2 WHERE { ?var1 <http://www.wikidata.org/prop/direct/P131> ?var3 . ?var3 <http://www.wikidata.org/prop/direct/P131> * <http://www.wikidata.org/entity/Q1273> . ?var1 <http://www.wikidata.org/prop/direct/P625> ?var2 . OPTIONAL { ?var1 <http://www.wikidata.org/prop/direct/P18> ?var4 . } }\n",
      "\n",
      "query_960\n",
      "------------------\n",
      "SELECT  ?var1 ?var2 WHERE   { ?var1  <http://www.wikidata.org/prop/direct/P971>  <http://www.wikidata.org/entity/Q31192219>     OPTIONAL       { ?var1  <http://www.wikidata.org/prop/direct/P971>  ?var2 .         ?var2 <http://www.wikidata.org/prop/direct/P31>/<http://www.wikidata.org/prop/direct/P279> <http://www.wikidata.org/entity/Q82794>       }   } \n",
      "\n",
      "query_22528\n",
      "------------------\n",
      "SELECT ?var1 ?var2 WHERE { ?var1 <http://www.wikidata.org/prop/direct/P131> ?var3 . ?var3 <http://www.wikidata.org/prop/direct/P131> * <http://www.wikidata.org/entity/Q1273> . ?var1 <http://www.wikidata.org/prop/direct/P625> ?var2 . OPTIONAL { ?var1 <http://www.wikidata.org/prop/direct/P18> ?var4 . } }\n",
      "\n",
      "query_23326\n",
      "------------------\n",
      "SELECT  ?var1Label ?var2 WHERE   { ?var1  <http://www.wikidata.org/prop/direct/P17>  <http://www.wikidata.org/entity/Q213> ;            <http://www.wikidata.org/prop/direct/P31>  <http://www.wikidata.org/entity/Q811534>     OPTIONAL       { ?var1 <http://www.wikidata.org/prop/P527>/<http://www.wikidata.org/prop/qualifier/P1114> ?var2 }   } ORDER BY DESC(?var2) \n",
      "\n",
      "query_882\n",
      "------------------\n",
      "SELECT  ?var1 ?var2 ?var3 ?var4 ?var5 ?var6 WHERE   { ?var1  <http://www.wikidata.org/prop/direct/P31>  <http://www.wikidata.org/entity/Q8142> ;            <http://www.wikidata.org/prop/direct/P498>  ?var2 ;            <http://www.wikidata.org/prop/direct/P489>  ?var6     OPTIONAL       { ?var6  <http://www.wikidata.org/prop/direct/P487>  ?var3 }   } \n",
      "\n",
      "query_22784\n",
      "------------------\n",
      "5\n"
     ]
    }
   ],
   "source": [
    "c = 0\n",
    "ds = df_raw.copy()\n",
    "for i in range(ds.shape[0]):\n",
    "    if ds['query'][i].count(\"OPTIONAL\") == 1 and ds['total_bgps'][i] == 2 and ds['triples'][i] == 4:\n",
    "        print(ds['query'][i])\n",
    "        print(ds['filename'][i])\n",
    "        print(\"------------------\")\n",
    "        c+=1\n",
    "print(c)"
   ]
  },
  {
   "cell_type": "code",
   "execution_count": 13,
   "metadata": {
    "scrolled": false
   },
   "outputs": [
    {
     "data": {
      "image/png": "[encoded data removed]",
      "text/plain": [
       "<Figure size 1080x720 with 1 Axes>"
      ]
     },
     "metadata": {
      "needs_background": "light"
     },
     "output_type": "display_data"
    }
   ],
   "source": [
    "import matplotlib.pyplot as plt\n",
    "import numpy as np\n",
    "df_time_analysis2 = df_raw['time'].copy()\n",
    "df_time_analysis2 = df_time_analysis2.to_numpy()\n",
    "\n",
    "f,ax = plt.subplots(figsize=(15,10))\n",
    "\n",
    "ax.hist(df_time_analysis2, bins=100)\n",
    "ax.set_title(\"Histograma de latencia de consultas en escala logarítmica\")\n",
    "ax.set_xlabel(\"Latencia de las consultas\")\n",
    "ax.set_ylabel(\"Cantidad de consultas en escala logarítmica\")\n",
    "ax.set_yscale('log')\n",
    "plt.tight_layout()\n",
    "plt.savefig(\"histograma_latencia_consultas_corte.pdf\")"
   ]
  },
  {
   "cell_type": "code",
   "execution_count": 14,
   "metadata": {},
   "outputs": [],
   "source": [
    "if 'sparql_file' in df_raw.columns:\n",
    "    df_raw = df_raw.rename(columns = {'sparql_file': 'query'}, inplace = False)\n",
    "df_raw['cpu_p'] = df_raw['cpu_p'].apply(lambda x: float(x.strip('%')))\n",
    "df_raw['same_seg_p'] = df_raw['same_seg_p'].apply(lambda x: float(x.strip('%')))\n",
    "df_raw['same_page_p'] = df_raw['same_page_p'].apply(lambda x: float(x.strip('%')))\n",
    "df_raw['wait'] = df_raw['wait'].apply(lambda x: float(x.strip('%')))\n",
    "df_raw['comp_read_p'] = df_raw['comp_read_p'].apply(lambda x: float(x.strip('%')))\n",
    "df_raw['comp_clw'] = df_raw['comp_clw'].apply(lambda x: float(x.strip('%')))"
   ]
  },
  {
   "cell_type": "code",
   "execution_count": 15,
   "metadata": {
    "scrolled": false
   },
   "outputs": [
    {
     "data": {
      "text/plain": [
       "count    7374.000000\n",
       "mean       88.205858\n",
       "std        27.657664\n",
       "min        50.000000\n",
       "25%        64.000000\n",
       "50%        83.000000\n",
       "75%       111.000000\n",
       "max       150.000000\n",
       "Name: time, dtype: float64"
      ]
     },
     "execution_count": 15,
     "metadata": {},
     "output_type": "execute_result"
    }
   ],
   "source": [
    "df_raw['time'].describe()"
   ]
  },
  {
   "cell_type": "code",
   "execution_count": 16,
   "metadata": {},
   "outputs": [
    {
     "name": "stdout",
     "output_type": "stream",
     "text": [
      "ds_model.shape (5529, 65)\n",
      "ds_rl_prev.shape (1845, 65)\n"
     ]
    }
   ],
   "source": [
    "ds_model, ds_rl_prev = split_ds(df_raw, 0.25,seed=None)\n",
    "ds_model = ds_model.reset_index(drop=True)\n",
    "ds_rl_prev = ds_rl_prev.reset_index(drop=True)\n",
    "print(\"ds_model.shape\",ds_model.shape)\n",
    "print(\"ds_rl_prev.shape\",ds_rl_prev.shape)"
   ]
  },
  {
   "cell_type": "code",
   "execution_count": 17,
   "metadata": {
    "scrolled": true
   },
   "outputs": [
    {
     "name": "stdout",
     "output_type": "stream",
     "text": [
      "(5529, 65)\n",
      "(13000, 13)\n"
     ]
    }
   ],
   "source": [
    "df_subtrees = subtree_format(ds_model)\n",
    "df_subtrees['time'] = df_subtrees.time.astype(float)\n",
    "print(ds_model.shape)\n",
    "print(df_subtrees.shape)"
   ]
  },
  {
   "cell_type": "code",
   "execution_count": 18,
   "metadata": {
    "scrolled": true
   },
   "outputs": [
    {
     "data": {
      "text/plain": [
       "count    13000.000000\n",
       "mean        52.093685\n",
       "std         44.990023\n",
       "min          0.024522\n",
       "25%          1.110064\n",
       "50%         55.000000\n",
       "75%         86.619756\n",
       "max        150.000000\n",
       "Name: time, dtype: float64"
      ]
     },
     "execution_count": 18,
     "metadata": {},
     "output_type": "execute_result"
    }
   ],
   "source": [
    "df_subtrees['time'].describe()"
   ]
  },
  {
   "cell_type": "code",
   "execution_count": 19,
   "metadata": {},
   "outputs": [
    {
     "data": {
      "text/plain": [
       "count    9804.000000\n",
       "mean       68.971178\n",
       "std        39.054106\n",
       "min         1.003711\n",
       "25%        45.400701\n",
       "50%        69.676296\n",
       "75%        99.000000\n",
       "max       150.000000\n",
       "Name: time, dtype: float64"
      ]
     },
     "execution_count": 19,
     "metadata": {},
     "output_type": "execute_result"
    }
   ],
   "source": [
    "df_subtrees = df_subtrees[df_subtrees['time'] >= min2]\n",
    "df_subtrees = df_subtrees[df_subtrees['time'] <= max2]\n",
    "df_subtrees = df_subtrees.reset_index(drop=True)\n",
    "df_subtrees['time'].describe()"
   ]
  },
  {
   "cell_type": "code",
   "execution_count": 20,
   "metadata": {
    "scrolled": false
   },
   "outputs": [
    {
     "data": {
      "image/png": "[encoded data removed]",
      "text/plain": [
       "<Figure size 1080x720 with 1 Axes>"
      ]
     },
     "metadata": {
      "needs_background": "light"
     },
     "output_type": "display_data"
    }
   ],
   "source": [
    "import matplotlib.pyplot as plt\n",
    "import numpy as np\n",
    "df_time_analysis3 = df_subtrees['time'].copy()\n",
    "df_time_analysis3 = df_time_analysis3.to_numpy()\n",
    "\n",
    "f,ax = plt.subplots(figsize=(15,10))\n",
    "\n",
    "ax.hist(df_time_analysis3, bins=80)\n",
    "ax.set_title(\"Histograma de latencia de consultas / subconsultas en escala logaŕitmica\")\n",
    "ax.set_xlabel(\"Latencia de las consultas / subconsultas\")\n",
    "ax.set_ylabel(\"Cantidad de consultas en escala logarítmica\")\n",
    "ax.set_yscale('log')\n",
    "plt.tight_layout()\n",
    "plt.savefig(\"histograma_latencia_subconsultas.pdf\")"
   ]
  },
  {
   "cell_type": "code",
   "execution_count": 21,
   "metadata": {},
   "outputs": [
    {
     "name": "stdout",
     "output_type": "stream",
     "text": [
      "ds_train_val_prev.shape (8325, 13)\n",
      "ds_test_prev.shape (1479, 13)\n",
      "ds_train_prev.shape (6849, 13)\n",
      "ds_val_prev.shape (1476, 13)\n"
     ]
    }
   ],
   "source": [
    "ds_train_val_prev, ds_test_prev = split_ds(df_subtrees, 0.15,seed=None)\n",
    "ds_train_prev, ds_val_prev = split_ds(ds_train_val_prev, 0.1765,seed=None)\n",
    "print(\"ds_train_val_prev.shape\",ds_train_val_prev.shape)\n",
    "print(\"ds_test_prev.shape\",ds_test_prev.shape)\n",
    "print(\"ds_train_prev.shape\",ds_train_prev.shape)\n",
    "print(\"ds_val_prev.shape\",ds_val_prev.shape)\n",
    "ds_train_prev = ds_train_prev.reset_index()\n",
    "ds_val_prev = ds_val_prev.reset_index()\n",
    "ds_test_prev = ds_test_prev.reset_index()\n",
    "ds_rl_prev = ds_rl_prev.reset_index()"
   ]
  },
  {
   "cell_type": "code",
   "execution_count": 22,
   "metadata": {
    "scrolled": true
   },
   "outputs": [
    {
     "name": "stdout",
     "output_type": "stream",
     "text": [
      "---------SHAPES-----------\n",
      "----------RAW-----------\n",
      "shape df_raw: (7374, 65)\n",
      "----------PREV----------\n",
      "shape ds_train_val_prev: (8325, 13)\n",
      "shape ds_train_prev: (6849, 14)\n",
      "shape ds_val_prev: (1476, 14)\n",
      "shape ds_test_prev: (1479, 14)\n",
      "shape ds_rl_prev: (1845, 66)\n",
      "----------CLEAN----------\n",
      "shape ds_train: (6849, 14)\n",
      "shape ds_val: (1476, 14)\n",
      "shape ds_test: (1479, 14)\n",
      "shape ds_rl: (1845, 66)\n"
     ]
    }
   ],
   "source": [
    "#Remove bad rows\n",
    "ds_train  = ds_train_prev[ds_train_prev['trees'].apply(lambda x: clear_error_tuples(x))]\n",
    "ds_val  = ds_val_prev[ds_val_prev['trees'].apply(lambda x: clear_error_tuples(x))]\n",
    "ds_test  = ds_test_prev[ds_test_prev['trees'].apply(lambda x: clear_error_tuples(x))]\n",
    "ds_rl = ds_rl_prev[ds_rl_prev['trees'].apply(lambda x: clear_error_tuples(x))]\n",
    "\n",
    "print(\"---------SHAPES-----------\")\n",
    "print(\"----------RAW-----------\")\n",
    "print(f'shape df_raw: {df_raw.shape}')\n",
    "print(\"----------PREV----------\")\n",
    "print(f'shape ds_train_val_prev: {ds_train_val_prev.shape}')\n",
    "print(f'shape ds_train_prev: {ds_train_prev.shape}')\n",
    "print(f'shape ds_val_prev: {ds_val_prev.shape}')\n",
    "print(f'shape ds_test_prev: {ds_test_prev.shape}')\n",
    "print(f'shape ds_rl_prev: {ds_rl_prev.shape}')\n",
    "print(\"----------CLEAN----------\")\n",
    "print(f'shape ds_train: {ds_train.shape}')\n",
    "print(f'shape ds_val: {ds_val.shape}')\n",
    "print(f'shape ds_test: {ds_test.shape}')\n",
    "print(f'shape ds_rl: {ds_rl.shape}')"
   ]
  },
  {
   "cell_type": "code",
   "execution_count": 23,
   "metadata": {},
   "outputs": [],
   "source": [
    "ds_train.to_csv(URL + csv_name + '_ds_train_ft.csv')\n",
    "ds_val.to_csv(URL + csv_name + '_ds_val_ft.csv')\n",
    "ds_test.to_csv(URL + csv_name + '_ds_test_ft.csv')\n",
    "ds_rl.to_csv(URL + csv_name + '_ds_rl_ft.csv')"
   ]
  }
 ],
 "metadata": {
  "kernelspec": {
   "display_name": "Python 3 (ipykernel)",
   "language": "python",
   "name": "python3"
  },
  "language_info": {
   "codemirror_mode": {
    "name": "ipython",
    "version": 3
   },
   "file_extension": ".py",
   "mimetype": "text/x-python",
   "name": "python",
   "nbconvert_exporter": "python",
   "pygments_lexer": "ipython3",
   "version": "3.8.10"
  },
  "stem_cell": {
   "cell_type": "raw",
   "metadata": {
    "pycharm": {
     "metadata": false
    }
   },
   "source": ""
  }
 },
 "nbformat": 4,
 "nbformat_minor": 4
}
