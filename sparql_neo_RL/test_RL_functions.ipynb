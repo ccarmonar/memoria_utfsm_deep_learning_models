{
 "cells": [
  {
   "cell_type": "code",
   "execution_count": 1,
   "metadata": {},
   "outputs": [],
   "source": [
    "import numpy as np, pandas as pd, json, itertools, ast, sys, csv, random\n",
    "from itertools import permutations\n",
    "from functions.tree_format import IterateBuildTree, InnerJoinsIntraBGPS, \\\n",
    "                                IterateBuildTreeBetweenBGPS, TreeFormat\n",
    "from functions.RL_functions import RL_Actions, RL_Initial_Step, RL_available_actions, \\\n",
    "                                    RL_Next_step, RL_Reward, RL_Rebuild_Dictionary, \\\n",
    "                                    RL_Argmax, RL_First_Policy\n",
    "\n",
    "\n",
    "URL = \"/media/data/ccarmona/memoria/dataset/\"\n",
    "csv_name = 'new_dataset_5.4_full'"
   ]
  },
  {
   "cell_type": "code",
   "execution_count": 2,
   "metadata": {},
   "outputs": [
    {
     "name": "stdout",
     "output_type": "stream",
     "text": [
      "Index(['unique_id', 'filename', 'query', 'profile', 'limit', 'group_by',\n",
      "       'distinct', 'order_by', 'union', 'left_join', 'join', 'iter', 'filter',\n",
      "       'num_filter', 'filter_eq', 'filter_gt', 'filter_ge', 'filter_lt',\n",
      "       'filter_le', 'filter_neq', 'filter_iri', 'filter_neq.1', 'filter_bound',\n",
      "       'filter_contains', 'filter_exists', 'filter_isBlank', 'filter_isIRI',\n",
      "       'filter_isLiteral', 'filter_lang', 'filter_langMatches', 'filter_not',\n",
      "       'filter_notexists', 'filter_regex', 'filter_sameTerm', 'filter_str',\n",
      "       'filter_strstarts', 'filter_or', 'filter_and', 'time', 'cpu_p', 'rnd',\n",
      "       'seq', 'same_seg_p', 'same_page_p', 'disk_reads', 'read_ahead', 'wait',\n",
      "       'comp_msec', 'comp_reads', 'comp_read_p', 'comp_messages', 'comp_clw',\n",
      "       'triples', 'total_bgps', 'treesize', 'matrix_format', 'trees',\n",
      "       'trees_old_format', 'json_time_predicate', 'json_fanout_predicate',\n",
      "       'json_input_rows_predicate', 'json_cardinality_fanout',\n",
      "       'json_cardinality', 'scan_queries', 'bgps'],\n",
      "      dtype='object')\n"
     ]
    }
   ],
   "source": [
    "df_raw = pd.read_csv(URL + csv_name + \".csv\", engine='python', encoding='utf-8')\n",
    "if 'sparql_file' in df_raw.columns:\n",
    "    df_raw = df_raw.rename(columns={\"sparql_file\": \"query\"})\n",
    "\n",
    "print(df_raw.columns)\n"
   ]
  },
  {
   "cell_type": "code",
   "execution_count": 3,
   "metadata": {
    "scrolled": true
   },
   "outputs": [],
   "source": [
    "example_idx = []\n",
    "for i in range(len(df_raw)):\n",
    "    if df_raw['total_bgps'][i] > 2 and df_raw['triples'][i] > 3:\n",
    "        example_idx.append(i)\n",
    "kkk = random.choice(example_idx)"
   ]
  },
  {
   "cell_type": "code",
   "execution_count": 4,
   "metadata": {},
   "outputs": [
    {
     "name": "stdout",
     "output_type": "stream",
     "text": [
      "12176\n"
     ]
    }
   ],
   "source": [
    "print(kkk)"
   ]
  },
  {
   "cell_type": "code",
   "execution_count": 5,
   "metadata": {},
   "outputs": [
    {
     "data": {
      "text/plain": [
       "'[\"LEFT_JOIN\", [\"LEFT_JOIN\", [\"LEFT_JOIN\", [\"URI_URI_VARᶲIRI_ID;...direct/P585;\"], [\"URI_URI_VARᶲIRI_ID;...direct/P625;\"]], [\"URI_URI_VARᶲIRI_ID;...direct/P131;\"]], [\"URI_URI_VARᶲIRI_ID;...direct/P31;\"]]'"
      ]
     },
     "execution_count": 5,
     "metadata": {},
     "output_type": "execute_result"
    }
   ],
   "source": [
    "df_raw['trees'][kkk]"
   ]
  },
  {
   "cell_type": "code",
   "execution_count": 6,
   "metadata": {},
   "outputs": [],
   "source": [
    "bgp = ast.literal_eval(df_raw['bgps'][kkk])"
   ]
  },
  {
   "cell_type": "code",
   "execution_count": 7,
   "metadata": {},
   "outputs": [
    {
     "name": "stdout",
     "output_type": "stream",
     "text": [
      "{'bgp_1': {'bgp_list': [{'S': 'IRI_ID\"...Q6902\"', 'P': 'IRI_ID\"...direct/P585\"', 'O': 'None', 'time': 10.0, 'fanout': 1.0, 'input_rows': 1.0, 'cardinality_estimate': 0, 'cardinality_fanout': 0, 'triple_type': 'URI_URI_VAR', 'optional_section?': 1, 'num_bgp': 1, 'OP': 'OP6'}], 'opt': 1}, 'bgp_2': {'bgp_list': [{'S': 'IRI_ID\"...Q6902\"', 'P': 'IRI_ID\"...direct/P625\"', 'O': 'None', 'time': 3.8, 'fanout': 0.0, 'input_rows': 1.0, 'cardinality_estimate': 1.0, 'cardinality_fanout': 0.0, 'triple_type': 'URI_URI_VAR', 'optional_section?': 1, 'num_bgp': 2, 'OP': 'OP9'}], 'opt': 1}, 'bgp_3': {'bgp_list': [{'S': 'IRI_ID\"...Q6902\"', 'P': 'IRI_ID\"...direct/P131\"', 'O': 'None', 'time': 5.6, 'fanout': 0.0, 'input_rows': 1.0, 'cardinality_estimate': 1.0, 'cardinality_fanout': 0.0, 'triple_type': 'URI_URI_VAR', 'optional_section?': 1, 'num_bgp': 3, 'OP': 'OP12'}], 'opt': 1}, 'bgp_4': {'bgp_list': [{'S': 'IRI_ID\"...Q6902\"', 'P': 'IRI_ID\"...direct/P31\"', 'O': 'None', 'time': 8.5, 'fanout': 2.0, 'input_rows': 1.0, 'cardinality_estimate': 0, 'cardinality_fanout': 0, 'triple_type': 'URI_URI_VAR', 'optional_section?': 1, 'num_bgp': 4, 'OP': 'OP15'}], 'opt': 1}}\n"
     ]
    }
   ],
   "source": [
    "print(bgp)"
   ]
  },
  {
   "cell_type": "code",
   "execution_count": null,
   "metadata": {},
   "outputs": [],
   "source": []
  },
  {
   "cell_type": "code",
   "execution_count": 8,
   "metadata": {
    "scrolled": false
   },
   "outputs": [
    {
     "name": "stdout",
     "output_type": "stream",
     "text": [
      "Actions\n",
      "[(0, 'bgp_1', 'IRI_ID\"...direct/P585\"', 'URI_URI_VAR'), (1, 'bgp_2', 'IRI_ID\"...direct/P625\"', 'URI_URI_VAR'), (2, 'bgp_3', 'IRI_ID\"...direct/P131\"', 'URI_URI_VAR'), (3, 'bgp_4', 'IRI_ID\"...direct/P31\"', 'URI_URI_VAR')]\n"
     ]
    }
   ],
   "source": [
    "actions = RL_Actions(bgp)\n",
    "print(\"Actions\")\n",
    "print(actions)"
   ]
  },
  {
   "cell_type": "code",
   "execution_count": 49,
   "metadata": {
    "scrolled": true
   },
   "outputs": [
    {
     "name": "stdout",
     "output_type": "stream",
     "text": [
      "final current_state [(3, 'bgp_4', 'IRI_ID\"...direct/P31\"', 'URI_URI_VAR'), (0, 'bgp_1', 'IRI_ID\"...direct/P585\"', 'URI_URI_VAR'), (1, 'bgp_2', 'IRI_ID\"...direct/P625\"', 'URI_URI_VAR'), (2, 'bgp_3', 'IRI_ID\"...direct/P131\"', 'URI_URI_VAR')]\n",
      "final reward -5\n",
      "actions 4 current_state 4\n",
      "final_state_predicates ['IRI_ID\"...direct/P31\"', 'IRI_ID\"...direct/P585\"', 'IRI_ID\"...direct/P625\"', 'IRI_ID\"...direct/P131\"']\n",
      "{'bgp_4': {'bgp_list': [{'P': 'IRI_ID\"...direct/P31\"', 'triple_type': 'URI_URI_VAR'}], 'opt': 1}, 'bgp_2': {'bgp_list': [{'P': 'IRI_ID\"...direct/P625\"', 'triple_type': 'URI_URI_VAR'}], 'opt': 1}, 'bgp_3': {'bgp_list': [{'P': 'IRI_ID\"...direct/P131\"', 'triple_type': 'URI_URI_VAR'}], 'opt': 1}, 'bgp_1': {'bgp_list': [{'P': 'IRI_ID\"...direct/P585\"', 'triple_type': 'URI_URI_VAR'}], 'opt': 1}}\n",
      "4\n",
      "nuevo arbol [\"LEFT_JOIN\", [\"LEFT_JOIN\", [\"LEFT_JOIN\", [\"URI_URI_VARᶲIRI_ID;...direct/P31;\"], [\"URI_URI_VARᶲIRI_ID;...direct/P625;\"]], [\"URI_URI_VARᶲIRI_ID;...direct/P131;\"]], [\"URI_URI_VARᶲIRI_ID;...direct/P585;\"]]\n"
     ]
    }
   ],
   "source": [
    "actions = RL_Actions(bgp)\n",
    "current_state = []\n",
    "reward = 0\n",
    "terminal = False\n",
    "while not terminal:\n",
    "    current_state, reward, terminal = RL_Next_step(actions,current_state,reward,-1)\n",
    "    \n",
    "final_state = current_state.copy()\n",
    "print(\"final current_state\", current_state)\n",
    "print(\"final reward\",reward)\n",
    "print(\"actions\",len(actions),\"current_state\",len(current_state))\n",
    "final_state_predicates = [i[2] for i in final_state]\n",
    "print(\"final_state_predicates\", final_state_predicates)\n",
    "new_dicto = RL_Rebuild_Dictionary(bgp, final_state)\n",
    "print(new_dicto)\n",
    "print(len(new_dicto.keys()))\n",
    "\n",
    "new_tree = str(TreeFormat(new_dicto,symbol)).replace('\"', ';').replace(\"'\", '\"')\n",
    "new_tree\n",
    "\n",
    "print(\"nuevo arbol\", new_tree)"
   ]
  },
  {
   "cell_type": "code",
   "execution_count": 11,
   "metadata": {},
   "outputs": [
    {
     "name": "stdout",
     "output_type": "stream",
     "text": [
      "{'bgp_2': {'bgp_list': [{'P': 'IRI_ID\"...direct/P625\"', 'triple_type': 'URI_URI_VAR'}], 'opt': 1}, 'bgp_4': {'bgp_list': [{'P': 'IRI_ID\"...direct/P31\"', 'triple_type': 'URI_URI_VAR'}], 'opt': 1}, 'bgp_3': {'bgp_list': [{'P': 'IRI_ID\"...direct/P131\"', 'triple_type': 'URI_URI_VAR'}], 'opt': 1}, 'bgp_1': {'bgp_list': [{'P': 'IRI_ID\"...direct/P585\"', 'triple_type': 'URI_URI_VAR'}], 'opt': 1}}\n",
      "4\n"
     ]
    }
   ],
   "source": []
  },
  {
   "cell_type": "code",
   "execution_count": 12,
   "metadata": {},
   "outputs": [
    {
     "name": "stdout",
     "output_type": "stream",
     "text": [
      "{'bgp_1': {'bgp_list': [{'S': 'IRI_ID\"...Q6902\"', 'P': 'IRI_ID\"...direct/P585\"', 'O': 'None', 'time': 10.0, 'fanout': 1.0, 'input_rows': 1.0, 'cardinality_estimate': 0, 'cardinality_fanout': 0, 'triple_type': 'URI_URI_VAR', 'optional_section?': 1, 'num_bgp': 1, 'OP': 'OP6'}], 'opt': 1}, 'bgp_2': {'bgp_list': [{'S': 'IRI_ID\"...Q6902\"', 'P': 'IRI_ID\"...direct/P625\"', 'O': 'None', 'time': 3.8, 'fanout': 0.0, 'input_rows': 1.0, 'cardinality_estimate': 1.0, 'cardinality_fanout': 0.0, 'triple_type': 'URI_URI_VAR', 'optional_section?': 1, 'num_bgp': 2, 'OP': 'OP9'}], 'opt': 1}, 'bgp_3': {'bgp_list': [{'S': 'IRI_ID\"...Q6902\"', 'P': 'IRI_ID\"...direct/P131\"', 'O': 'None', 'time': 5.6, 'fanout': 0.0, 'input_rows': 1.0, 'cardinality_estimate': 1.0, 'cardinality_fanout': 0.0, 'triple_type': 'URI_URI_VAR', 'optional_section?': 1, 'num_bgp': 3, 'OP': 'OP12'}], 'opt': 1}, 'bgp_4': {'bgp_list': [{'S': 'IRI_ID\"...Q6902\"', 'P': 'IRI_ID\"...direct/P31\"', 'O': 'None', 'time': 8.5, 'fanout': 2.0, 'input_rows': 1.0, 'cardinality_estimate': 0, 'cardinality_fanout': 0, 'triple_type': 'URI_URI_VAR', 'optional_section?': 1, 'num_bgp': 4, 'OP': 'OP15'}], 'opt': 1}}\n"
     ]
    }
   ],
   "source": [
    "print(bgp)"
   ]
  },
  {
   "cell_type": "code",
   "execution_count": 13,
   "metadata": {},
   "outputs": [],
   "source": [
    "symbol = 'ᶲ'\n"
   ]
  },
  {
   "cell_type": "code",
   "execution_count": 14,
   "metadata": {},
   "outputs": [
    {
     "data": {
      "text/plain": [
       "{'bgp_2': {'bgp_list': [{'P': 'IRI_ID\"...direct/P625\"',\n",
       "    'triple_type': 'URI_URI_VAR'}],\n",
       "  'opt': 1},\n",
       " 'bgp_4': {'bgp_list': [{'P': 'IRI_ID\"...direct/P31\"',\n",
       "    'triple_type': 'URI_URI_VAR'}],\n",
       "  'opt': 1},\n",
       " 'bgp_3': {'bgp_list': [{'P': 'IRI_ID\"...direct/P131\"',\n",
       "    'triple_type': 'URI_URI_VAR'}],\n",
       "  'opt': 1},\n",
       " 'bgp_1': {'bgp_list': [{'P': 'IRI_ID\"...direct/P585\"',\n",
       "    'triple_type': 'URI_URI_VAR'}],\n",
       "  'opt': 1}}"
      ]
     },
     "execution_count": 14,
     "metadata": {},
     "output_type": "execute_result"
    }
   ],
   "source": [
    "new_dicto"
   ]
  },
  {
   "cell_type": "code",
   "execution_count": 15,
   "metadata": {},
   "outputs": [
    {
     "data": {
      "text/plain": [
       "'[\"LEFT_JOIN\", [\"LEFT_JOIN\", [\"LEFT_JOIN\", [\"URI_URI_VARᶲIRI_ID;...direct/P585;\"], [\"URI_URI_VARᶲIRI_ID;...direct/P625;\"]], [\"URI_URI_VARᶲIRI_ID;...direct/P131;\"]], [\"URI_URI_VARᶲIRI_ID;...direct/P31;\"]]'"
      ]
     },
     "execution_count": 15,
     "metadata": {},
     "output_type": "execute_result"
    }
   ],
   "source": [
    "test_tree_format = str(TreeFormat(bgp,symbol)).replace('\"', ';').replace(\"'\", '\"')\n",
    "test_tree_format"
   ]
  },
  {
   "cell_type": "code",
   "execution_count": 16,
   "metadata": {
    "scrolled": true
   },
   "outputs": [
    {
     "data": {
      "text/plain": [
       "'[\"LEFT_JOIN\", [\"LEFT_JOIN\", [\"LEFT_JOIN\", [\"URI_URI_VARᶲIRI_ID;...direct/P585;\"], [\"URI_URI_VARᶲIRI_ID;...direct/P625;\"]], [\"URI_URI_VARᶲIRI_ID;...direct/P131;\"]], [\"URI_URI_VARᶲIRI_ID;...direct/P31;\"]]'"
      ]
     },
     "execution_count": 16,
     "metadata": {},
     "output_type": "execute_result"
    }
   ],
   "source": [
    "old_tree = df_raw['trees'][kkk]\n",
    "old_tree"
   ]
  },
  {
   "cell_type": "code",
   "execution_count": 17,
   "metadata": {},
   "outputs": [
    {
     "data": {
      "text/plain": [
       "True"
      ]
     },
     "execution_count": 17,
     "metadata": {},
     "output_type": "execute_result"
    }
   ],
   "source": [
    "old_tree == test_tree_format"
   ]
  },
  {
   "cell_type": "code",
   "execution_count": 18,
   "metadata": {},
   "outputs": [
    {
     "data": {
      "text/plain": [
       "'[\"LEFT_JOIN\", [\"LEFT_JOIN\", [\"LEFT_JOIN\", [\"URI_URI_VARᶲIRI_ID;...direct/P625;\"], [\"URI_URI_VARᶲIRI_ID;...direct/P31;\"]], [\"URI_URI_VARᶲIRI_ID;...direct/P131;\"]], [\"URI_URI_VARᶲIRI_ID;...direct/P585;\"]]'"
      ]
     },
     "execution_count": 18,
     "metadata": {},
     "output_type": "execute_result"
    }
   ],
   "source": [
    "new_tree = str(TreeFormat(new_dicto,symbol)).replace('\"', ';').replace(\"'\", '\"')\n",
    "new_tree"
   ]
  },
  {
   "cell_type": "code",
   "execution_count": 19,
   "metadata": {},
   "outputs": [
    {
     "data": {
      "text/plain": [
       "False"
      ]
     },
     "execution_count": 19,
     "metadata": {},
     "output_type": "execute_result"
    }
   ],
   "source": [
    "new_tree == old_tree"
   ]
  },
  {
   "cell_type": "code",
   "execution_count": 20,
   "metadata": {},
   "outputs": [],
   "source": [
    "listy = [7, 6, 5, 7, 6, 7, 6, 6, 6, 4, 5, 6,55]"
   ]
  },
  {
   "cell_type": "code",
   "execution_count": 21,
   "metadata": {},
   "outputs": [
    {
     "data": {
      "text/plain": [
       "12"
      ]
     },
     "execution_count": 21,
     "metadata": {},
     "output_type": "execute_result"
    }
   ],
   "source": []
  },
  {
   "cell_type": "code",
   "execution_count": 23,
   "metadata": {},
   "outputs": [],
   "source": [
    "### q(state,action), en mi caso, son del mismo tamaño\n",
    "### cada fila es un estado, cada columna es un accion\n",
    "q_values = RL_First_Policy(actions)"
   ]
  },
  {
   "cell_type": "code",
   "execution_count": 35,
   "metadata": {},
   "outputs": [
    {
     "data": {
      "text/plain": [
       "array([0., 0., 0., 0.])"
      ]
     },
     "execution_count": 35,
     "metadata": {},
     "output_type": "execute_result"
    }
   ],
   "source": [
    "q_values[0]"
   ]
  },
  {
   "cell_type": "code",
   "execution_count": null,
   "metadata": {},
   "outputs": [],
   "source": []
  }
 ],
 "metadata": {
  "kernelspec": {
   "display_name": "Python 3 (ipykernel)",
   "language": "python",
   "name": "python3"
  },
  "language_info": {
   "codemirror_mode": {
    "name": "ipython",
    "version": 3
   },
   "file_extension": ".py",
   "mimetype": "text/x-python",
   "name": "python",
   "nbconvert_exporter": "python",
   "pygments_lexer": "ipython3",
   "version": "3.8.10"
  }
 },
 "nbformat": 4,
 "nbformat_minor": 2
}
