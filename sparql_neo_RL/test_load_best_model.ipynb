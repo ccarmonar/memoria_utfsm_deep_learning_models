{
 "cells": [
  {
   "cell_type": "code",
   "execution_count": 1,
   "id": "33e1fdbc",
   "metadata": {},
   "outputs": [
    {
     "name": "stdout",
     "output_type": "stream",
     "text": [
      "IS CUDA AVAILABLE: True\n"
     ]
    }
   ],
   "source": [
    "import numpy as np\n",
    "import pandas as pd\n",
    "import pickle\n",
    "import torch.nn as nn\n",
    "from torch.utils.data import DataLoader\n",
    "import json\n",
    "import plotly.express as px\n",
    "\n",
    "#Implement training process\n",
    "from model_trees_algebra import NeoRegression\n",
    "\n",
    "from sklearn.metrics import mean_squared_error, mean_absolute_error\n",
    "from sklearn.preprocessing import StandardScaler\n",
    "from sklearn.model_selection import train_test_split\n",
    "\n",
    "class BaoTrainingException(Exception):\n",
    "    pass\n",
    "\n",
    "URL = \"/media/data/ccarmona/memoria/dataset/\"\n",
    "csv_name = 'new_dataset_5.4_full'\n",
    "salt_in_name = csv_name + '-prueba-'\n",
    "x = [True,False]\n",
    "active_delete = x[1]\n",
    "active_new_data = x[0]"
   ]
  },
  {
   "cell_type": "code",
   "execution_count": 2,
   "id": "feff1f34",
   "metadata": {},
   "outputs": [],
   "source": [
    "def delete_potential_problems_indexes(df_raw, active=True):\n",
    "    indexes_columns = []\n",
    "    c = 0\n",
    "    if active:\n",
    "        for i in range(len(df_raw)):\n",
    "            if 'OPTIONAL' in df_raw['query'][i]:\n",
    "                indexes_columns.append(i)\n",
    "                c += 1\n",
    "            if 'UNION' in df_raw['query'][i]:\n",
    "                indexes_columns.append(i)\n",
    "                c += 1\n",
    "            if df_raw['query'][i].count('SELECT') > 2:\n",
    "                indexes_columns.append(i)\n",
    "                c += 1\n",
    "        return indexes_columns, c\n",
    "    else:\n",
    "        return indexes_columns, c"
   ]
  },
  {
   "cell_type": "code",
   "execution_count": 3,
   "id": "26bf8315",
   "metadata": {},
   "outputs": [],
   "source": [
    "import math\n",
    "from sklearn.utils import shuffle\n",
    "\n",
    "df_raw = pd.read_csv(URL + csv_name + \".csv\", engine='python', encoding='utf-8')"
   ]
  },
  {
   "cell_type": "code",
   "execution_count": 4,
   "id": "539449d3",
   "metadata": {},
   "outputs": [
    {
     "name": "stdout",
     "output_type": "stream",
     "text": [
      "Index(['unique_id', 'filename', 'sparql_file', 'profile', 'limit', 'group_by',\n",
      "       'distinct', 'order_by', 'union', 'left_join', 'join', 'iter', 'filter',\n",
      "       'num_filter', 'filter_eq', 'filter_gt', 'filter_ge', 'filter_lt',\n",
      "       'filter_le', 'filter_neq', 'filter_iri', 'filter_neq.1', 'filter_bound',\n",
      "       'filter_contains', 'filter_exists', 'filter_isBlank', 'filter_isIRI',\n",
      "       'filter_isLiteral', 'filter_lang', 'filter_langMatches', 'filter_not',\n",
      "       'filter_notexists', 'filter_regex', 'filter_sameTerm', 'filter_str',\n",
      "       'filter_strstarts', 'filter_or', 'filter_and', 'time', 'cpu_p', 'rnd',\n",
      "       'seq', 'same_seg_p', 'same_page_p', 'disk_reads', 'read_ahead', 'wait',\n",
      "       'comp_msec', 'comp_reads', 'comp_read_p', 'comp_messages', 'comp_clw',\n",
      "       'triples', 'total_bgps', 'treesize', 'matrix_format', 'trees',\n",
      "       'trees_old_format', 'json_time_predicate', 'json_fanout_predicate',\n",
      "       'json_input_rows_predicate', 'json_cardinality_fanout',\n",
      "       'json_cardinality', 'scan_queries', 'bgps'],\n",
      "      dtype='object')\n",
      "85%\n",
      "99.2817%\n",
      "0.500224%\n",
      "0\n",
      "0%\n",
      "0%\n",
      "1\n",
      "SELECT DISTINCT  ?p2 WHERE   { ?x  <http://www.wikidata.org/prop/direct/P215>  ?y ;         <http://www.wikidata.org/prop/direct/P2216>  ?z ;         ?p2                   ?u     FILTER ( <http://www.wikidata.org/prop/direct/P215> != ?p2 )     FILTER ( <http://www.wikidata.org/prop/direct/P2216> != ?p2 )   } \n",
      "\n",
      "df_raw.shape (24474, 65)\n",
      "Index(['unique_id', 'filename', 'query', 'profile', 'limit', 'group_by',\n",
      "       'distinct', 'order_by', 'union', 'left_join', 'join', 'iter', 'filter',\n",
      "       'num_filter', 'filter_eq', 'filter_gt', 'filter_ge', 'filter_lt',\n",
      "       'filter_le', 'filter_neq', 'filter_iri', 'filter_neq.1', 'filter_bound',\n",
      "       'filter_contains', 'filter_exists', 'filter_isBlank', 'filter_isIRI',\n",
      "       'filter_isLiteral', 'filter_lang', 'filter_langMatches', 'filter_not',\n",
      "       'filter_notexists', 'filter_regex', 'filter_sameTerm', 'filter_str',\n",
      "       'filter_strstarts', 'filter_or', 'filter_and', 'time', 'cpu_p', 'rnd',\n",
      "       'seq', 'same_seg_p', 'same_page_p', 'disk_reads', 'read_ahead', 'wait',\n",
      "       'comp_msec', 'comp_reads', 'comp_read_p', 'comp_messages', 'comp_clw',\n",
      "       'triples', 'total_bgps', 'treesize', 'matrix_format', 'trees',\n",
      "       'trees_old_format', 'json_time_predicate', 'json_fanout_predicate',\n",
      "       'json_input_rows_predicate', 'json_cardinality_fanout',\n",
      "       'json_cardinality', 'scan_queries', 'bgps'],\n",
      "      dtype='object')\n",
      "+++++++++++++++++++++++++++++++++++++++++++++++++++++++++\n",
      "+++++++++++++++++++++++++++++++++++++++++++++++++++++++++\n",
      "With deletes\n",
      "+++++++++++++++++++++++++++++++++++++++++++++++++++++++++\n",
      "Numero de filas borradas: 0\n",
      "85.0\n",
      "99.2817\n",
      "0.500224\n",
      "0.0\n",
      "0.0\n",
      "0.0\n",
      "1\n",
      "SELECT DISTINCT  ?p2 WHERE   { ?x  <http://www.wikidata.org/prop/direct/P215>  ?y ;         <http://www.wikidata.org/prop/direct/P2216>  ?z ;         ?p2                   ?u     FILTER ( <http://www.wikidata.org/prop/direct/P215> != ?p2 )     FILTER ( <http://www.wikidata.org/prop/direct/P2216> != ?p2 )   } \n",
      "\n",
      "df_raw.shape (24474, 65)\n",
      "shape df_raw: (24474, 65)\n"
     ]
    }
   ],
   "source": [
    "print(df_raw.columns)\n",
    "if 'sparql_file' in df_raw.columns:\n",
    "    df_raw = df_raw.rename(columns = {'sparql_file': 'query'}, inplace = False)\n",
    "\n",
    "\n",
    "print(df_raw['cpu_p'][0])\n",
    "print(df_raw['same_seg_p'][0])\n",
    "print(df_raw['same_page_p'][0])\n",
    "print(df_raw['wait'][0])\n",
    "print(df_raw['comp_read_p'][0])\n",
    "print(df_raw['comp_clw'][0])\n",
    "print(df_raw['comp_msec'][0])\n",
    "print(df_raw['query'][0])\n",
    "print('df_raw.shape',df_raw.shape)\n",
    "print(df_raw.columns)\n",
    "\n",
    "df_raw['cpu_p'] = df_raw['cpu_p'].apply(lambda x: float(x.strip('%')))\n",
    "df_raw['same_seg_p'] = df_raw['same_seg_p'].apply(lambda x: float(x.strip('%')))\n",
    "df_raw['same_page_p'] = df_raw['same_page_p'].apply(lambda x: float(x.strip('%')))\n",
    "df_raw['wait'] = df_raw['wait'].apply(lambda x: float(x.strip('%')))\n",
    "df_raw['comp_read_p'] = df_raw['comp_read_p'].apply(lambda x: float(x.strip('%')))\n",
    "df_raw['comp_clw'] = df_raw['comp_clw'].apply(lambda x: float(x.strip('%')))\n",
    "\n",
    "\n",
    "print(\"+++++++++++++++++++++++++++++++++++++++++++++++++++++++++\")\n",
    "print(\"+++++++++++++++++++++++++++++++++++++++++++++++++++++++++\")\n",
    "print(\"With deletes\")\n",
    "indexes_columns, c = delete_potential_problems_indexes(df_raw, active_delete)\n",
    "df_raw = df_raw.drop(indexes_columns)\n",
    "print(\"+++++++++++++++++++++++++++++++++++++++++++++++++++++++++\")\n",
    "print(\"Numero de filas borradas:\",c)\n",
    "print(df_raw['cpu_p'][0])\n",
    "print(df_raw['same_seg_p'][0])\n",
    "print(df_raw['same_page_p'][0])\n",
    "print(df_raw['wait'][0])\n",
    "print(df_raw['comp_read_p'][0])\n",
    "print(df_raw['comp_clw'][0])\n",
    "print(df_raw['comp_msec'][0])\n",
    "print(df_raw['query'][0])\n",
    "\n",
    "print('df_raw.shape',df_raw.shape)\n",
    "\n",
    "print(f'shape df_raw: {df_raw.shape}')"
   ]
  },
  {
   "cell_type": "code",
   "execution_count": 5,
   "id": "98799c80",
   "metadata": {
    "scrolled": true
   },
   "outputs": [
    {
     "name": "stdout",
     "output_type": "stream",
     "text": [
      "mean 3578.6367573751736\n",
      "std 136090.7424811686\n"
     ]
    }
   ],
   "source": [
    "print(\"mean\", df_raw['time'].mean())\n",
    "print(\"std\", df_raw['time'].std())"
   ]
  },
  {
   "cell_type": "code",
   "execution_count": 6,
   "id": "27f1d2a3",
   "metadata": {
    "scrolled": true
   },
   "outputs": [
    {
     "name": "stdout",
     "output_type": "stream",
     "text": [
      "df_raw.shape (24474, 65)\n"
     ]
    }
   ],
   "source": [
    "print('df_raw.shape',df_raw.shape)"
   ]
  },
  {
   "cell_type": "code",
   "execution_count": 7,
   "id": "e6606282",
   "metadata": {},
   "outputs": [
    {
     "data": {
      "text/plain": [
       "136090.7424811686"
      ]
     },
     "execution_count": 7,
     "metadata": {},
     "output_type": "execute_result"
    }
   ],
   "source": [
    "df_raw['time'].std()"
   ]
  },
  {
   "cell_type": "code",
   "execution_count": 8,
   "id": "5a51cb66",
   "metadata": {},
   "outputs": [],
   "source": [
    "df_raw = df_raw[df_raw['time'] <=100000]"
   ]
  },
  {
   "cell_type": "code",
   "execution_count": 9,
   "id": "bc1de829",
   "metadata": {},
   "outputs": [
    {
     "name": "stdout",
     "output_type": "stream",
     "text": [
      "New csv generates\n"
     ]
    }
   ],
   "source": [
    "if active_new_data:\n",
    "    df_raw = shuffle(df_raw)\n",
    "    total_size=len(df_raw)\n",
    "    train_size=math.floor(0.85*total_size)\n",
    "    train=df_raw.head(train_size)\n",
    "    test=df_raw.tail(len(df_raw) -train_size)\n",
    "    \n",
    "    train.to_csv(URL + salt_in_name + '_train_val.csv')\n",
    "    test.to_csv(URL + salt_in_name +'_test.csv')\n",
    "    print(\"New csv generates\")\n",
    "else:\n",
    "    print(\"Used old csv\")"
   ]
  },
  {
   "cell_type": "code",
   "execution_count": null,
   "id": "d9fd150b",
   "metadata": {},
   "outputs": [],
   "source": []
  },
  {
   "cell_type": "code",
   "execution_count": null,
   "id": "6e3d3287",
   "metadata": {},
   "outputs": [],
   "source": []
  },
  {
   "cell_type": "code",
   "execution_count": null,
   "id": "07a0acd1",
   "metadata": {},
   "outputs": [],
   "source": []
  },
  {
   "cell_type": "code",
   "execution_count": null,
   "id": "571ecb16",
   "metadata": {},
   "outputs": [],
   "source": []
  },
  {
   "cell_type": "code",
   "execution_count": null,
   "id": "bf6b831b",
   "metadata": {},
   "outputs": [],
   "source": []
  },
  {
   "cell_type": "code",
   "execution_count": null,
   "id": "9227c736",
   "metadata": {},
   "outputs": [],
   "source": []
  }
 ],
 "metadata": {
  "kernelspec": {
   "display_name": "Python 3 (ipykernel)",
   "language": "python",
   "name": "python3"
  },
  "language_info": {
   "codemirror_mode": {
    "name": "ipython",
    "version": 3
   },
   "file_extension": ".py",
   "mimetype": "text/x-python",
   "name": "python",
   "nbconvert_exporter": "python",
   "pygments_lexer": "ipython3",
   "version": "3.8.10"
  }
 },
 "nbformat": 4,
 "nbformat_minor": 5
}
