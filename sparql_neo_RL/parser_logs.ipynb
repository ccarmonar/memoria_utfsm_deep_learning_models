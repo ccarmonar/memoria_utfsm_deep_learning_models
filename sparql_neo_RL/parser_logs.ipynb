{
 "cells": [
  {
   "cell_type": "code",
   "execution_count": 11,
   "metadata": {},
   "outputs": [],
   "source": [
    "# This script take 4 arguments:\n",
    "# python parser.py logs1  logs2  logs3 output.csv\n",
    "# This join the 3 logs and parse the queries, the output.csv contains non duplicated queries csv ['id','query','time'=1]\n",
    "\n",
    "import pandas as pd\n",
    "import numpy as np\n",
    "from urllib.parse import urlparse,unquote\n",
    "import sys\n",
    "import re\n",
    "\n",
    "# \"./example_logs_organic.tsv\"\n",
    "dataset1 = pd.read_csv(sys.argv[1],sep=\"\\t\")\n",
    "dataset2 = pd.read_csv(sys.argv[2],sep=\"\\t\")\n",
    "dataset3 = pd.read_csv(sys.argv[3],sep=\"\\t\")\n",
    "dataset = pd.concat([dataset1,dataset2,dataset3], ignore_index=True)\n",
    "\n",
    "def clean_query(x):\n",
    "    parsed = unquote(x)\n",
    "    parsed = re.sub('\\+', ' ', parsed)\n",
    "    parsed = re.sub('\\n+', ' ', parsed)\n",
    "    parsed = re.sub(' +', ' ', parsed)\n",
    "    return parsed.strip()\n",
    "dataset['query'] = dataset['anonymizedQuery'].apply(lambda x: clean_query(x))\n",
    "print(dataset.shape)\n",
    "dataset = dataset[['query']].drop_duplicates('query')\n",
    "print(dataset.shape)\n",
    "dataset = dataset[~dataset['query'].str.contains(\"MINUS\")]\n",
    "print(dataset.shape)\n",
    "dataset = dataset[~dataset['query'].str.contains(\"SERVICE\")]\n",
    "print(dataset.shape)\n",
    "\n",
    "dataset = dataset[~dataset['query'].str.contains(\"BIND\")]\n",
    "print(dataset.shape)\n",
    "import hashlib\n",
    "import csv\n",
    "def hash_query(x):\n",
    "    # Assumes the default UTF-8\n",
    "    hash_object = hashlib.md5(x.encode())\n",
    "    return hash_object.hexdigest()\n",
    "dataset['id'] = dataset['query'].apply(lambda x: hash_query(x))\n",
    "dataset['time'] = dataset['query'].apply(lambda x: 1)\n",
    "dataset[['id','query','time']].to_csv(sys.argv[4], index=None,sep=\"ᶶ\", quoting=3)"
   ]
  }
 ],
 "metadata": {
  "kernelspec": {
   "display_name": "Python 3",
   "language": "python",
   "name": "python3"
  },
  "language_info": {
   "codemirror_mode": {
    "name": "ipython",
    "version": 3
   },
   "file_extension": ".py",
   "mimetype": "text/x-python",
   "name": "python",
   "nbconvert_exporter": "python",
   "pygments_lexer": "ipython3",
   "version": "3.6.10"
  }
 },
 "nbformat": 4,
 "nbformat_minor": 4
}
