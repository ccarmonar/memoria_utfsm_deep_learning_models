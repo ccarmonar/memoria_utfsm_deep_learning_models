{
 "cells": [
  {
   "cell_type": "code",
   "execution_count": 1,
   "id": "9c5b177e",
   "metadata": {},
   "outputs": [
    {
     "name": "stdout",
     "output_type": "stream",
     "text": [
      "IS CUDA AVAILABLE: True\n"
     ]
    }
   ],
   "source": [
    "import numpy as np\n",
    "import pandas as pd\n",
    "import pickle\n",
    "import torch.nn as nn\n",
    "import ast\n",
    "from torch.utils.data import DataLoader\n",
    "import json, ast, sys, csv, random\n",
    "import plotly.express as px\n",
    "\n",
    "#Implement training process\n",
    "from model_trees_algebra import NeoRegression\n",
    "\n",
    "from sklearn.metrics import mean_squared_error, mean_absolute_error\n",
    "from sklearn.preprocessing import StandardScaler\n",
    "from sklearn.model_selection import train_test_split\n",
    "\n",
    "from functions.tree_format import IterateBuildTree, InnerJoinsIntraBGPS, \\\n",
    "                                IterateBuildTreeBetweenBGPS, TreeFormat\n",
    "from functions.RL_functions import RL_Actions, RL_Initial_Step, RL_available_actions, \\\n",
    "                                    RL_Next_step, RL_Reward, RL_Rebuild_Dictionary\n",
    "\n",
    "\n",
    "class BaoTrainingException(Exception):\n",
    "    pass\n",
    "\n",
    "URL = \"/media/data/ccarmona/memoria/dataset/\"\n",
    "csv_name = 'new_dataset_5.5_full'\n",
    "x = [True,False]\n",
    "active_delete = x[1]\n",
    "active_new_data = x[0]"
   ]
  },
  {
   "cell_type": "code",
   "execution_count": 24,
   "id": "299c735c",
   "metadata": {},
   "outputs": [],
   "source": [
    "tf = ['LEFT_JOIN', ['JOINᶲIRI_ID\"...P159\"ᶲIRI_ID\"...statement/P159\"', ['VAR_URI_VARᶲIRI_ID\"...P159\"'], ['VAR_URI_URIᶲIRI_ID\"...statement/P159\"']], ['JOINᶲIRI_ID\"...qualifier\"', ['VAR_VAR_VARᶲNONE'], ['VAR_URI_VARᶲIRI_ID\"...qualifier\"']]]"
   ]
  },
  {
   "cell_type": "code",
   "execution_count": 48,
   "id": "e44e06e6",
   "metadata": {},
   "outputs": [],
   "source": [
    "['JOINᶲIRI_ID\"...statement/P39\"ᶲIRI_ID\"...prop/P39\"', ['JOINᶲIRI_ID\"...statement/P39\"', ['VAR_VAR_VARᶲNONE'], ['VAR_URI_URIᶲIRI_ID\"...statement/P39\"']], 'VAR_URI_VARᶲIRI_ID\"...prop/P39\"']\n",
    "['JOINᶲIRI_ID\"...statement/P39\"ᶲIRI_ID\"...prop/P39\"ᶲIRI_ID\"...prop/P39\"', ['JOINᶲIRI_ID\"...statement/P39\"ᶲIRI_ID\"...prop/P39\"', ['JOINᶲIRI_ID\"...statement/P39\"', ['VAR_VAR_VARᶲNONE'], ['VAR_URI_URIᶲIRI_ID\"...statement/P39\"']], 'VAR_URI_VARᶲIRI_ID\"...prop/P39\"'], 'VAR_URI_VARᶲIRI_ID\"...prop/P39\"']\n",
    "[['VAR_URI_VARᶲIRI_ID\"...qualifier/P580\"'], ['JOINᶲIRI_ID\"...qualifier/P580\"ᶲIRI_ID\"...statement/P39\"', ['VAR_URI_VARᶲIRI_ID\"...qualifier/P580\"'], ['VAR_URI_URIᶲIRI_ID\"...statement/P39\"']], ['VAR_VAR_VARᶲNONE'], ['JOINᶲIRI_ID\"...statement/P39\"', ['VAR_VAR_VARᶲNONE'], ['VAR_URI_URIᶲIRI_ID\"...statement/P39\"']], ['JOINᶲIRI_ID\"...statement/P39\"ᶲIRI_ID\"...prop/P39\"', ['JOINᶲIRI_ID\"...statement/P39\"', ['VAR_VAR_VARᶲNONE'], ['VAR_URI_URIᶲIRI_ID\"...statement/P39\"']], 'VAR_URI_VARᶲIRI_ID\"...prop/P39\"'], ['JOINᶲIRI_ID\"...statement/P39\"ᶲIRI_ID\"...prop/P39\"ᶲIRI_ID\"...prop/P39\"', ['JOINᶲIRI_ID\"...statement/P39\"ᶲIRI_ID\"...prop/P39\"', ['JOINᶲIRI_ID\"...statement/P39\"', ['VAR_VAR_VARᶲNONE'], ['VAR_URI_URIᶲIRI_ID\"...statement/P39\"']], 'VAR_URI_VARᶲIRI_ID\"...prop/P39\"'], 'VAR_URI_VARᶲIRI_ID\"...prop/P39\"'], ['JOINᶲIRI_ID\"...qualifier/P580\"ᶲIRI_ID\"...statement/P39\"', ['VAR_URI_VARᶲIRI_ID\"...qualifier/P580\"'], ['VAR_URI_URIᶲIRI_ID\"...statement/P39\"']], ['LEFT_JOIN', ['JOINᶲIRI_ID\"...qualifier/P580\"ᶲIRI_ID\"...statement/P39\"', ['VAR_URI_VARᶲIRI_ID\"...qualifier/P580\"'], ['VAR_URI_URIᶲIRI_ID\"...statement/P39\"']], ['JOINᶲIRI_ID\"...statement/P39\"ᶲIRI_ID\"...prop/P39\"ᶲIRI_ID\"...prop/P39\"', ['JOINᶲIRI_ID\"...statement/P39\"ᶲIRI_ID\"...prop/P39\"', ['JOINᶲIRI_ID\"...statement/P39\"', ['VAR_VAR_VARᶲNONE'], ['VAR_URI_URIᶲIRI_ID\"...statement/P39\"']], 'VAR_URI_VARᶲIRI_ID\"...prop/P39\"'], 'VAR_URI_VARᶲIRI_ID\"...prop/P39\"']], ['LEFT_JOIN', ['LEFT_JOIN', ['JOINᶲIRI_ID\"...qualifier/P580\"ᶲIRI_ID\"...statement/P39\"', ['VAR_URI_VARᶲIRI_ID\"...qualifier/P580\"'], ['VAR_URI_URIᶲIRI_ID\"...statement/P39\"']], ['JOINᶲIRI_ID\"...statement/P39\"ᶲIRI_ID\"...prop/P39\"ᶲIRI_ID\"...prop/P39\"', ['JOINᶲIRI_ID\"...statement/P39\"ᶲIRI_ID\"...prop/P39\"', ['JOINᶲIRI_ID\"...statement/P39\"', ['VAR_VAR_VARᶲNONE'], ['VAR_URI_URIᶲIRI_ID\"...statement/P39\"']], 'VAR_URI_VARᶲIRI_ID\"...prop/P39\"'], 'VAR_URI_VARᶲIRI_ID\"...prop/P39\"']], ['VAR_URI_VARᶲIRI_ID\"...qualifier/P582\"']]]\n",
    "    \n",
    "    \n",
    "    \n",
    "['LEFT_JOIN', ['LEFT_JOIN', ['JOINᶲIRI_ID\"...qualifier/P580\"ᶲIRI_ID\"...statement/P39\"', ['VAR_URI_VARᶲIRI_ID\"...qualifier/P580\"'], ['VAR_URI_URIᶲIRI_ID\"...statement/P39\"']], ['JOINᶲIRI_ID\"...statement/P39\"ᶲIRI_ID\"...prop/P39\"ᶲIRI_ID\"...prop/P39\"', ['JOINᶲIRI_ID\"...statement/P39\"ᶲIRI_ID\"...prop/P39\"', ['JOINᶲIRI_ID\"...statement/P39\"', ['VAR_VAR_VARᶲNONE'], ['VAR_URI_URIᶲIRI_ID\"...statement/P39\"']], 'VAR_URI_VARᶲIRI_ID\"...prop/P39\"'], 'VAR_URI_VARᶲIRI_ID\"...prop/P39\"']], ['VAR_URI_VARᶲIRI_ID\"...qualifier/P582\"']]\n",
    "{{{{{{{{{{{{{{{{{{{{{{{{{{{{{{{{{{{{{{{{{{{{{{{{{{{{"
   ]
  },
  {
   "cell_type": "code",
   "execution_count": 49,
   "id": "20e5cf5a",
   "metadata": {},
   "outputs": [
    {
     "name": "stdout",
     "output_type": "stream",
     "text": [
      "['VAR_URI_VARᶲIRI_ID\"...P159\"']\n",
      "xd\n",
      "['JOINᶲIRI_ID\"...P159\"ᶲIRI_ID\"...statement/P159\"', ['VAR_URI_VARᶲIRI_ID\"...P159\"'], ['VAR_URI_URIᶲIRI_ID\"...statement/P159\"']]\n",
      "xd\n",
      "['VAR_VAR_VARᶲNONE']\n",
      "xd\n",
      "['JOINᶲIRI_ID\"...qualifier\"', ['VAR_VAR_VARᶲNONE'], ['VAR_URI_VARᶲIRI_ID\"...qualifier\"']]\n",
      "xd\n",
      "['JOINᶲIRI_ID\"...P159\"ᶲIRI_ID\"...statement/P159\"', ['VAR_URI_VARᶲIRI_ID\"...P159\"'], ['VAR_URI_URIᶲIRI_ID\"...statement/P159\"']]\n",
      "xd\n",
      "['LEFT_JOIN', ['JOINᶲIRI_ID\"...P159\"ᶲIRI_ID\"...statement/P159\"', ['VAR_URI_VARᶲIRI_ID\"...P159\"'], ['VAR_URI_URIᶲIRI_ID\"...statement/P159\"']], ['JOINᶲIRI_ID\"...qualifier\"', ['VAR_VAR_VARᶲNONE'], ['VAR_URI_VARᶲIRI_ID\"...qualifier\"']]]\n",
      "xd\n"
     ]
    }
   ],
   "source": [
    "for i in a:\n",
    "    print(i)\n",
    "    print(\"xd\")"
   ]
  },
  {
   "cell_type": "code",
   "execution_count": 50,
   "id": "10e4de6c",
   "metadata": {},
   "outputs": [
    {
     "data": {
      "text/plain": [
       "['LEFT_JOIN',\n",
       " ['JOINᶲIRI_ID\"...P159\"ᶲIRI_ID\"...statement/P159\"',\n",
       "  ['VAR_URI_VARᶲIRI_ID\"...P159\"'],\n",
       "  ['VAR_URI_URIᶲIRI_ID\"...statement/P159\"']],\n",
       " ['JOINᶲIRI_ID\"...qualifier\"',\n",
       "  ['VAR_VAR_VARᶲNONE'],\n",
       "  ['VAR_URI_VARᶲIRI_ID\"...qualifier\"']]]"
      ]
     },
     "execution_count": 50,
     "metadata": {},
     "output_type": "execute_result"
    }
   ],
   "source": [
    "b"
   ]
  },
  {
   "cell_type": "code",
   "execution_count": 37,
   "id": "27464f0d",
   "metadata": {},
   "outputs": [
    {
     "name": "stdout",
     "output_type": "stream",
     "text": [
      "tree_format\n"
     ]
    },
    {
     "data": {
      "text/plain": [
       "['LEFT_JOIN',\n",
       " ['JOINᶲIRI_ID\"...P159\"ᶲIRI_ID\"...statement/P159\"',\n",
       "  ['VAR_URI_VARᶲIRI_ID\"...P159\"'],\n",
       "  ['VAR_URI_URIᶲIRI_ID\"...statement/P159\"']],\n",
       " ['JOINᶲIRI_ID\"...qualifier\"',\n",
       "  ['VAR_VAR_VARᶲNONE'],\n",
       "  ['VAR_URI_VARᶲIRI_ID\"...qualifier\"']]]"
      ]
     },
     "execution_count": 37,
     "metadata": {},
     "output_type": "execute_result"
    }
   ],
   "source": [
    "print(\"tree_format\")\n",
    "tf = ast.literal_eval(str(tf))\n",
    "tf"
   ]
  },
  {
   "cell_type": "code",
   "execution_count": 33,
   "id": "78113ea1",
   "metadata": {},
   "outputs": [],
   "source": [
    "tf_str = str(tf).replace('\"', ';').replace(\"'\", '\"')"
   ]
  },
  {
   "cell_type": "code",
   "execution_count": 35,
   "id": "5abcb731",
   "metadata": {},
   "outputs": [
    {
     "name": "stdout",
     "output_type": "stream",
     "text": [
      "{'[\"VAR_URI_VARᶲIRI_ID;...P159;\"]', '[\"LEFT_JOIN\", [\"JOINᶲIRI_ID;...P159;ᶲIRI_ID;...statement/P159;\", [\"VAR_URI_VARᶲIRI_ID;...P159;\"]', '[\"VAR_URI_VARᶲIRI_ID;...qualifier;\"]', '[\"JOINᶲIRI_ID;...qualifier;\", [\"VAR_VAR_VARᶲNONE\"]', '[\"VAR_VAR_VARᶲNONE\"]', '[\"JOINᶲIRI_ID;...P159;ᶲIRI_ID;...statement/P159;\", [\"VAR_URI_VARᶲIRI_ID;...P159;\"]', '[\"VAR_URI_URIᶲIRI_ID;...statement/P159;\"]'}\n"
     ]
    }
   ],
   "source": [
    "import re\n",
    "results = set()\n",
    "for start in range(len(tf_str)):\n",
    "    string = tf_str[start:]\n",
    "    results.update(re.findall('\\[.*?\\]', string))\n",
    "print(results)"
   ]
  },
  {
   "cell_type": "code",
   "execution_count": 41,
   "id": "0e68d18d",
   "metadata": {},
   "outputs": [
    {
     "name": "stdout",
     "output_type": "stream",
     "text": [
      "['JOINᶲIRI_ID\"...qualifier\"', ['VAR_VAR_VARᶲNONE'], ['VAR_URI_VARᶲIRI_ID\"...qualifier\"']]\n"
     ]
    }
   ],
   "source": [
    "print(tf[2])"
   ]
  },
  {
   "cell_type": "code",
   "execution_count": null,
   "id": "18051ff2",
   "metadata": {},
   "outputs": [],
   "source": []
  }
 ],
 "metadata": {
  "kernelspec": {
   "display_name": "Python 3 (ipykernel)",
   "language": "python",
   "name": "python3"
  },
  "language_info": {
   "codemirror_mode": {
    "name": "ipython",
    "version": 3
   },
   "file_extension": ".py",
   "mimetype": "text/x-python",
   "name": "python",
   "nbconvert_exporter": "python",
   "pygments_lexer": "ipython3",
   "version": "3.8.10"
  }
 },
 "nbformat": 4,
 "nbformat_minor": 5
}
