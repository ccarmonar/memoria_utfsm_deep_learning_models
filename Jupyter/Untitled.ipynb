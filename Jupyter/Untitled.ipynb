{
 "cells": [
  {
   "cell_type": "code",
   "execution_count": 17,
   "metadata": {},
   "outputs": [
    {
     "name": "stdout",
     "output_type": "stream",
     "text": [
      "40\n"
     ]
    }
   ],
   "source": [
    "lst = [0,22,800,8358,2303,10969,3222,8358,5429,8830,8930,8932,24200,10757,\n",
    "       10969,22004,22004,23391,21291,22088,14233,13963,23391,5095,12008,21291,23391,275,556,1248,766,\n",
    "    4732,7788,666,998,11000,17865,13456,12345,9568,6985,457,11725,16790,3599,12664]\n",
    "lst = set(lst)\n",
    "lst = list(lst)\n",
    "print(len(lst))"
   ]
  },
  {
   "cell_type": "code",
   "execution_count": 18,
   "metadata": {},
   "outputs": [
    {
     "name": "stdout",
     "output_type": "stream",
     "text": [
      "[0, 22, 275, 457, 556, 666, 766, 800, 998, 1248, 2303, 3222, 3599, 4732, 5095, 5429, 6985, 7788, 8358, 8830, 8930, 8932, 9568, 10757, 10969, 11000, 11725, 12008, 12345, 12664, 13456, 13963, 14233, 16790, 17865, 21291, 22004, 22088, 23391, 24200]\n"
     ]
    }
   ],
   "source": [
    "print(sorted(lst))"
   ]
  },
  {
   "cell_type": "code",
   "execution_count": null,
   "metadata": {},
   "outputs": [],
   "source": []
  }
 ],
 "metadata": {
  "kernelspec": {
   "display_name": "Python 3",
   "language": "python",
   "name": "python3"
  },
  "language_info": {
   "codemirror_mode": {
    "name": "ipython",
    "version": 3
   },
   "file_extension": ".py",
   "mimetype": "text/x-python",
   "name": "python",
   "nbconvert_exporter": "python",
   "pygments_lexer": "ipython3",
   "version": "3.6.8"
  }
 },
 "nbformat": 4,
 "nbformat_minor": 2
}
