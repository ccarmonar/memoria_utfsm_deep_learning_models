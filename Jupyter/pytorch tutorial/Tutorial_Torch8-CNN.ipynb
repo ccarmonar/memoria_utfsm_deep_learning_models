{
 "cells": [
  {
   "cell_type": "code",
   "execution_count": 1,
   "metadata": {},
   "outputs": [],
   "source": [
    "import torch\n",
    "import torch.nn as nn\n",
    "import torch.nn.functional as F\n",
    "import numpy as np\n",
    "import torchvision\n",
    "from torchvision import transforms\n",
    "from torchvision.datasets import ImageFolder\n",
    "import math\n",
    "from torch.utils.data import Dataset, DataLoader\n",
    "from sklearn import datasets\n",
    "import matplotlib.pyplot as plt\n",
    "import matplotlib as mpl\n",
    "from sklearn.preprocessing import StandardScaler #para escalar caracteristicas\n",
    "from sklearn.model_selection import train_test_split # separar mas facil la data de train y test"
   ]
  },
  {
   "cell_type": "markdown",
   "metadata": {},
   "source": [
    "# Convolutional Neural Network\n",
    "Tambien conocida como ConvNet, son similares a las redes normales, pero estan formados por neuronas que tienen ponderaciones y sesgos. Util en la clasificación de imagenes. Usualmente suelen usarse ademas de capas convulicionales, la capas de pooling utilizadas para aprender automaticamente algunas caracteristicas de las imagenes. Al final de estas redes suelen haber varias Fully Conected Layers destinadas a presentar la clasificación predecida final.\n",
    "\n",
    "¿ Para que son los filtros Pooling?\n",
    "En la practica toman varios numeros que representan pixeles de una imagen y los ponderan de alguna forma, es decir detecta la caracteristica mas importante de un grupo de pixeles. De paso representa la imagen en menor tamaño. A veces se usan tecnicas de Padding previo a la imagen para poder aplicar un filtro de mayor tamaño. El pooling mas utilizado es el Max (ver ejemplo: https://computersciencewiki.org/index.php/Max-pooling_/_Pooling).\n",
    "* En sintesis reduce el Pooling sirve para reducir el costo computacional al reducir el tamaño de la imagen, lo cual tambien rduce el numero de parametros. Tambien ayuda al sobreajuste, porporcionando una forma \"abstrabta\" del input.\n",
    "\n",
    "Lo bueno esque con pytorch es mas facil de aplicar.\n",
    "\n",
    "### Ejemplo\n",
    "Se utilizará un Dataset el cual contiene muchisimas fotos y se intentaran predecir si son aviones, autos, pajaros, gatos, ciervos, perros, ranas, caballos, barcos o camiones. Este Dataset es muy famoso (CIFAR-10) y esta disponible con pytorch.\n"
   ]
  },
  {
   "cell_type": "markdown",
   "metadata": {},
   "source": [
    "## Device config"
   ]
  },
  {
   "cell_type": "code",
   "execution_count": 2,
   "metadata": {
    "scrolled": true
   },
   "outputs": [
    {
     "name": "stdout",
     "output_type": "stream",
     "text": [
      "cpu\n"
     ]
    }
   ],
   "source": [
    "device = torch.device('cuda' if torch.cuda.is_available() else 'cpu') # Esto garantiza que se ejecutara en GPU si esta disponible\n",
    "print(device)"
   ]
  },
  {
   "cell_type": "markdown",
   "metadata": {},
   "source": [
    "## Hyperparametros"
   ]
  },
  {
   "cell_type": "code",
   "execution_count": 3,
   "metadata": {},
   "outputs": [],
   "source": [
    "num_epochs = 5\n",
    "batch_size = 4\n",
    "learning_rate = 0.001"
   ]
  },
  {
   "cell_type": "markdown",
   "metadata": {},
   "source": [
    "## MNIST Data"
   ]
  },
  {
   "cell_type": "code",
   "execution_count": 4,
   "metadata": {},
   "outputs": [
    {
     "name": "stdout",
     "output_type": "stream",
     "text": [
      "Files already downloaded and verified\n",
      "Files already downloaded and verified\n"
     ]
    }
   ],
   "source": [
    "# dataset has PILImage images of range [0, 1]. \n",
    "# We transform them to Tensors of normalized range [-1, 1]\n",
    "transform = transforms.Compose(\n",
    "    [transforms.ToTensor(),\n",
    "     transforms.Normalize((0.5, 0.5, 0.5), (0.5, 0.5, 0.5))])\n",
    "\n",
    "# CIFAR10: 60000 32x32 color images in 10 classes, with 6000 images per class\n",
    "train_dataset = torchvision.datasets.CIFAR10(root='./data', train=True,\n",
    "                                        download=True, transform=transform)\n",
    "\n",
    "test_dataset = torchvision.datasets.CIFAR10(root='./data', train=False,\n",
    "                                       download=True, transform=transform)\n",
    "# Optimizacion de lotes y train facil haciedno esto como ya hemos visto\n",
    "train_loader = torch.utils.data.DataLoader(train_dataset, batch_size=batch_size,\n",
    "                                          shuffle=True)\n",
    "\n",
    "test_loader = torch.utils.data.DataLoader(test_dataset, batch_size=batch_size,\n",
    "                                         shuffle=False)\n",
    "\n",
    "classes = ('plane', 'car', 'bird', 'cat',\n",
    "           'deer', 'dog', 'frog', 'horse', 'ship', 'truck')\n",
    "\n",
    "def imshow(img):\n",
    "    img = img / 2 + 0.5  # unnormalize\n",
    "    npimg = img.numpy()\n",
    "    plt.imshow(np.transpose(npimg, (1, 2, 0)))\n",
    "    plt.show()"
   ]
  },
  {
   "cell_type": "code",
   "execution_count": 5,
   "metadata": {},
   "outputs": [
    {
     "data": {
      "image/png": "[encoded data removed]",
      "text/plain": [
       "<Figure size 432x288 with 1 Axes>"
      ]
     },
     "metadata": {
      "needs_background": "light"
     },
     "output_type": "display_data"
    }
   ],
   "source": [
    "# get some random training images\n",
    "dataiter = iter(train_loader)\n",
    "images, labels = dataiter.next()\n",
    "\n",
    "# show images\n",
    "imshow(torchvision.utils.make_grid(images))"
   ]
  },
  {
   "cell_type": "markdown",
   "metadata": {},
   "source": [
    "## Neuronal Networks\n",
    "Aqui se arma la red neuronal, con Conv2d. También se define el modelo"
   ]
  },
  {
   "cell_type": "code",
   "execution_count": 6,
   "metadata": {},
   "outputs": [],
   "source": [
    "class ConvNet(nn.Module):\n",
    "    def __init__(self):\n",
    "        super(ConvNet, self).__init__()\n",
    "        # SE DEFINEN LAS CAPAS A UTILIZAR, TANTO LAS CNN, FCL-ANN CY LAS DE POOLING\n",
    "        ## FEATURE LEARNING: sección donde se aprenden caracteristicas importantes de las imagenes\n",
    "        # Definimos la primera capa convolucional\n",
    "        self.conv1 = nn.Conv2d(3, 6, 5) \n",
    "        # 3 canales (RGB), 6Canales producido por la convolucion (salida),\n",
    "        # Tamaño de esas salidas 5x5 (si se quiere algo no cuadrado la entrada debe ser como tupla)\n",
    "        \n",
    "        # Filtro Max Pooling\n",
    "        ## Pooling de tamaño 2 y \"que avanza\" de a 2 \"cuadros\" (ver ejemplo para entender mejor\n",
    "        # que es el stride)\n",
    "        self.pool = nn.MaxPool2d(2, stride=2)\n",
    "        \n",
    "        # Segunda capa convolucional\n",
    "        # 6 canales de entrada, 16 Canales producido por la convolucion (salida),\n",
    "        # Tamaño de esas salidas 5x5 (si se quiere algo no cuadrado la entrada debe ser como tupla)\n",
    "        self.conv2 = nn.Conv2d(6, 16, 5)\n",
    "        \n",
    "        ## CLASIFICATION: Sección hecha con Fully Connected Layers destinadas a la parte de clasificación\n",
    "        #Aquí ya todo es \"plano\"\n",
    "        # Primera red neuronal comun, debemos pasar todo los datos a un nivel \"plano\". Cada canal producido \n",
    "        # Conv2d anterior debe tenerse en cuenta, y cada uno tiene tamaño 5x5, \n",
    "        # por ende la entrada debe ser 5x 5 x 16\n",
    "        ### Diremos que la salida de este neuron 120, este valor es opcional y puede ser cambiado pero si\n",
    "        ### si cambia DBE CAMBIARSE TAMBIEN EL DE LA SIGUIENTE NEURON\n",
    "        self.fc1 = nn.Linear(16 * 5 * 5, 120)\n",
    "        # Segundo Neuron lineal, recibe como entrada los 120 salidas del neuron anterior, y entrega\n",
    "        ## 84 salidas\n",
    "        self.fc2 = nn.Linear(120, 84)\n",
    "        # Tercer neuron lineal, recibe como entrada los 84 salidas y entrega 10 salidas, que corresponden\n",
    "        # al os valores finales de clasificacion previos al Softmax-CrossEntropu\n",
    "        self.fc3 = nn.Linear(84, 10)\n",
    "        \n",
    "        \n",
    "        #Se pueden agregar mas capas o mas neurones, cambiar tamaños etc.. pero siempre debo terminar con\n",
    "        # una salida del tamaño que busco\n",
    "\n",
    "    def forward(self, x):\n",
    "        # Aquí aplicaremos las funciones de activación y los POOLING entre capas\n",
    "        ## Entrada\n",
    "        # -> n, 3, 32, 32\n",
    "        \n",
    "        # Se utiliza la primera CNN que se definio + Aplicar F.A Relu + Pooling definido arriba\n",
    "        # queda -> n, 6, 14, 14\n",
    "        x = self.pool(F.relu(self.conv1(x)))  \n",
    "        \n",
    "        # Se utiliza la SEGUNDA CNN que se definio + Aplicar F.A Relu + Pooling definido arriba\n",
    "        # queda -> n, 16, 5, 5\n",
    "        x = self.pool(F.relu(self.conv2(x)))  \n",
    "        \n",
    "        # APLANAMOS TODO (osea reshape) para poder pasar a la primera capa de la FCL\n",
    "         # queda -> n, 400\n",
    "        x = x.view(-1, 16 * 5 * 5)           \n",
    "        \n",
    "        # Se utiliza LA PRIMERA FCL-ANN que se definio + Aplicar F.A Relu, ya no se necesita pooling\n",
    "        # queda  -> n, 120\n",
    "        x = F.relu(self.fc1(x))\n",
    "        \n",
    "        # Se utiliza LA SEGUNDA FCL-ANN que se definio + Aplicar F.A Relu\n",
    "        # queda   -> n, 84\n",
    "        x = F.relu(self.fc2(x))\n",
    "        \n",
    "        # Se utiliza LA SEGUNDA FCL-ANN que se definio\n",
    "        # RECORDAR QUE LA CROSS ENTROPY CON PYTORCH YA HACE LA ULTIMA FUNCIÓN DE ACTIVACIÓN: EL SOFTMAX\n",
    "        # queda -> n, 10\n",
    "        x = self.fc3(x)\n",
    "        \n",
    "        return x\n",
    "\n",
    "\n",
    "model = ConvNet().to(device)\n",
    "    "
   ]
  },
  {
   "cell_type": "markdown",
   "metadata": {},
   "source": [
    "## Loss y optimizer"
   ]
  },
  {
   "cell_type": "code",
   "execution_count": 7,
   "metadata": {},
   "outputs": [],
   "source": [
    "criterion = nn.CrossEntropyLoss()\n",
    "optimizer = torch.optim.SGD(model.parameters(), lr=learning_rate)"
   ]
  },
  {
   "cell_type": "markdown",
   "metadata": {},
   "source": [
    "## Training Loop"
   ]
  },
  {
   "cell_type": "code",
   "execution_count": 8,
   "metadata": {},
   "outputs": [
    {
     "name": "stdout",
     "output_type": "stream",
     "text": [
      "Epoch [1/5], Step [2000/12500], Loss: 2.2646\n",
      "Epoch [1/5], Step [4000/12500], Loss: 2.2820\n",
      "Epoch [1/5], Step [6000/12500], Loss: 2.3029\n",
      "Epoch [1/5], Step [8000/12500], Loss: 2.1285\n",
      "Epoch [1/5], Step [10000/12500], Loss: 2.2064\n",
      "Epoch [1/5], Step [12000/12500], Loss: 2.3004\n",
      "Epoch [2/5], Step [2000/12500], Loss: 1.8555\n",
      "Epoch [2/5], Step [4000/12500], Loss: 2.0180\n",
      "Epoch [2/5], Step [6000/12500], Loss: 2.8404\n",
      "Epoch [2/5], Step [8000/12500], Loss: 2.4457\n",
      "Epoch [2/5], Step [10000/12500], Loss: 1.4250\n",
      "Epoch [2/5], Step [12000/12500], Loss: 2.4032\n",
      "Epoch [3/5], Step [2000/12500], Loss: 1.0215\n",
      "Epoch [3/5], Step [4000/12500], Loss: 2.5982\n",
      "Epoch [3/5], Step [6000/12500], Loss: 1.1138\n",
      "Epoch [3/5], Step [8000/12500], Loss: 1.9510\n",
      "Epoch [3/5], Step [10000/12500], Loss: 1.5888\n",
      "Epoch [3/5], Step [12000/12500], Loss: 1.4262\n",
      "Epoch [4/5], Step [2000/12500], Loss: 1.7975\n",
      "Epoch [4/5], Step [4000/12500], Loss: 1.2067\n",
      "Epoch [4/5], Step [6000/12500], Loss: 1.8074\n",
      "Epoch [4/5], Step [8000/12500], Loss: 0.8355\n",
      "Epoch [4/5], Step [10000/12500], Loss: 1.6300\n",
      "Epoch [4/5], Step [12000/12500], Loss: 1.2936\n",
      "Epoch [5/5], Step [2000/12500], Loss: 1.6789\n",
      "Epoch [5/5], Step [4000/12500], Loss: 1.4318\n",
      "Epoch [5/5], Step [6000/12500], Loss: 0.6488\n",
      "Epoch [5/5], Step [8000/12500], Loss: 1.2255\n",
      "Epoch [5/5], Step [10000/12500], Loss: 0.8563\n",
      "Epoch [5/5], Step [12000/12500], Loss: 1.2534\n",
      "Finished Training\n"
     ]
    }
   ],
   "source": [
    "n_total_steps = len(train_loader)\n",
    "for epoch in range(num_epochs):\n",
    "    for i, (images, labels) in enumerate(train_loader):\n",
    "        # origin shape: [4, 3, 32, 32] = 4, 3, 1024\n",
    "        # input_layer: 3 input channels, 6 output channels, 5 kernel size\n",
    "        images = images.to(device)\n",
    "        labels = labels.to(device)\n",
    "\n",
    "        # Forward pass\n",
    "        outputs = model(images)\n",
    "        loss = criterion(outputs, labels)\n",
    "\n",
    "        # Backward and optimize\n",
    "        optimizer.zero_grad()\n",
    "        loss.backward()\n",
    "        optimizer.step()\n",
    "\n",
    "        if (i+1) % 2000 == 0:\n",
    "            print (f'Epoch [{epoch+1}/{num_epochs}], Step [{i+1}/{n_total_steps}], Loss: {loss.item():.4f}')\n",
    "\n",
    "print('Finished Training')\n",
    "PATH = './cnn.pth'\n",
    "torch.save(model.state_dict(), PATH)"
   ]
  },
  {
   "cell_type": "markdown",
   "metadata": {},
   "source": [
    "## Testing evaluation"
   ]
  },
  {
   "cell_type": "code",
   "execution_count": 9,
   "metadata": {
    "scrolled": true
   },
   "outputs": [
    {
     "name": "stdout",
     "output_type": "stream",
     "text": [
      "Accuracy of the network: 49.46 %\n",
      "Accuracy of plane: 47.1 %\n",
      "Accuracy of car: 51.7 %\n",
      "Accuracy of bird: 22.1 %\n",
      "Accuracy of cat: 36.1 %\n",
      "Accuracy of deer: 38.8 %\n",
      "Accuracy of dog: 43.5 %\n",
      "Accuracy of frog: 62.6 %\n",
      "Accuracy of horse: 60.7 %\n",
      "Accuracy of ship: 75.6 %\n",
      "Accuracy of truck: 56.4 %\n"
     ]
    }
   ],
   "source": [
    "with torch.no_grad():\n",
    "    n_correct = 0\n",
    "    n_samples = 0\n",
    "    n_class_correct = [0 for i in range(10)]\n",
    "    n_class_samples = [0 for i in range(10)]\n",
    "    for images, labels in test_loader:\n",
    "        images = images.to(device)\n",
    "        labels = labels.to(device)\n",
    "        outputs = model(images)\n",
    "        # max returns (value ,index)\n",
    "        _, predicted = torch.max(outputs, 1)\n",
    "        n_samples += labels.size(0)\n",
    "        n_correct += (predicted == labels).sum().item()\n",
    "        \n",
    "        for i in range(batch_size):\n",
    "            label = labels[i]\n",
    "            pred = predicted[i]\n",
    "            if (label == pred):\n",
    "                n_class_correct[label] += 1\n",
    "            n_class_samples[label] += 1\n",
    "\n",
    "    acc = 100.0 * n_correct / n_samples\n",
    "    print(f'Accuracy of the network: {acc} %')\n",
    "\n",
    "    for i in range(10):\n",
    "        acc = 100.0 * n_class_correct[i] / n_class_samples[i]\n",
    "        print(f'Accuracy of {classes[i]}: {acc} %')\n",
    "        \n",
    "        "
   ]
  },
  {
   "cell_type": "code",
   "execution_count": null,
   "metadata": {},
   "outputs": [],
   "source": []
  }
 ],
 "metadata": {
  "kernelspec": {
   "display_name": "Python 3",
   "language": "python",
   "name": "python3"
  },
  "language_info": {
   "codemirror_mode": {
    "name": "ipython",
    "version": 3
   },
   "file_extension": ".py",
   "mimetype": "text/x-python",
   "name": "python",
   "nbconvert_exporter": "python",
   "pygments_lexer": "ipython3",
   "version": "3.6.8"
  }
 },
 "nbformat": 4,
 "nbformat_minor": 2
}
