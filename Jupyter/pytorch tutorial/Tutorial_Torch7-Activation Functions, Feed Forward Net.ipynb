{
 "cells": [
  {
   "cell_type": "code",
   "execution_count": 1,
   "metadata": {},
   "outputs": [],
   "source": [
    "import torch\n",
    "import torch.nn as nn\n",
    "import numpy as np\n",
    "import torchvision\n",
    "from torchvision import transforms\n",
    "from torchvision.datasets import ImageFolder\n",
    "import math\n",
    "from torch.utils.data import Dataset, DataLoader\n",
    "from sklearn import datasets\n",
    "import matplotlib.pyplot as plt\n",
    "import matplotlib as mpl\n",
    "from sklearn.preprocessing import StandardScaler #para escalar caracteristicas\n",
    "from sklearn.model_selection import train_test_split # separar mas facil la data de train y test"
   ]
  },
  {
   "cell_type": "markdown",
   "metadata": {},
   "source": [
    "# Activation Functions\n",
    "En resumidas cuentas es una aplicar una transformacionNO lineal a la SALIDA de una capa y basicamente decidir si el \"neuron\" debe activarse o no.\n",
    "¿Por que se usa?\n",
    "Si no usaramos funciones de activacion, solo podriamos tener transformaciones lineales sobre otras transformaciones lineales lineales, transformando el modelo solo en una transformación lineal, el cual no es muy adecuado para tareas complejas. Por tanto es necesario para algunos problemas (la mayoria) aplicar ciertas funciones no lineales.\n",
    "\n",
    "## Funciones de activaciones mas comunes\n",
    "1. Step function (aunque se usa poco en la practica)\n",
    "2. Sigmoid (usado por ejemplo en regresion logistica, en problemas de clasificacion binaria (ultima capa))\n",
    "3. Tanh (similar a sigmoid, buena opcion dentro de capas ocultas)\n",
    "4. ReLU (opcion más popular en la mayoria de las redes, muy util, si no se sabe que usar es la mejor opción por defecto)\n",
    "5. Leaky ReLU (version levemente medificada de ReLU. Usado si se quiere resolver el problema de \"desaparición de gradiente\", esto es cuando la gradiente es extremadamente cercano a cero y los pesos no aprenden nada. Si los pesos no se actualizan es buena opción utilizar esto en vez de ReLU normal)\n",
    "6. Softmax (Bueno para la ultima capa en un problema de multiclasificación)\n"
   ]
  },
  {
   "cell_type": "markdown",
   "metadata": {},
   "source": [
    "# Feed Foward Net"
   ]
  },
  {
   "cell_type": "markdown",
   "metadata": {},
   "source": [
    "## Device config"
   ]
  },
  {
   "cell_type": "code",
   "execution_count": 2,
   "metadata": {
    "scrolled": true
   },
   "outputs": [
    {
     "name": "stdout",
     "output_type": "stream",
     "text": [
      "cpu\n"
     ]
    }
   ],
   "source": [
    "device = torch.device('cuda' if torch.cuda.is_available() else 'cpu') # Esto garantiza que se ejecutara en GPU si esta disponible\n",
    "print(device)"
   ]
  },
  {
   "cell_type": "markdown",
   "metadata": {},
   "source": [
    "## Hyperparametros"
   ]
  },
  {
   "cell_type": "code",
   "execution_count": 3,
   "metadata": {},
   "outputs": [],
   "source": [
    "input_size = 784 # Esto es porque las imagenes de entrada son 28x28 => un tensor de tamaño de entrada 784\n",
    "hidden_size = 10000\n",
    "num_classes = 10 # Ya que hay 10 diferentes clases\n",
    "num_epochs = 5\n",
    "batch_size = 100\n",
    "learning_rate = 0.001"
   ]
  },
  {
   "cell_type": "markdown",
   "metadata": {},
   "source": [
    "## MNIST Data"
   ]
  },
  {
   "cell_type": "code",
   "execution_count": 4,
   "metadata": {},
   "outputs": [
    {
     "name": "stdout",
     "output_type": "stream",
     "text": [
      "torch.Size([100, 1, 28, 28]) torch.Size([100])\n"
     ]
    },
    {
     "data": {
      "image/png": "[encoded data removed]",
      "text/plain": [
       "<Figure size 432x288 with 6 Axes>"
      ]
     },
     "metadata": {
      "needs_background": "light"
     },
     "output_type": "display_data"
    }
   ],
   "source": [
    "train_dataset = torchvision.datasets.MNIST(root='./data', train=True,\n",
    "                                          transform =transforms.ToTensor(), download=True)\n",
    "test_dataset = torchvision.datasets.MNIST(root='./data', train=False,\n",
    "                                          transform =transforms.ToTensor(), download=True)\n",
    "train_loader = torch.utils.data.DataLoader(dataset=train_dataset, batch_size=batch_size,\n",
    "                                          shuffle=True)\n",
    "test_loader = torch.utils.data.DataLoader(dataset=test_dataset, batch_size=batch_size,\n",
    "                                          shuffle=False) #Aqui no es importante el shuffle\n",
    "examples = iter(train_loader)\n",
    "samples, labels = examples.next()\n",
    "print(samples.shape, labels.shape)\n",
    "for i in range(6):\n",
    "    plt.subplot(2,3,i+1) #2 rows 3 columns\n",
    "    plt.imshow(samples[i][0], cmap='gray')\n",
    "\n",
    "    \n",
    "plt.show()"
   ]
  },
  {
   "cell_type": "code",
   "execution_count": 10,
   "metadata": {},
   "outputs": [
    {
     "name": "stdout",
     "output_type": "stream",
     "text": [
      "<torch.utils.data.dataloader.DataLoader object at 0x000002CED09795F8>\n"
     ]
    }
   ],
   "source": [
    "print(test_loader)"
   ]
  },
  {
   "cell_type": "code",
   "execution_count": 5,
   "metadata": {},
   "outputs": [
    {
     "name": "stdout",
     "output_type": "stream",
     "text": [
      "Tamaño de la muestra:\n",
      "Numero de muestras en el lote:  100\n",
      "Canales:  1\n",
      "Filas:  28\n",
      "Columnas:  28\n"
     ]
    }
   ],
   "source": [
    "print(\"Tamaño de la muestra:\")\n",
    "print(\"Numero de muestras en el lote: \",samples.shape[0])\n",
    "print(\"Canales: \",samples.shape[1])\n",
    "print(\"Filas: \",samples.shape[2])\n",
    "print(\"Columnas: \",samples.shape[3])"
   ]
  },
  {
   "cell_type": "markdown",
   "metadata": {},
   "source": [
    "## Full Neuronal Network\n",
    "Queremos clasificar estos digitos, para esto haremos una red neuronal completamente conectada"
   ]
  },
  {
   "cell_type": "code",
   "execution_count": 6,
   "metadata": {},
   "outputs": [],
   "source": [
    "class NeuralNet(nn.Module):\n",
    "    def __init__(self,input_size,hidden_size,num_classes):\n",
    "        super(NeuralNet, self).__init__()\n",
    "        self.input_size = input_size\n",
    "        # Aquí creamos las capas con sus respectivas funciones de activacion\n",
    "        self.l1 = nn.Linear(input_size, hidden_size) # Capa/Layer 1\n",
    "        self.relu = nn.ReLU() # Se aplica funcion de activacion ReLu\n",
    "        self.l2 = nn.Linear(hidden_size, num_classes) # Capa2, \n",
    "        #observar que ahora la entrada tendra tamaño hidden_size\n",
    "        # mientras que la salida tendra tamaño del número de clases, \n",
    "        # eso indica que es nuestra última capa\n",
    "        # Teoricamente vendria el softmax pero no se aplicara ya que se hara entropia cruzada y recordar que\n",
    "        # esta la aplica AUTOMATICAMENTE,, por ende PARA ESTE CASO\n",
    "        # NO ES NECESARIA APLICAR LA FUNCIÓN DE ACTIVACIÓN SOFTMAX\n",
    "        \n",
    "    # Se aplica el modelo construido arriba en el forward    \n",
    "    def forward(self,x):\n",
    "        out=self.l1(x)\n",
    "        out=self.relu(out)\n",
    "        out=self.l2(out)\n",
    "        # OJO cuidado que aquí no quiero aplicar nuevamente la función de activacion como se explico arriba\n",
    "        return out\n",
    "        \n",
    "# Definimos el modelo con la clase\n",
    "model = NeuralNet(input_size, hidden_size, num_classes).to(device)\n",
    "    "
   ]
  },
  {
   "cell_type": "markdown",
   "metadata": {},
   "source": [
    "## Loss y optimizer"
   ]
  },
  {
   "cell_type": "code",
   "execution_count": 7,
   "metadata": {},
   "outputs": [],
   "source": [
    "criterion = nn.CrossEntropyLoss() # De paso aplica la funcion softmax por nosotros\n",
    "optimizer = torch.optim.Adam(model.parameters(),lr=learning_rate) # Se usara el optimizador ADAM"
   ]
  },
  {
   "cell_type": "markdown",
   "metadata": {},
   "source": [
    "## Training Loop"
   ]
  },
  {
   "cell_type": "code",
   "execution_count": 8,
   "metadata": {},
   "outputs": [
    {
     "name": "stdout",
     "output_type": "stream",
     "text": [
      "epoch 1/5, step 100/600, loss = 0.1577\n",
      "epoch 1/5, step 200/600, loss = 0.4576\n",
      "epoch 1/5, step 300/600, loss = 0.1385\n",
      "epoch 1/5, step 400/600, loss = 0.1497\n",
      "epoch 1/5, step 500/600, loss = 0.0519\n",
      "epoch 1/5, step 600/600, loss = 0.0665\n",
      "epoch 2/5, step 100/600, loss = 0.1131\n",
      "epoch 2/5, step 200/600, loss = 0.0278\n",
      "epoch 2/5, step 300/600, loss = 0.0050\n",
      "epoch 2/5, step 400/600, loss = 0.0654\n",
      "epoch 2/5, step 500/600, loss = 0.1458\n",
      "epoch 2/5, step 600/600, loss = 0.0791\n",
      "epoch 3/5, step 100/600, loss = 0.0817\n",
      "epoch 3/5, step 200/600, loss = 0.0200\n",
      "epoch 3/5, step 300/600, loss = 0.0569\n",
      "epoch 3/5, step 400/600, loss = 0.0289\n",
      "epoch 3/5, step 500/600, loss = 0.0810\n",
      "epoch 3/5, step 600/600, loss = 0.0618\n",
      "epoch 4/5, step 100/600, loss = 0.0275\n",
      "epoch 4/5, step 200/600, loss = 0.0165\n",
      "epoch 4/5, step 300/600, loss = 0.0256\n",
      "epoch 4/5, step 400/600, loss = 0.0300\n",
      "epoch 4/5, step 500/600, loss = 0.1547\n",
      "epoch 4/5, step 600/600, loss = 0.0050\n",
      "epoch 5/5, step 100/600, loss = 0.0016\n",
      "epoch 5/5, step 200/600, loss = 0.0071\n",
      "epoch 5/5, step 300/600, loss = 0.0163\n",
      "epoch 5/5, step 400/600, loss = 0.0211\n",
      "epoch 5/5, step 500/600, loss = 0.0921\n",
      "epoch 5/5, step 600/600, loss = 0.0465\n"
     ]
    }
   ],
   "source": [
    "n_total_step = len(train_loader) \n",
    "for epoch in range(num_epochs):\n",
    "    for i, (images, labels) in enumerate(train_loader):\n",
    "        # Aplicar reshape\n",
    "        # Las imaenes estan 100,1,28,28 (el 100 solo especifica cantidad, y el 1 numero de canales lo cual solo es relevante en CNN))\n",
    "        # Volverlos un tensor de entrada 100, 784\n",
    "        images = images.reshape(-1, 28*28) #Se envia el GPU si esta disponible...\n",
    "        labels = labels.to(device)\n",
    "        # forward\n",
    "        outputs = model(images).to(device)\n",
    "        loss = criterion(outputs, labels)\n",
    "    \n",
    "        # backwar\n",
    "        loss.backward()\n",
    "        optimizer.step()\n",
    "        \n",
    "        # Vaciar los grads\n",
    "        optimizer.zero_grad()\n",
    "        \n",
    "        # Print progreso\n",
    "        if (i+1)%100 == 0:\n",
    "            print(f'epoch {epoch+1}/{num_epochs}, step {i+1}/{n_total_step}, loss = {loss.item():.4f}')\n",
    "\n",
    "            \n",
    "        \n"
   ]
  },
  {
   "cell_type": "markdown",
   "metadata": {},
   "source": [
    "## Testing evaluation"
   ]
  },
  {
   "cell_type": "code",
   "execution_count": 9,
   "metadata": {
    "scrolled": true
   },
   "outputs": [
    {
     "name": "stdout",
     "output_type": "stream",
     "text": [
      "accuracy = 97.63\n"
     ]
    }
   ],
   "source": [
    "# SIEMPRE EVITAR CONSIDERAR LOS GRADIENTES\n",
    "with torch.no_grad():\n",
    "    n_correct = 0\n",
    "    n_samples = 0\n",
    "    for images, labels in test_loader:\n",
    "        # Debemos hacer nuevamente el reshape OJO\n",
    "        images = images.reshape(-1, 28*28).to(device) #Se envia el GPU si esta disponible...\n",
    "        labels = labels.to(device)\n",
    "        outputs = model(images)\n",
    "        \n",
    "        # value, index\n",
    "        _, predictions = torch.max(outputs, 1) # obtener el max posible valor\n",
    "        n_samples += labels.shape[0] # numero de muestras por lote actual\n",
    "        n_correct += (predictions == labels).sum().item() #ver cuantas acertaron, si acerto suma 1 si no 0\n",
    "    # Medir % precision\n",
    "    acc = 100.0 * n_correct/n_samples\n",
    "    \n",
    "    print(f'accuracy = {acc}')\n",
    "        \n",
    "        "
   ]
  },
  {
   "cell_type": "code",
   "execution_count": null,
   "metadata": {},
   "outputs": [],
   "source": []
  },
  {
   "cell_type": "code",
   "execution_count": null,
   "metadata": {},
   "outputs": [],
   "source": []
  },
  {
   "cell_type": "code",
   "execution_count": null,
   "metadata": {},
   "outputs": [],
   "source": []
  },
  {
   "cell_type": "code",
   "execution_count": null,
   "metadata": {},
   "outputs": [],
   "source": []
  },
  {
   "cell_type": "code",
   "execution_count": null,
   "metadata": {},
   "outputs": [],
   "source": []
  }
 ],
 "metadata": {
  "kernelspec": {
   "display_name": "Python 3",
   "language": "python",
   "name": "python3"
  },
  "language_info": {
   "codemirror_mode": {
    "name": "ipython",
    "version": 3
   },
   "file_extension": ".py",
   "mimetype": "text/x-python",
   "name": "python",
   "nbconvert_exporter": "python",
   "pygments_lexer": "ipython3",
   "version": "3.6.8"
  }
 },
 "nbformat": 4,
 "nbformat_minor": 2
}
