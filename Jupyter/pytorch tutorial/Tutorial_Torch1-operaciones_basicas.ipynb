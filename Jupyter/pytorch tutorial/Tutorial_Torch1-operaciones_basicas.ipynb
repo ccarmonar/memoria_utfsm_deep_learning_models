{
 "cells": [
  {
   "cell_type": "code",
   "execution_count": 1,
   "metadata": {},
   "outputs": [],
   "source": [
    "import torch\n",
    "import torch.nn as nn\n",
    "import numpy as np\n",
    "import torchvision\n",
    "from torchvision import transforms\n",
    "from torchvision.datasets import ImageFolder\n",
    "import matplotlib.pyplot as plt"
   ]
  },
  {
   "cell_type": "code",
   "execution_count": 2,
   "metadata": {},
   "outputs": [
    {
     "name": "stdout",
     "output_type": "stream",
     "text": [
      "----escalar---\n",
      "tensor([0.])\n",
      "---lista 3 valores----\n",
      "tensor([1.1729e-42, 0.0000e+00, 2.6218e+23])\n",
      "----Matrix 2x3----\n",
      "tensor([[9.1837e-39, 2.9389e-39, 1.0469e-38],\n",
      "        [8.9082e-39, 2.9389e-39, 1.0102e-38]])\n",
      "----3d 4x2x3----\n",
      "tensor([[[ 8.8674e-04,  1.7181e+19,  4.3059e+21],\n",
      "         [ 6.5831e+19,  7.2708e+31,  1.0999e-32]],\n",
      "\n",
      "        [[ 1.3563e-19,  5.1848e-43,  6.1267e+20],\n",
      "         [ 4.2328e+21,  7.0065e-45,  0.0000e+00]],\n",
      "\n",
      "        [[ 2.1019e-44,  1.2612e-44,  9.3887e-44],\n",
      "         [ 1.1065e-40,  3.8823e+25,  2.6685e+36]],\n",
      "\n",
      "        [[ 2.3971e-38,  2.7516e+36,  9.6197e+21],\n",
      "         [ 9.2583e+18,  3.9134e+25, -3.7734e-37]]])\n",
      "---'4d'-2x2x2x3--\n",
      "tensor([[[[8.1735e-39, 5.9694e-39, 8.9082e-39],\n",
      "          [1.0194e-38, 9.1837e-39, 4.6837e-39]],\n",
      "\n",
      "         [[9.9184e-39, 9.0000e-39, 1.0561e-38],\n",
      "          [1.0653e-38, 4.1327e-39, 8.9082e-39]]],\n",
      "\n",
      "\n",
      "        [[[9.8265e-39, 9.4592e-39, 1.0561e-38],\n",
      "          [1.0010e-38, 1.0653e-38, 9.9184e-39]],\n",
      "\n",
      "         [[1.0653e-38, 9.6429e-39, 8.4490e-39],\n",
      "          [1.0653e-38, 9.9184e-39, 8.4490e-39]]]])\n"
     ]
    }
   ],
   "source": [
    "# Crear tensores vacios y distintas dimensiones\n",
    "x = torch.empty(1) # Tensor q solo es un valor escalar\n",
    "y = torch.empty(3) # Tensor q es como una lista, 3 valores\n",
    "z = torch.empty(2,3) # Tensor de dos dimensiones 2x3\n",
    "zz = torch.empty(4,2,3) # Tensor de tres dimensiones 4x2x3\n",
    "d = torch.empty(2,2,2,3) # Tensor de cuatro dimensiones 2x2x2x3\n",
    "print(\"----escalar---\")\n",
    "print(x)\n",
    "print(\"---lista 3 valores----\")\n",
    "print(y)\n",
    "print(\"----Matrix 2x3----\")\n",
    "print(z)\n",
    "print(\"----3d 4x2x3----\")\n",
    "print(zz)\n",
    "print(\"---'4d'-2x2x2x3--\")\n",
    "print(d)\n"
   ]
  },
  {
   "cell_type": "code",
   "execution_count": 3,
   "metadata": {},
   "outputs": [
    {
     "name": "stdout",
     "output_type": "stream",
     "text": [
      "RANDOM\n",
      "tensor([[0.3221, 0.2166],\n",
      "        [0.6320, 0.9715]])\n",
      "ZEROS\n",
      "tensor([[0., 0.],\n",
      "        [0., 0.]])\n",
      "ONES\n",
      "tensor([[1., 1., 1.],\n",
      "        [1., 1., 1.]])\n"
     ]
    }
   ],
   "source": [
    "# random tensors, zeros y ones\n",
    "rand_x = torch.rand(2,2)\n",
    "print(\"RANDOM\")\n",
    "print(rand_x)\n",
    "zero_x = torch.zeros(2,2)\n",
    "print(\"ZEROS\")\n",
    "print(zero_x)\n",
    "one_x = torch.ones(2,3)\n",
    "print(\"ONES\")\n",
    "print(one_x)"
   ]
  },
  {
   "cell_type": "code",
   "execution_count": 4,
   "metadata": {},
   "outputs": [
    {
     "name": "stdout",
     "output_type": "stream",
     "text": [
      "NO ESPECIFICADO\n",
      "torch.float32\n",
      "ESPECIFICAO\n",
      "torch.float16\n"
     ]
    }
   ],
   "source": [
    "# especificar tipo de dato\n",
    "x = torch.rand(2,2)\n",
    "print(\"NO ESPECIFICADO\")\n",
    "print(x.dtype)\n",
    "x = torch.rand(2,2, dtype=torch.float16) #double,float16,int, etc...\n",
    "print(\"ESPECIFICAO\")\n",
    "print(x.dtype)"
   ]
  },
  {
   "cell_type": "code",
   "execution_count": 5,
   "metadata": {},
   "outputs": [
    {
     "name": "stdout",
     "output_type": "stream",
     "text": [
      "torch.Size([2, 2])\n"
     ]
    }
   ],
   "source": [
    "# size\n",
    "x = torch.rand(2,2)\n",
    "print(x.size())"
   ]
  },
  {
   "cell_type": "code",
   "execution_count": 6,
   "metadata": {},
   "outputs": [
    {
     "name": "stdout",
     "output_type": "stream",
     "text": [
      "tensor([2.5000, 0.1000])\n"
     ]
    }
   ],
   "source": [
    "# constuir tensor desde lista\n",
    "lista=[2.5,0.1]\n",
    "x = torch.tensor(lista)\n",
    "print(x)"
   ]
  },
  {
   "cell_type": "code",
   "execution_count": 7,
   "metadata": {},
   "outputs": [
    {
     "name": "stdout",
     "output_type": "stream",
     "text": [
      "tensor([[1, 1],\n",
      "        [2, 2]])\n",
      "tensor([[3, 3],\n",
      "        [4, 4]])\n",
      "SUMA (wise addition)\n",
      "tensor([[4, 4],\n",
      "        [6, 6]])\n",
      "tambien se puede sumar de estas maneras\n",
      "tensor([[4, 4],\n",
      "        [6, 6]])\n",
      "tensor([[4, 4],\n",
      "        [6, 6]])\n"
     ]
    }
   ],
   "source": [
    "# operaciones\n",
    "x = torch.tensor([[1,1],[2,2]])\n",
    "y = torch.tensor([[3,3],[4,4]])\n",
    "print(x)\n",
    "print(y)\n",
    "print(\"SUMA (wise addition)\")\n",
    "z = x + y\n",
    "print(z)\n",
    "print(\"tambien se puede sumar de estas maneras\")\n",
    "z = torch.add(x,y)\n",
    "print(z)\n",
    "y.add_(x)\n",
    "print(y)\n",
    "\n",
    "\n"
   ]
  },
  {
   "cell_type": "code",
   "execution_count": 8,
   "metadata": {},
   "outputs": [
    {
     "name": "stdout",
     "output_type": "stream",
     "text": [
      "lo mismo para otras operaciones\n",
      "resta\n",
      "tensor([[-2, -2],\n",
      "        [-2, -2]])\n",
      "tensor([[-2, -2],\n",
      "        [-2, -2]])\n",
      "multiplicacion\n",
      "tensor([[3, 3],\n",
      "        [8, 8]])\n",
      "tensor([[3, 3],\n",
      "        [8, 8]])\n",
      "division\n",
      "tensor([[0.3333, 0.3333],\n",
      "        [0.5000, 0.5000]])\n",
      "tensor([[0.3333, 0.3333],\n",
      "        [0.5000, 0.5000]])\n"
     ]
    }
   ],
   "source": [
    "print(\"lo mismo para otras operaciones\")\n",
    "print(\"resta\")\n",
    "x = torch.tensor([[1,1],[2,2]])\n",
    "y = torch.tensor([[3,3],[4,4]])\n",
    "z = x - y\n",
    "print(z)\n",
    "z = torch.sub(x,y)\n",
    "print(z)\n",
    "\n",
    "print(\"multiplicacion\")\n",
    "x = torch.tensor([[1,1],[2,2]])\n",
    "y = torch.tensor([[3,3],[4,4]])\n",
    "z = x * y\n",
    "print(z)\n",
    "z = torch.mul(x,y)\n",
    "print(z)\n",
    "\n",
    "print(\"division\")\n",
    "x = torch.tensor([[1,1],[2,2]])\n",
    "y = torch.tensor([[3,3],[4,4]])\n",
    "z = x / y\n",
    "print(z)\n",
    "z = torch.div(x,y)\n",
    "print(z)"
   ]
  },
  {
   "cell_type": "code",
   "execution_count": 9,
   "metadata": {},
   "outputs": [
    {
     "name": "stdout",
     "output_type": "stream",
     "text": [
      "al igual q en las listas o en los array podemos tomar cierta cantidad de arreglos\n",
      "tensor([[1.6340e-01, 2.3948e-02, 2.1202e-01],\n",
      "        [8.7774e-01, 3.5861e-01, 1.5219e-01],\n",
      "        [6.8710e-01, 1.4552e-01, 4.6609e-01],\n",
      "        [3.7665e-01, 9.2345e-01, 9.5619e-02],\n",
      "        [7.5889e-04, 5.9655e-01, 8.7550e-01]])\n",
      "tensor([1.6340e-01, 8.7774e-01, 6.8710e-01, 3.7665e-01, 7.5889e-04])\n",
      "tensor(0.3586)\n",
      "tensor([0.8777, 0.3586, 0.1522])\n",
      "0.3586078882217407\n",
      "por supuesto el reshape aqui llamado view, q es improtante\n",
      "tensor([1.6340e-01, 2.3948e-02, 2.1202e-01, 8.7774e-01, 3.5861e-01, 1.5219e-01,\n",
      "        6.8710e-01, 1.4552e-01, 4.6609e-01, 3.7665e-01, 9.2345e-01, 9.5619e-02,\n",
      "        7.5889e-04, 5.9655e-01, 8.7550e-01])\n",
      "tensor([1, 1, 2, 2])\n",
      "...................\n",
      "otro ejemplo\n",
      "tensor([[0.8492, 0.7535, 0.9794, 0.1725],\n",
      "        [0.1704, 0.3784, 0.9173, 0.9872],\n",
      "        [0.3129, 0.8009, 0.1578, 0.9679],\n",
      "        [0.6900, 0.7574, 0.0841, 0.4286]])\n",
      "tensor([0.8492, 0.7535, 0.9794, 0.1725, 0.1704, 0.3784, 0.9173, 0.9872, 0.3129,\n",
      "        0.8009, 0.1578, 0.9679, 0.6900, 0.7574, 0.0841, 0.4286])\n",
      "torch.Size([16])\n",
      "tensor([[0.8492, 0.7535, 0.9794, 0.1725, 0.1704, 0.3784, 0.9173, 0.9872],\n",
      "        [0.3129, 0.8009, 0.1578, 0.9679, 0.6900, 0.7574, 0.0841, 0.4286]])\n",
      "torch.Size([2, 8])\n"
     ]
    }
   ],
   "source": [
    "print(\"al igual q en las listas o en los array podemos tomar cierta cantidad de arreglos\")\n",
    "x = torch.rand(5,3)\n",
    "print(x)\n",
    "print(x[:,0])\n",
    "print(x[1,1])\n",
    "print(x[1,:])\n",
    "print(x[1,1].item()) #solo valor\n",
    "\n",
    "print(\"por supuesto el reshape aqui llamado view, q es improtante\")\n",
    "y = x.view(15)\n",
    "a = torch.tensor([[1,1],[2,2]])\n",
    "b = a.view(4)\n",
    "\n",
    "\n",
    "print(y)\n",
    "print(b)\n",
    "print(\"...................\")\n",
    "print(\"otro ejemplo\")\n",
    "j = torch.rand(4,4)\n",
    "print(j)\n",
    "k = j.view(16)\n",
    "print(k)\n",
    "print(k.size())\n",
    "k = j.view(-1, 8) # Especificar otro reshape\n",
    "print(k)\n",
    "print(k.size())"
   ]
  },
  {
   "cell_type": "code",
   "execution_count": 18,
   "metadata": {},
   "outputs": [
    {
     "name": "stdout",
     "output_type": "stream",
     "text": [
      "combinando con numpy\n",
      "1 - convertir a numpy\n",
      "tensor([1., 1., 1., 1., 1.])\n",
      "[1. 1. 1. 1. 1.]\n",
      "<class 'torch.Tensor'>\n",
      "<class 'numpy.ndarray'>\n",
      "2 - observe que el array creado tiene como referencia el primer tensor, entonces si operamos sobre el tensor, tambien se aplica al array\n",
      "tensor([2., 2., 2., 2., 2.])\n",
      "[2. 2. 2. 2. 2.]\n",
      "3 - pasar de numpy a torch tensor, si opero sobre el array pasa lo mismo\n",
      "[1. 1. 1. 1. 1.]\n",
      "tensor([1., 1., 1., 1., 1.], dtype=torch.float64)\n",
      "esto sucede porque el tensor esta en el GPU, y se puede desabilitar con CUDA\n",
      "[2. 2. 2. 2. 2.]\n",
      "tensor([1., 1., 1., 1., 1.], dtype=torch.float64)\n",
      "False\n"
     ]
    }
   ],
   "source": [
    "print(\"combinando con numpy\")\n",
    "print(\"1 - convertir a numpy\")\n",
    "a = torch.ones(5)\n",
    "print(a)\n",
    "b = a.numpy()\n",
    "print(b)\n",
    "print(type(a))\n",
    "print(type(b))\n",
    "\n",
    "print(\"2 - observe que el array creado tiene como referencia el primer tensor, entonces si operamos sobre el tensor, tambien se aplica al array\")\n",
    "a.add_(1)\n",
    "print(a)\n",
    "print(b)\n",
    "\n",
    "print(\"3 - pasar de numpy a torch tensor, si opero sobre el array podria pasar lo mismo de arriba\")\n",
    "a = np.ones(5)\n",
    "print(a)\n",
    "b = torch.from_numpy(a)\n",
    "print(b)\n",
    "print(\"si al operar en un array tambn cambia el tensor es xq CUDA esta habilitado (o alreves), esto es xq el tensor y sus operaciones estan haciendose en la GPU\")\n",
    "a = a + 1\n",
    "print(a)\n",
    "print(b)\n",
    "print(\"checkeando CUDA\")\n",
    "print(torch.cuda.is_available())\n",
    "\n"
   ]
  },
  {
   "cell_type": "code",
   "execution_count": 19,
   "metadata": {},
   "outputs": [
    {
     "name": "stdout",
     "output_type": "stream",
     "text": [
      "especificar el device de CUDA para crear tensor en la GPU, SOLO SI CUDA ESTA DISPONIBLE\n"
     ]
    }
   ],
   "source": [
    "print(\"especificar el device de CUDA para crear tensor en la GPU, SOLO SI CUDA ESTA DISPONIBLE\") \n",
    "if torch.cuda.is_available():\n",
    "    device = torch.device(\"cuda\")\n",
    "    x = toch.ones(5, device=device) #Crear un tensor en la GPU\n",
    "    #o mover a GPU\n",
    "    y = torch.ones(5)\n",
    "    y.to(device)\n",
    "    z = x+y\n",
    "    # LAS OPERACIONES REALIZADAS EN GPU SON MAS RAPIDASPERO...\n",
    "    ## SI OPERO CON NUMPY ENTREGARA ERROR, PUES...\n",
    "    #¡¡NUMPY SOLO PUEDE MANEJAR TENSORES EN CPU!!\"\n",
    "    # https://youtu.be/c36lUUr864M?list=RDCMUCbXgNpp0jedKWcQiULLbDTA&t=1440\n",
    "    \n",
    "    z = z.to(\"cpu\") # mover  CPU"
   ]
  },
  {
   "cell_type": "code",
   "execution_count": 25,
   "metadata": {},
   "outputs": [
    {
     "name": "stdout",
     "output_type": "stream",
     "text": [
      "a veces los tensores  requieren el argumento grad\n",
      "tensor([1., 1., 1., 1., 1.], requires_grad=True)\n",
      "esto le dice a pytorch que mas adelante necesitare calcular los gradientes de este tensor, lo que permite mayor optimizacion a la larga \n",
      "en general se usa harto (OJO, SI SE DEJA POR DEFECTO ENTONCES SERA FALSO)\n"
     ]
    }
   ],
   "source": [
    "print(\"a veces los tensores  requieren el argumento grad\")\n",
    "x = torch.ones(5, requires_grad=True)\n",
    "print(x)\n",
    "\n",
    "print(\"esto le dice a pytorch que mas adelante necesitare calcular los gradientes de este tensor, lo que permite mayor optimizacion a la larga \")\n",
    "print(\"en general se usa harto (OJO, SI SE DEJA POR DEFECTO ENTONCES SERA FALSO)\")"
   ]
  },
  {
   "cell_type": "code",
   "execution_count": null,
   "metadata": {},
   "outputs": [],
   "source": []
  }
 ],
 "metadata": {
  "kernelspec": {
   "display_name": "Python 3",
   "language": "python",
   "name": "python3"
  },
  "language_info": {
   "codemirror_mode": {
    "name": "ipython",
    "version": 3
   },
   "file_extension": ".py",
   "mimetype": "text/x-python",
   "name": "python",
   "nbconvert_exporter": "python",
   "pygments_lexer": "ipython3",
   "version": "3.6.8"
  }
 },
 "nbformat": 4,
 "nbformat_minor": 2
}
